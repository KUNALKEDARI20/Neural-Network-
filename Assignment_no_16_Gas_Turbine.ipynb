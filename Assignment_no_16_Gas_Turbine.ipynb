{
  "cells": [
    {
      "cell_type": "markdown",
      "metadata": {
        "id": "view-in-github",
        "colab_type": "text"
      },
      "source": [
        "<a href=\"https://colab.research.google.com/github/KUNALKEDARI20/Neural-Network-/blob/main/Assignment_no_16_Gas_Turbine.ipynb\" target=\"_parent\"><img src=\"https://colab.research.google.com/assets/colab-badge.svg\" alt=\"Open In Colab\"/></a>"
      ]
    },
    {
      "cell_type": "markdown",
      "id": "d4292d1f",
      "metadata": {
        "id": "d4292d1f"
      },
      "source": [
        "## Problem Statement\n",
        "Predicting Turbine Energy Yield (TEY) using ambient variables as features."
      ]
    },
    {
      "cell_type": "markdown",
      "id": "92b234e4",
      "metadata": {
        "id": "92b234e4"
      },
      "source": [
        "## 1. Import Libraries"
      ]
    },
    {
      "cell_type": "code",
      "source": [
        "pip install tensorflow"
      ],
      "metadata": {
        "id": "EK6CUcs1-RO8"
      },
      "id": "EK6CUcs1-RO8",
      "execution_count": null,
      "outputs": []
    },
    {
      "cell_type": "code",
      "source": [
        "pip install keras==2.12.0"
      ],
      "metadata": {
        "colab": {
          "base_uri": "https://localhost:8080/"
        },
        "id": "I1O0_4zC-Puf",
        "outputId": "75606a80-89f3-454b-b0bf-3c2266c3073f"
      },
      "id": "I1O0_4zC-Puf",
      "execution_count": 2,
      "outputs": [
        {
          "output_type": "stream",
          "name": "stdout",
          "text": [
            "Collecting keras==2.12.0\n",
            "  Using cached keras-2.12.0-py2.py3-none-any.whl (1.7 MB)\n",
            "Installing collected packages: keras\n",
            "  Attempting uninstall: keras\n",
            "    Found existing installation: keras 2.15.0\n",
            "    Uninstalling keras-2.15.0:\n",
            "      Successfully uninstalled keras-2.15.0\n",
            "\u001b[31mERROR: pip's dependency resolver does not currently take into account all the packages that are installed. This behaviour is the source of the following dependency conflicts.\n",
            "tensorflow 2.15.0 requires keras<2.16,>=2.15.0, but you have keras 2.12.0 which is incompatible.\u001b[0m\u001b[31m\n",
            "\u001b[0mSuccessfully installed keras-2.12.0\n"
          ]
        }
      ]
    },
    {
      "cell_type": "code",
      "source": [
        "pip install keras-tuner\n"
      ],
      "metadata": {
        "colab": {
          "base_uri": "https://localhost:8080/"
        },
        "id": "bglDXx-l_WYt",
        "outputId": "855a6553-fdf6-4fc2-d33c-11111bf25363"
      },
      "id": "bglDXx-l_WYt",
      "execution_count": null,
      "outputs": [
        {
          "output_type": "stream",
          "name": "stdout",
          "text": [
            "Requirement already satisfied: keras-tuner in /usr/local/lib/python3.10/dist-packages (1.4.6)\n",
            "Requirement already satisfied: keras in /usr/local/lib/python3.10/dist-packages (from keras-tuner) (2.12.0)\n",
            "Requirement already satisfied: packaging in /usr/local/lib/python3.10/dist-packages (from keras-tuner) (23.2)\n",
            "Requirement already satisfied: requests in /usr/local/lib/python3.10/dist-packages (from keras-tuner) (2.31.0)\n",
            "Requirement already satisfied: kt-legacy in /usr/local/lib/python3.10/dist-packages (from keras-tuner) (1.0.5)\n",
            "Requirement already satisfied: charset-normalizer<4,>=2 in /usr/local/lib/python3.10/dist-packages (from requests->keras-tuner) (3.3.2)\n",
            "Requirement already satisfied: idna<4,>=2.5 in /usr/local/lib/python3.10/dist-packages (from requests->keras-tuner) (3.6)\n",
            "Requirement already satisfied: urllib3<3,>=1.21.1 in /usr/local/lib/python3.10/dist-packages (from requests->keras-tuner) (2.0.7)\n",
            "Requirement already satisfied: certifi>=2017.4.17 in /usr/local/lib/python3.10/dist-packages (from requests->keras-tuner) (2024.2.2)\n"
          ]
        }
      ]
    },
    {
      "cell_type": "code",
      "execution_count": null,
      "id": "65e87403",
      "metadata": {
        "id": "65e87403"
      },
      "outputs": [],
      "source": [
        "import numpy as np\n",
        "import pandas as pd\n",
        "import seaborn as sns\n",
        "import matplotlib.pyplot as plt\n",
        "\n",
        "from collections import Counter\n",
        "from sklearn.preprocessing import LabelEncoder\n",
        "from sklearn.feature_selection import SelectKBest\n",
        "from sklearn.metrics import confusion_matrix as cm\n",
        "from sklearn.model_selection import train_test_split\n",
        "from sklearn.metrics import roc_curve, roc_auc_score\n",
        "from sklearn.model_selection import GridSearchCV, KFold\n",
        "\n",
        "from tensorflow import keras\n",
        "from keras.layers import Dense\n",
        "from keras.layers import Dropout\n",
        "from keras.optimizers import Adam\n",
        "from tensorflow.keras import layers\n",
        "from keras.models import Sequential\n",
        "from keras_tuner.tuners import RandomSearch\n",
        "from keras.wrappers.scikit_learn import KerasClassifier, KerasRegressor\n",
        "\n",
        "import warnings\n",
        "warnings.filterwarnings('ignore')"
      ]
    },
    {
      "cell_type": "markdown",
      "id": "9bfa072e",
      "metadata": {
        "id": "9bfa072e"
      },
      "source": [
        "## 2. Import Dataset"
      ]
    },
    {
      "cell_type": "code",
      "execution_count": null,
      "id": "2d460edc",
      "metadata": {
        "colab": {
          "base_uri": "https://localhost:8080/",
          "height": 423
        },
        "id": "2d460edc",
        "outputId": "eb93b634-b7f4-4a85-d231-e057a70c6eef"
      },
      "outputs": [
        {
          "output_type": "execute_result",
          "data": {
            "text/plain": [
              "           AT      AP      AH    AFDP    GTEP     TIT     TAT     TEY     CDP  \\\n",
              "0      6.8594  1007.9  96.799  3.5000  19.663  1059.2  550.00  114.70  10.605   \n",
              "1      6.7850  1008.4  97.118  3.4998  19.728  1059.3  550.00  114.72  10.598   \n",
              "2      6.8977  1008.8  95.939  3.4824  19.779  1059.4  549.87  114.71  10.601   \n",
              "3      7.0569  1009.2  95.249  3.4805  19.792  1059.6  549.99  114.72  10.606   \n",
              "4      7.3978  1009.7  95.150  3.4976  19.765  1059.7  549.98  114.72  10.612   \n",
              "...       ...     ...     ...     ...     ...     ...     ...     ...     ...   \n",
              "15034  9.0301  1005.6  98.460  3.5421  19.164  1049.7  546.21  111.61  10.400   \n",
              "15035  7.8879  1005.9  99.093  3.5059  19.414  1046.3  543.22  111.78  10.433   \n",
              "15036  7.2647  1006.3  99.496  3.4770  19.530  1037.7  537.32  110.19  10.483   \n",
              "15037  7.0060  1006.8  99.008  3.4486  19.377  1043.2  541.24  110.74  10.533   \n",
              "15038  6.9279  1007.2  97.533  3.4275  19.306  1049.9  545.85  111.58  10.583   \n",
              "\n",
              "           CO     NOX  \n",
              "0      3.1547  82.722  \n",
              "1      3.2363  82.776  \n",
              "2      3.2012  82.468  \n",
              "3      3.1923  82.670  \n",
              "4      3.2484  82.311  \n",
              "...       ...     ...  \n",
              "15034  4.5186  79.559  \n",
              "15035  4.8470  79.917  \n",
              "15036  7.9632  90.912  \n",
              "15037  6.2494  93.227  \n",
              "15038  4.9816  92.498  \n",
              "\n",
              "[15039 rows x 11 columns]"
            ],
            "text/html": [
              "\n",
              "  <div id=\"df-4b825476-6239-4471-927e-5b1570ba369e\" class=\"colab-df-container\">\n",
              "    <div>\n",
              "<style scoped>\n",
              "    .dataframe tbody tr th:only-of-type {\n",
              "        vertical-align: middle;\n",
              "    }\n",
              "\n",
              "    .dataframe tbody tr th {\n",
              "        vertical-align: top;\n",
              "    }\n",
              "\n",
              "    .dataframe thead th {\n",
              "        text-align: right;\n",
              "    }\n",
              "</style>\n",
              "<table border=\"1\" class=\"dataframe\">\n",
              "  <thead>\n",
              "    <tr style=\"text-align: right;\">\n",
              "      <th></th>\n",
              "      <th>AT</th>\n",
              "      <th>AP</th>\n",
              "      <th>AH</th>\n",
              "      <th>AFDP</th>\n",
              "      <th>GTEP</th>\n",
              "      <th>TIT</th>\n",
              "      <th>TAT</th>\n",
              "      <th>TEY</th>\n",
              "      <th>CDP</th>\n",
              "      <th>CO</th>\n",
              "      <th>NOX</th>\n",
              "    </tr>\n",
              "  </thead>\n",
              "  <tbody>\n",
              "    <tr>\n",
              "      <th>0</th>\n",
              "      <td>6.8594</td>\n",
              "      <td>1007.9</td>\n",
              "      <td>96.799</td>\n",
              "      <td>3.5000</td>\n",
              "      <td>19.663</td>\n",
              "      <td>1059.2</td>\n",
              "      <td>550.00</td>\n",
              "      <td>114.70</td>\n",
              "      <td>10.605</td>\n",
              "      <td>3.1547</td>\n",
              "      <td>82.722</td>\n",
              "    </tr>\n",
              "    <tr>\n",
              "      <th>1</th>\n",
              "      <td>6.7850</td>\n",
              "      <td>1008.4</td>\n",
              "      <td>97.118</td>\n",
              "      <td>3.4998</td>\n",
              "      <td>19.728</td>\n",
              "      <td>1059.3</td>\n",
              "      <td>550.00</td>\n",
              "      <td>114.72</td>\n",
              "      <td>10.598</td>\n",
              "      <td>3.2363</td>\n",
              "      <td>82.776</td>\n",
              "    </tr>\n",
              "    <tr>\n",
              "      <th>2</th>\n",
              "      <td>6.8977</td>\n",
              "      <td>1008.8</td>\n",
              "      <td>95.939</td>\n",
              "      <td>3.4824</td>\n",
              "      <td>19.779</td>\n",
              "      <td>1059.4</td>\n",
              "      <td>549.87</td>\n",
              "      <td>114.71</td>\n",
              "      <td>10.601</td>\n",
              "      <td>3.2012</td>\n",
              "      <td>82.468</td>\n",
              "    </tr>\n",
              "    <tr>\n",
              "      <th>3</th>\n",
              "      <td>7.0569</td>\n",
              "      <td>1009.2</td>\n",
              "      <td>95.249</td>\n",
              "      <td>3.4805</td>\n",
              "      <td>19.792</td>\n",
              "      <td>1059.6</td>\n",
              "      <td>549.99</td>\n",
              "      <td>114.72</td>\n",
              "      <td>10.606</td>\n",
              "      <td>3.1923</td>\n",
              "      <td>82.670</td>\n",
              "    </tr>\n",
              "    <tr>\n",
              "      <th>4</th>\n",
              "      <td>7.3978</td>\n",
              "      <td>1009.7</td>\n",
              "      <td>95.150</td>\n",
              "      <td>3.4976</td>\n",
              "      <td>19.765</td>\n",
              "      <td>1059.7</td>\n",
              "      <td>549.98</td>\n",
              "      <td>114.72</td>\n",
              "      <td>10.612</td>\n",
              "      <td>3.2484</td>\n",
              "      <td>82.311</td>\n",
              "    </tr>\n",
              "    <tr>\n",
              "      <th>...</th>\n",
              "      <td>...</td>\n",
              "      <td>...</td>\n",
              "      <td>...</td>\n",
              "      <td>...</td>\n",
              "      <td>...</td>\n",
              "      <td>...</td>\n",
              "      <td>...</td>\n",
              "      <td>...</td>\n",
              "      <td>...</td>\n",
              "      <td>...</td>\n",
              "      <td>...</td>\n",
              "    </tr>\n",
              "    <tr>\n",
              "      <th>15034</th>\n",
              "      <td>9.0301</td>\n",
              "      <td>1005.6</td>\n",
              "      <td>98.460</td>\n",
              "      <td>3.5421</td>\n",
              "      <td>19.164</td>\n",
              "      <td>1049.7</td>\n",
              "      <td>546.21</td>\n",
              "      <td>111.61</td>\n",
              "      <td>10.400</td>\n",
              "      <td>4.5186</td>\n",
              "      <td>79.559</td>\n",
              "    </tr>\n",
              "    <tr>\n",
              "      <th>15035</th>\n",
              "      <td>7.8879</td>\n",
              "      <td>1005.9</td>\n",
              "      <td>99.093</td>\n",
              "      <td>3.5059</td>\n",
              "      <td>19.414</td>\n",
              "      <td>1046.3</td>\n",
              "      <td>543.22</td>\n",
              "      <td>111.78</td>\n",
              "      <td>10.433</td>\n",
              "      <td>4.8470</td>\n",
              "      <td>79.917</td>\n",
              "    </tr>\n",
              "    <tr>\n",
              "      <th>15036</th>\n",
              "      <td>7.2647</td>\n",
              "      <td>1006.3</td>\n",
              "      <td>99.496</td>\n",
              "      <td>3.4770</td>\n",
              "      <td>19.530</td>\n",
              "      <td>1037.7</td>\n",
              "      <td>537.32</td>\n",
              "      <td>110.19</td>\n",
              "      <td>10.483</td>\n",
              "      <td>7.9632</td>\n",
              "      <td>90.912</td>\n",
              "    </tr>\n",
              "    <tr>\n",
              "      <th>15037</th>\n",
              "      <td>7.0060</td>\n",
              "      <td>1006.8</td>\n",
              "      <td>99.008</td>\n",
              "      <td>3.4486</td>\n",
              "      <td>19.377</td>\n",
              "      <td>1043.2</td>\n",
              "      <td>541.24</td>\n",
              "      <td>110.74</td>\n",
              "      <td>10.533</td>\n",
              "      <td>6.2494</td>\n",
              "      <td>93.227</td>\n",
              "    </tr>\n",
              "    <tr>\n",
              "      <th>15038</th>\n",
              "      <td>6.9279</td>\n",
              "      <td>1007.2</td>\n",
              "      <td>97.533</td>\n",
              "      <td>3.4275</td>\n",
              "      <td>19.306</td>\n",
              "      <td>1049.9</td>\n",
              "      <td>545.85</td>\n",
              "      <td>111.58</td>\n",
              "      <td>10.583</td>\n",
              "      <td>4.9816</td>\n",
              "      <td>92.498</td>\n",
              "    </tr>\n",
              "  </tbody>\n",
              "</table>\n",
              "<p>15039 rows × 11 columns</p>\n",
              "</div>\n",
              "    <div class=\"colab-df-buttons\">\n",
              "\n",
              "  <div class=\"colab-df-container\">\n",
              "    <button class=\"colab-df-convert\" onclick=\"convertToInteractive('df-4b825476-6239-4471-927e-5b1570ba369e')\"\n",
              "            title=\"Convert this dataframe to an interactive table.\"\n",
              "            style=\"display:none;\">\n",
              "\n",
              "  <svg xmlns=\"http://www.w3.org/2000/svg\" height=\"24px\" viewBox=\"0 -960 960 960\">\n",
              "    <path d=\"M120-120v-720h720v720H120Zm60-500h600v-160H180v160Zm220 220h160v-160H400v160Zm0 220h160v-160H400v160ZM180-400h160v-160H180v160Zm440 0h160v-160H620v160ZM180-180h160v-160H180v160Zm440 0h160v-160H620v160Z\"/>\n",
              "  </svg>\n",
              "    </button>\n",
              "\n",
              "  <style>\n",
              "    .colab-df-container {\n",
              "      display:flex;\n",
              "      gap: 12px;\n",
              "    }\n",
              "\n",
              "    .colab-df-convert {\n",
              "      background-color: #E8F0FE;\n",
              "      border: none;\n",
              "      border-radius: 50%;\n",
              "      cursor: pointer;\n",
              "      display: none;\n",
              "      fill: #1967D2;\n",
              "      height: 32px;\n",
              "      padding: 0 0 0 0;\n",
              "      width: 32px;\n",
              "    }\n",
              "\n",
              "    .colab-df-convert:hover {\n",
              "      background-color: #E2EBFA;\n",
              "      box-shadow: 0px 1px 2px rgba(60, 64, 67, 0.3), 0px 1px 3px 1px rgba(60, 64, 67, 0.15);\n",
              "      fill: #174EA6;\n",
              "    }\n",
              "\n",
              "    .colab-df-buttons div {\n",
              "      margin-bottom: 4px;\n",
              "    }\n",
              "\n",
              "    [theme=dark] .colab-df-convert {\n",
              "      background-color: #3B4455;\n",
              "      fill: #D2E3FC;\n",
              "    }\n",
              "\n",
              "    [theme=dark] .colab-df-convert:hover {\n",
              "      background-color: #434B5C;\n",
              "      box-shadow: 0px 1px 3px 1px rgba(0, 0, 0, 0.15);\n",
              "      filter: drop-shadow(0px 1px 2px rgba(0, 0, 0, 0.3));\n",
              "      fill: #FFFFFF;\n",
              "    }\n",
              "  </style>\n",
              "\n",
              "    <script>\n",
              "      const buttonEl =\n",
              "        document.querySelector('#df-4b825476-6239-4471-927e-5b1570ba369e button.colab-df-convert');\n",
              "      buttonEl.style.display =\n",
              "        google.colab.kernel.accessAllowed ? 'block' : 'none';\n",
              "\n",
              "      async function convertToInteractive(key) {\n",
              "        const element = document.querySelector('#df-4b825476-6239-4471-927e-5b1570ba369e');\n",
              "        const dataTable =\n",
              "          await google.colab.kernel.invokeFunction('convertToInteractive',\n",
              "                                                    [key], {});\n",
              "        if (!dataTable) return;\n",
              "\n",
              "        const docLinkHtml = 'Like what you see? Visit the ' +\n",
              "          '<a target=\"_blank\" href=https://colab.research.google.com/notebooks/data_table.ipynb>data table notebook</a>'\n",
              "          + ' to learn more about interactive tables.';\n",
              "        element.innerHTML = '';\n",
              "        dataTable['output_type'] = 'display_data';\n",
              "        await google.colab.output.renderOutput(dataTable, element);\n",
              "        const docLink = document.createElement('div');\n",
              "        docLink.innerHTML = docLinkHtml;\n",
              "        element.appendChild(docLink);\n",
              "      }\n",
              "    </script>\n",
              "  </div>\n",
              "\n",
              "\n",
              "<div id=\"df-bb7f285c-f2b5-49f9-bfd6-14fe17111187\">\n",
              "  <button class=\"colab-df-quickchart\" onclick=\"quickchart('df-bb7f285c-f2b5-49f9-bfd6-14fe17111187')\"\n",
              "            title=\"Suggest charts\"\n",
              "            style=\"display:none;\">\n",
              "\n",
              "<svg xmlns=\"http://www.w3.org/2000/svg\" height=\"24px\"viewBox=\"0 0 24 24\"\n",
              "     width=\"24px\">\n",
              "    <g>\n",
              "        <path d=\"M19 3H5c-1.1 0-2 .9-2 2v14c0 1.1.9 2 2 2h14c1.1 0 2-.9 2-2V5c0-1.1-.9-2-2-2zM9 17H7v-7h2v7zm4 0h-2V7h2v10zm4 0h-2v-4h2v4z\"/>\n",
              "    </g>\n",
              "</svg>\n",
              "  </button>\n",
              "\n",
              "<style>\n",
              "  .colab-df-quickchart {\n",
              "      --bg-color: #E8F0FE;\n",
              "      --fill-color: #1967D2;\n",
              "      --hover-bg-color: #E2EBFA;\n",
              "      --hover-fill-color: #174EA6;\n",
              "      --disabled-fill-color: #AAA;\n",
              "      --disabled-bg-color: #DDD;\n",
              "  }\n",
              "\n",
              "  [theme=dark] .colab-df-quickchart {\n",
              "      --bg-color: #3B4455;\n",
              "      --fill-color: #D2E3FC;\n",
              "      --hover-bg-color: #434B5C;\n",
              "      --hover-fill-color: #FFFFFF;\n",
              "      --disabled-bg-color: #3B4455;\n",
              "      --disabled-fill-color: #666;\n",
              "  }\n",
              "\n",
              "  .colab-df-quickchart {\n",
              "    background-color: var(--bg-color);\n",
              "    border: none;\n",
              "    border-radius: 50%;\n",
              "    cursor: pointer;\n",
              "    display: none;\n",
              "    fill: var(--fill-color);\n",
              "    height: 32px;\n",
              "    padding: 0;\n",
              "    width: 32px;\n",
              "  }\n",
              "\n",
              "  .colab-df-quickchart:hover {\n",
              "    background-color: var(--hover-bg-color);\n",
              "    box-shadow: 0 1px 2px rgba(60, 64, 67, 0.3), 0 1px 3px 1px rgba(60, 64, 67, 0.15);\n",
              "    fill: var(--button-hover-fill-color);\n",
              "  }\n",
              "\n",
              "  .colab-df-quickchart-complete:disabled,\n",
              "  .colab-df-quickchart-complete:disabled:hover {\n",
              "    background-color: var(--disabled-bg-color);\n",
              "    fill: var(--disabled-fill-color);\n",
              "    box-shadow: none;\n",
              "  }\n",
              "\n",
              "  .colab-df-spinner {\n",
              "    border: 2px solid var(--fill-color);\n",
              "    border-color: transparent;\n",
              "    border-bottom-color: var(--fill-color);\n",
              "    animation:\n",
              "      spin 1s steps(1) infinite;\n",
              "  }\n",
              "\n",
              "  @keyframes spin {\n",
              "    0% {\n",
              "      border-color: transparent;\n",
              "      border-bottom-color: var(--fill-color);\n",
              "      border-left-color: var(--fill-color);\n",
              "    }\n",
              "    20% {\n",
              "      border-color: transparent;\n",
              "      border-left-color: var(--fill-color);\n",
              "      border-top-color: var(--fill-color);\n",
              "    }\n",
              "    30% {\n",
              "      border-color: transparent;\n",
              "      border-left-color: var(--fill-color);\n",
              "      border-top-color: var(--fill-color);\n",
              "      border-right-color: var(--fill-color);\n",
              "    }\n",
              "    40% {\n",
              "      border-color: transparent;\n",
              "      border-right-color: var(--fill-color);\n",
              "      border-top-color: var(--fill-color);\n",
              "    }\n",
              "    60% {\n",
              "      border-color: transparent;\n",
              "      border-right-color: var(--fill-color);\n",
              "    }\n",
              "    80% {\n",
              "      border-color: transparent;\n",
              "      border-right-color: var(--fill-color);\n",
              "      border-bottom-color: var(--fill-color);\n",
              "    }\n",
              "    90% {\n",
              "      border-color: transparent;\n",
              "      border-bottom-color: var(--fill-color);\n",
              "    }\n",
              "  }\n",
              "</style>\n",
              "\n",
              "  <script>\n",
              "    async function quickchart(key) {\n",
              "      const quickchartButtonEl =\n",
              "        document.querySelector('#' + key + ' button');\n",
              "      quickchartButtonEl.disabled = true;  // To prevent multiple clicks.\n",
              "      quickchartButtonEl.classList.add('colab-df-spinner');\n",
              "      try {\n",
              "        const charts = await google.colab.kernel.invokeFunction(\n",
              "            'suggestCharts', [key], {});\n",
              "      } catch (error) {\n",
              "        console.error('Error during call to suggestCharts:', error);\n",
              "      }\n",
              "      quickchartButtonEl.classList.remove('colab-df-spinner');\n",
              "      quickchartButtonEl.classList.add('colab-df-quickchart-complete');\n",
              "    }\n",
              "    (() => {\n",
              "      let quickchartButtonEl =\n",
              "        document.querySelector('#df-bb7f285c-f2b5-49f9-bfd6-14fe17111187 button');\n",
              "      quickchartButtonEl.style.display =\n",
              "        google.colab.kernel.accessAllowed ? 'block' : 'none';\n",
              "    })();\n",
              "  </script>\n",
              "</div>\n",
              "\n",
              "  <div id=\"id_cdc5d810-b6d6-4871-91cf-dc26b4f60b73\">\n",
              "    <style>\n",
              "      .colab-df-generate {\n",
              "        background-color: #E8F0FE;\n",
              "        border: none;\n",
              "        border-radius: 50%;\n",
              "        cursor: pointer;\n",
              "        display: none;\n",
              "        fill: #1967D2;\n",
              "        height: 32px;\n",
              "        padding: 0 0 0 0;\n",
              "        width: 32px;\n",
              "      }\n",
              "\n",
              "      .colab-df-generate:hover {\n",
              "        background-color: #E2EBFA;\n",
              "        box-shadow: 0px 1px 2px rgba(60, 64, 67, 0.3), 0px 1px 3px 1px rgba(60, 64, 67, 0.15);\n",
              "        fill: #174EA6;\n",
              "      }\n",
              "\n",
              "      [theme=dark] .colab-df-generate {\n",
              "        background-color: #3B4455;\n",
              "        fill: #D2E3FC;\n",
              "      }\n",
              "\n",
              "      [theme=dark] .colab-df-generate:hover {\n",
              "        background-color: #434B5C;\n",
              "        box-shadow: 0px 1px 3px 1px rgba(0, 0, 0, 0.15);\n",
              "        filter: drop-shadow(0px 1px 2px rgba(0, 0, 0, 0.3));\n",
              "        fill: #FFFFFF;\n",
              "      }\n",
              "    </style>\n",
              "    <button class=\"colab-df-generate\" onclick=\"generateWithVariable('df')\"\n",
              "            title=\"Generate code using this dataframe.\"\n",
              "            style=\"display:none;\">\n",
              "\n",
              "  <svg xmlns=\"http://www.w3.org/2000/svg\" height=\"24px\"viewBox=\"0 0 24 24\"\n",
              "       width=\"24px\">\n",
              "    <path d=\"M7,19H8.4L18.45,9,17,7.55,7,17.6ZM5,21V16.75L18.45,3.32a2,2,0,0,1,2.83,0l1.4,1.43a1.91,1.91,0,0,1,.58,1.4,1.91,1.91,0,0,1-.58,1.4L9.25,21ZM18.45,9,17,7.55Zm-12,3A5.31,5.31,0,0,0,4.9,8.1,5.31,5.31,0,0,0,1,6.5,5.31,5.31,0,0,0,4.9,4.9,5.31,5.31,0,0,0,6.5,1,5.31,5.31,0,0,0,8.1,4.9,5.31,5.31,0,0,0,12,6.5,5.46,5.46,0,0,0,6.5,12Z\"/>\n",
              "  </svg>\n",
              "    </button>\n",
              "    <script>\n",
              "      (() => {\n",
              "      const buttonEl =\n",
              "        document.querySelector('#id_cdc5d810-b6d6-4871-91cf-dc26b4f60b73 button.colab-df-generate');\n",
              "      buttonEl.style.display =\n",
              "        google.colab.kernel.accessAllowed ? 'block' : 'none';\n",
              "\n",
              "      buttonEl.onclick = () => {\n",
              "        google.colab.notebook.generateWithVariable('df');\n",
              "      }\n",
              "      })();\n",
              "    </script>\n",
              "  </div>\n",
              "\n",
              "    </div>\n",
              "  </div>\n"
            ],
            "application/vnd.google.colaboratory.intrinsic+json": {
              "type": "dataframe",
              "variable_name": "df",
              "summary": "{\n  \"name\": \"df\",\n  \"rows\": 15039,\n  \"fields\": [\n    {\n      \"column\": \"AT\",\n      \"properties\": {\n        \"dtype\": \"number\",\n        \"std\": 7.574322687875509,\n        \"min\": 0.5223,\n        \"max\": 34.929,\n        \"num_unique_values\": 12086,\n        \"samples\": [\n          8.1642,\n          5.7371,\n          9.1345\n        ],\n        \"semantic_type\": \"\",\n        \"description\": \"\"\n      }\n    },\n    {\n      \"column\": \"AP\",\n      \"properties\": {\n        \"dtype\": \"number\",\n        \"std\": 6.410760279473945,\n        \"min\": 985.85,\n        \"max\": 1034.2,\n        \"num_unique_values\": 540,\n        \"samples\": [\n          1000.6,\n          998.76,\n          1031.0\n        ],\n        \"semantic_type\": \"\",\n        \"description\": \"\"\n      }\n    },\n    {\n      \"column\": \"AH\",\n      \"properties\": {\n        \"dtype\": \"number\",\n        \"std\": 13.793439179623817,\n        \"min\": 30.344,\n        \"max\": 100.2,\n        \"num_unique_values\": 12637,\n        \"samples\": [\n          82.691,\n          67.866,\n          86.165\n        ],\n        \"semantic_type\": \"\",\n        \"description\": \"\"\n      }\n    },\n    {\n      \"column\": \"AFDP\",\n      \"properties\": {\n        \"dtype\": \"number\",\n        \"std\": 0.7601966070003089,\n        \"min\": 2.0874,\n        \"max\": 7.6106,\n        \"num_unique_values\": 11314,\n        \"samples\": [\n          5.3757,\n          4.2374,\n          2.8385\n        ],\n        \"semantic_type\": \"\",\n        \"description\": \"\"\n      }\n    },\n    {\n      \"column\": \"GTEP\",\n      \"properties\": {\n        \"dtype\": \"number\",\n        \"std\": 4.1739156411582865,\n        \"min\": 17.878,\n        \"max\": 37.402,\n        \"num_unique_values\": 8234,\n        \"samples\": [\n          19.958,\n          25.172,\n          31.306\n        ],\n        \"semantic_type\": \"\",\n        \"description\": \"\"\n      }\n    },\n    {\n      \"column\": \"TIT\",\n      \"properties\": {\n        \"dtype\": \"number\",\n        \"std\": 16.527805560509144,\n        \"min\": 1000.8,\n        \"max\": 1100.8,\n        \"num_unique_values\": 706,\n        \"samples\": [\n          1058.7,\n          1089.8,\n          1083.2\n        ],\n        \"semantic_type\": \"\",\n        \"description\": \"\"\n      }\n    },\n    {\n      \"column\": \"TAT\",\n      \"properties\": {\n        \"dtype\": \"number\",\n        \"std\": 7.866802764617584,\n        \"min\": 512.45,\n        \"max\": 550.61,\n        \"num_unique_values\": 2340,\n        \"samples\": [\n          523.02,\n          548.04,\n          546.77\n        ],\n        \"semantic_type\": \"\",\n        \"description\": \"\"\n      }\n    },\n    {\n      \"column\": \"TEY\",\n      \"properties\": {\n        \"dtype\": \"number\",\n        \"std\": 15.8297173034807,\n        \"min\": 100.17,\n        \"max\": 174.61,\n        \"num_unique_values\": 4207,\n        \"samples\": [\n          150.27,\n          103.79,\n          162.17\n        ],\n        \"semantic_type\": \"\",\n        \"description\": \"\"\n      }\n    },\n    {\n      \"column\": \"CDP\",\n      \"properties\": {\n        \"dtype\": \"number\",\n        \"std\": 1.1031964742249722,\n        \"min\": 9.9044,\n        \"max\": 15.081,\n        \"num_unique_values\": 3611,\n        \"samples\": [\n          10.049,\n          14.014,\n          12.124\n        ],\n        \"semantic_type\": \"\",\n        \"description\": \"\"\n      }\n    },\n    {\n      \"column\": \"CO\",\n      \"properties\": {\n        \"dtype\": \"number\",\n        \"std\": 2.2222060306042573,\n        \"min\": 0.00038751,\n        \"max\": 44.103,\n        \"num_unique_values\": 13096,\n        \"samples\": [\n          0.20501,\n          0.40171,\n          0.57927\n        ],\n        \"semantic_type\": \"\",\n        \"description\": \"\"\n      }\n    },\n    {\n      \"column\": \"NOX\",\n      \"properties\": {\n        \"dtype\": \"number\",\n        \"std\": 10.470585873493848,\n        \"min\": 27.765,\n        \"max\": 119.89,\n        \"num_unique_values\": 11996,\n        \"samples\": [\n          84.471,\n          63.884,\n          63.764\n        ],\n        \"semantic_type\": \"\",\n        \"description\": \"\"\n      }\n    }\n  ]\n}"
            }
          },
          "metadata": {},
          "execution_count": 5
        }
      ],
      "source": [
        "df = pd.read_csv('gas_turbines.csv')\n",
        "df"
      ]
    },
    {
      "cell_type": "markdown",
      "id": "59607b9e",
      "metadata": {
        "id": "59607b9e"
      },
      "source": [
        "## About Dataset\n",
        "* The dataset contains 36733 instances of 11 sensor measures aggregated over one hour (by means of average or sum) from a gas turbine.\n",
        "* The Dataset includes gas turbine parameters (such as Turbine Inlet Temperature and Compressor Discharge pressure) in addition to the ambient variables.\n",
        "\n",
        "### Attribute Information:\n",
        "#### The explanations of sensor measurements and their brief statistics are given below.\n",
        "\n",
        "* Variable (Abbr) Unit Min Max Mean\n",
        "* Ambient temperature (AT) C â€“6.23 37.10 17.71\n",
        "* Ambient pressure (AP) mbar 985.85 1036.56 1013.07\n",
        "* Ambient humidity (AH) (%) 24.08 100.20 77.87\n",
        "* Air filter difference pressure (AFDP) mbar 2.09 7.61 3.93\n",
        "* Gas turbine exhaust pressure (GTEP) mbar 17.70 40.72 25.56\n",
        "* Turbine inlet temperature (TIT) C 1000.85 1100.89 1081.43\n",
        "* Turbine after temperature (TAT) C 511.04 550.61 546.16\n",
        "* Compressor discharge pressure (CDP) mbar 9.85 15.16 12.06\n",
        "* Turbine energy yield (TEY) MWH 100.02 179.50 133.51\n",
        "* Carbon monoxide (CO) mg/m3 0.00 44.10 2.37\n",
        "* Nitrogen oxides (NOx) mg/m3 25.90 119.91 65.29"
      ]
    },
    {
      "cell_type": "markdown",
      "id": "97d0bb39",
      "metadata": {
        "id": "97d0bb39"
      },
      "source": [
        "## 3. Data Exploration"
      ]
    },
    {
      "cell_type": "code",
      "execution_count": null,
      "id": "9efa7f7c",
      "metadata": {
        "colab": {
          "base_uri": "https://localhost:8080/"
        },
        "id": "9efa7f7c",
        "outputId": "28216880-4c67-4f86-e27f-1e701ee69964"
      },
      "outputs": [
        {
          "output_type": "execute_result",
          "data": {
            "text/plain": [
              "AT      False\n",
              "AP      False\n",
              "AH      False\n",
              "AFDP    False\n",
              "GTEP    False\n",
              "TIT     False\n",
              "TAT     False\n",
              "TEY     False\n",
              "CDP     False\n",
              "CO      False\n",
              "NOX     False\n",
              "dtype: bool"
            ]
          },
          "metadata": {},
          "execution_count": 6
        }
      ],
      "source": [
        "df.isnull().any()"
      ]
    },
    {
      "cell_type": "code",
      "execution_count": null,
      "id": "74a20034",
      "metadata": {
        "colab": {
          "base_uri": "https://localhost:8080/"
        },
        "id": "74a20034",
        "outputId": "2940c6c6-2be4-48c0-a5a1-d582b28ee267"
      },
      "outputs": [
        {
          "output_type": "execute_result",
          "data": {
            "text/plain": [
              "AT      0\n",
              "AP      0\n",
              "AH      0\n",
              "AFDP    0\n",
              "GTEP    0\n",
              "TIT     0\n",
              "TAT     0\n",
              "TEY     0\n",
              "CDP     0\n",
              "CO      0\n",
              "NOX     0\n",
              "dtype: int64"
            ]
          },
          "metadata": {},
          "execution_count": 7
        }
      ],
      "source": [
        "df.isnull().sum()"
      ]
    },
    {
      "cell_type": "markdown",
      "id": "f246d741",
      "metadata": {
        "id": "f246d741"
      },
      "source": [
        "### 3.1 Descriptive Analysis"
      ]
    },
    {
      "cell_type": "code",
      "execution_count": null,
      "id": "c33ba814",
      "metadata": {
        "colab": {
          "base_uri": "https://localhost:8080/"
        },
        "id": "c33ba814",
        "outputId": "8c220c66-e1f4-4562-e0f7-6b0d7dc23537"
      },
      "outputs": [
        {
          "output_type": "execute_result",
          "data": {
            "text/plain": [
              "(15039, 11)"
            ]
          },
          "metadata": {},
          "execution_count": 8
        }
      ],
      "source": [
        "df.shape"
      ]
    },
    {
      "cell_type": "code",
      "execution_count": null,
      "id": "5d67b9aa",
      "metadata": {
        "colab": {
          "base_uri": "https://localhost:8080/"
        },
        "id": "5d67b9aa",
        "outputId": "446eccb6-58e3-4e1b-ba50-037e0f4b6170"
      },
      "outputs": [
        {
          "output_type": "execute_result",
          "data": {
            "text/plain": [
              "AT      float64\n",
              "AP      float64\n",
              "AH      float64\n",
              "AFDP    float64\n",
              "GTEP    float64\n",
              "TIT     float64\n",
              "TAT     float64\n",
              "TEY     float64\n",
              "CDP     float64\n",
              "CO      float64\n",
              "NOX     float64\n",
              "dtype: object"
            ]
          },
          "metadata": {},
          "execution_count": 9
        }
      ],
      "source": [
        "df.dtypes"
      ]
    },
    {
      "cell_type": "code",
      "execution_count": null,
      "id": "f1acb2d5",
      "metadata": {
        "colab": {
          "base_uri": "https://localhost:8080/"
        },
        "id": "f1acb2d5",
        "outputId": "b1067f77-2031-48a7-e65c-53766e84240f"
      },
      "outputs": [
        {
          "output_type": "execute_result",
          "data": {
            "text/plain": [
              "AT      12086\n",
              "AP        540\n",
              "AH      12637\n",
              "AFDP    11314\n",
              "GTEP     8234\n",
              "TIT       706\n",
              "TAT      2340\n",
              "TEY      4207\n",
              "CDP      3611\n",
              "CO      13096\n",
              "NOX     11996\n",
              "dtype: int64"
            ]
          },
          "metadata": {},
          "execution_count": 10
        }
      ],
      "source": [
        "df.nunique()"
      ]
    },
    {
      "cell_type": "code",
      "execution_count": null,
      "id": "49426f85",
      "metadata": {
        "colab": {
          "base_uri": "https://localhost:8080/"
        },
        "id": "49426f85",
        "outputId": "42f232a7-c063-4514-d46f-6204fc0b2f5f"
      },
      "outputs": [
        {
          "output_type": "stream",
          "name": "stdout",
          "text": [
            "<class 'pandas.core.frame.DataFrame'>\n",
            "RangeIndex: 15039 entries, 0 to 15038\n",
            "Data columns (total 11 columns):\n",
            " #   Column  Non-Null Count  Dtype  \n",
            "---  ------  --------------  -----  \n",
            " 0   AT      15039 non-null  float64\n",
            " 1   AP      15039 non-null  float64\n",
            " 2   AH      15039 non-null  float64\n",
            " 3   AFDP    15039 non-null  float64\n",
            " 4   GTEP    15039 non-null  float64\n",
            " 5   TIT     15039 non-null  float64\n",
            " 6   TAT     15039 non-null  float64\n",
            " 7   TEY     15039 non-null  float64\n",
            " 8   CDP     15039 non-null  float64\n",
            " 9   CO      15039 non-null  float64\n",
            " 10  NOX     15039 non-null  float64\n",
            "dtypes: float64(11)\n",
            "memory usage: 1.3 MB\n"
          ]
        }
      ],
      "source": [
        "df.info()"
      ]
    },
    {
      "cell_type": "code",
      "execution_count": null,
      "id": "a8bfb41d",
      "metadata": {
        "colab": {
          "base_uri": "https://localhost:8080/",
          "height": 394
        },
        "id": "a8bfb41d",
        "outputId": "ae51184a-fd90-4bf8-fe72-a825848739f5"
      },
      "outputs": [
        {
          "output_type": "execute_result",
          "data": {
            "text/plain": [
              "        count         mean        std          min          25%        50%  \\\n",
              "AT    15039.0    17.764381   7.574323     0.522300    11.408000    18.1860   \n",
              "AP    15039.0  1013.199240   6.410760   985.850000  1008.900000  1012.8000   \n",
              "AH    15039.0    79.124174  13.793439    30.344000    69.750000    82.2660   \n",
              "AFDP  15039.0     4.200294   0.760197     2.087400     3.723900     4.1862   \n",
              "GTEP  15039.0    25.419061   4.173916    17.878000    23.294000    25.0820   \n",
              "TIT   15039.0  1083.798770  16.527806  1000.800000  1079.600000  1088.7000   \n",
              "TAT   15039.0   545.396183   7.866803   512.450000   542.170000   549.8900   \n",
              "TEY   15039.0   134.188464  15.829717   100.170000   127.985000   133.7800   \n",
              "CDP   15039.0    12.102353   1.103196     9.904400    11.622000    12.0250   \n",
              "CO    15039.0     1.972499   2.222206     0.000388     0.858055     1.3902   \n",
              "NOX   15039.0    68.190934  10.470586    27.765000    61.303500    66.6010   \n",
              "\n",
              "            75%        max  \n",
              "AT      23.8625    34.9290  \n",
              "AP    1016.9000  1034.2000  \n",
              "AH      90.0435   100.2000  \n",
              "AFDP     4.5509     7.6106  \n",
              "GTEP    27.1840    37.4020  \n",
              "TIT   1096.0000  1100.8000  \n",
              "TAT    550.0600   550.6100  \n",
              "TEY    140.8950   174.6100  \n",
              "CDP     12.5780    15.0810  \n",
              "CO       2.1604    44.1030  \n",
              "NOX     73.9355   119.8900  "
            ],
            "text/html": [
              "\n",
              "  <div id=\"df-7d89dda1-f180-446d-81fd-e8df739e30a3\" class=\"colab-df-container\">\n",
              "    <div>\n",
              "<style scoped>\n",
              "    .dataframe tbody tr th:only-of-type {\n",
              "        vertical-align: middle;\n",
              "    }\n",
              "\n",
              "    .dataframe tbody tr th {\n",
              "        vertical-align: top;\n",
              "    }\n",
              "\n",
              "    .dataframe thead th {\n",
              "        text-align: right;\n",
              "    }\n",
              "</style>\n",
              "<table border=\"1\" class=\"dataframe\">\n",
              "  <thead>\n",
              "    <tr style=\"text-align: right;\">\n",
              "      <th></th>\n",
              "      <th>count</th>\n",
              "      <th>mean</th>\n",
              "      <th>std</th>\n",
              "      <th>min</th>\n",
              "      <th>25%</th>\n",
              "      <th>50%</th>\n",
              "      <th>75%</th>\n",
              "      <th>max</th>\n",
              "    </tr>\n",
              "  </thead>\n",
              "  <tbody>\n",
              "    <tr>\n",
              "      <th>AT</th>\n",
              "      <td>15039.0</td>\n",
              "      <td>17.764381</td>\n",
              "      <td>7.574323</td>\n",
              "      <td>0.522300</td>\n",
              "      <td>11.408000</td>\n",
              "      <td>18.1860</td>\n",
              "      <td>23.8625</td>\n",
              "      <td>34.9290</td>\n",
              "    </tr>\n",
              "    <tr>\n",
              "      <th>AP</th>\n",
              "      <td>15039.0</td>\n",
              "      <td>1013.199240</td>\n",
              "      <td>6.410760</td>\n",
              "      <td>985.850000</td>\n",
              "      <td>1008.900000</td>\n",
              "      <td>1012.8000</td>\n",
              "      <td>1016.9000</td>\n",
              "      <td>1034.2000</td>\n",
              "    </tr>\n",
              "    <tr>\n",
              "      <th>AH</th>\n",
              "      <td>15039.0</td>\n",
              "      <td>79.124174</td>\n",
              "      <td>13.793439</td>\n",
              "      <td>30.344000</td>\n",
              "      <td>69.750000</td>\n",
              "      <td>82.2660</td>\n",
              "      <td>90.0435</td>\n",
              "      <td>100.2000</td>\n",
              "    </tr>\n",
              "    <tr>\n",
              "      <th>AFDP</th>\n",
              "      <td>15039.0</td>\n",
              "      <td>4.200294</td>\n",
              "      <td>0.760197</td>\n",
              "      <td>2.087400</td>\n",
              "      <td>3.723900</td>\n",
              "      <td>4.1862</td>\n",
              "      <td>4.5509</td>\n",
              "      <td>7.6106</td>\n",
              "    </tr>\n",
              "    <tr>\n",
              "      <th>GTEP</th>\n",
              "      <td>15039.0</td>\n",
              "      <td>25.419061</td>\n",
              "      <td>4.173916</td>\n",
              "      <td>17.878000</td>\n",
              "      <td>23.294000</td>\n",
              "      <td>25.0820</td>\n",
              "      <td>27.1840</td>\n",
              "      <td>37.4020</td>\n",
              "    </tr>\n",
              "    <tr>\n",
              "      <th>TIT</th>\n",
              "      <td>15039.0</td>\n",
              "      <td>1083.798770</td>\n",
              "      <td>16.527806</td>\n",
              "      <td>1000.800000</td>\n",
              "      <td>1079.600000</td>\n",
              "      <td>1088.7000</td>\n",
              "      <td>1096.0000</td>\n",
              "      <td>1100.8000</td>\n",
              "    </tr>\n",
              "    <tr>\n",
              "      <th>TAT</th>\n",
              "      <td>15039.0</td>\n",
              "      <td>545.396183</td>\n",
              "      <td>7.866803</td>\n",
              "      <td>512.450000</td>\n",
              "      <td>542.170000</td>\n",
              "      <td>549.8900</td>\n",
              "      <td>550.0600</td>\n",
              "      <td>550.6100</td>\n",
              "    </tr>\n",
              "    <tr>\n",
              "      <th>TEY</th>\n",
              "      <td>15039.0</td>\n",
              "      <td>134.188464</td>\n",
              "      <td>15.829717</td>\n",
              "      <td>100.170000</td>\n",
              "      <td>127.985000</td>\n",
              "      <td>133.7800</td>\n",
              "      <td>140.8950</td>\n",
              "      <td>174.6100</td>\n",
              "    </tr>\n",
              "    <tr>\n",
              "      <th>CDP</th>\n",
              "      <td>15039.0</td>\n",
              "      <td>12.102353</td>\n",
              "      <td>1.103196</td>\n",
              "      <td>9.904400</td>\n",
              "      <td>11.622000</td>\n",
              "      <td>12.0250</td>\n",
              "      <td>12.5780</td>\n",
              "      <td>15.0810</td>\n",
              "    </tr>\n",
              "    <tr>\n",
              "      <th>CO</th>\n",
              "      <td>15039.0</td>\n",
              "      <td>1.972499</td>\n",
              "      <td>2.222206</td>\n",
              "      <td>0.000388</td>\n",
              "      <td>0.858055</td>\n",
              "      <td>1.3902</td>\n",
              "      <td>2.1604</td>\n",
              "      <td>44.1030</td>\n",
              "    </tr>\n",
              "    <tr>\n",
              "      <th>NOX</th>\n",
              "      <td>15039.0</td>\n",
              "      <td>68.190934</td>\n",
              "      <td>10.470586</td>\n",
              "      <td>27.765000</td>\n",
              "      <td>61.303500</td>\n",
              "      <td>66.6010</td>\n",
              "      <td>73.9355</td>\n",
              "      <td>119.8900</td>\n",
              "    </tr>\n",
              "  </tbody>\n",
              "</table>\n",
              "</div>\n",
              "    <div class=\"colab-df-buttons\">\n",
              "\n",
              "  <div class=\"colab-df-container\">\n",
              "    <button class=\"colab-df-convert\" onclick=\"convertToInteractive('df-7d89dda1-f180-446d-81fd-e8df739e30a3')\"\n",
              "            title=\"Convert this dataframe to an interactive table.\"\n",
              "            style=\"display:none;\">\n",
              "\n",
              "  <svg xmlns=\"http://www.w3.org/2000/svg\" height=\"24px\" viewBox=\"0 -960 960 960\">\n",
              "    <path d=\"M120-120v-720h720v720H120Zm60-500h600v-160H180v160Zm220 220h160v-160H400v160Zm0 220h160v-160H400v160ZM180-400h160v-160H180v160Zm440 0h160v-160H620v160ZM180-180h160v-160H180v160Zm440 0h160v-160H620v160Z\"/>\n",
              "  </svg>\n",
              "    </button>\n",
              "\n",
              "  <style>\n",
              "    .colab-df-container {\n",
              "      display:flex;\n",
              "      gap: 12px;\n",
              "    }\n",
              "\n",
              "    .colab-df-convert {\n",
              "      background-color: #E8F0FE;\n",
              "      border: none;\n",
              "      border-radius: 50%;\n",
              "      cursor: pointer;\n",
              "      display: none;\n",
              "      fill: #1967D2;\n",
              "      height: 32px;\n",
              "      padding: 0 0 0 0;\n",
              "      width: 32px;\n",
              "    }\n",
              "\n",
              "    .colab-df-convert:hover {\n",
              "      background-color: #E2EBFA;\n",
              "      box-shadow: 0px 1px 2px rgba(60, 64, 67, 0.3), 0px 1px 3px 1px rgba(60, 64, 67, 0.15);\n",
              "      fill: #174EA6;\n",
              "    }\n",
              "\n",
              "    .colab-df-buttons div {\n",
              "      margin-bottom: 4px;\n",
              "    }\n",
              "\n",
              "    [theme=dark] .colab-df-convert {\n",
              "      background-color: #3B4455;\n",
              "      fill: #D2E3FC;\n",
              "    }\n",
              "\n",
              "    [theme=dark] .colab-df-convert:hover {\n",
              "      background-color: #434B5C;\n",
              "      box-shadow: 0px 1px 3px 1px rgba(0, 0, 0, 0.15);\n",
              "      filter: drop-shadow(0px 1px 2px rgba(0, 0, 0, 0.3));\n",
              "      fill: #FFFFFF;\n",
              "    }\n",
              "  </style>\n",
              "\n",
              "    <script>\n",
              "      const buttonEl =\n",
              "        document.querySelector('#df-7d89dda1-f180-446d-81fd-e8df739e30a3 button.colab-df-convert');\n",
              "      buttonEl.style.display =\n",
              "        google.colab.kernel.accessAllowed ? 'block' : 'none';\n",
              "\n",
              "      async function convertToInteractive(key) {\n",
              "        const element = document.querySelector('#df-7d89dda1-f180-446d-81fd-e8df739e30a3');\n",
              "        const dataTable =\n",
              "          await google.colab.kernel.invokeFunction('convertToInteractive',\n",
              "                                                    [key], {});\n",
              "        if (!dataTable) return;\n",
              "\n",
              "        const docLinkHtml = 'Like what you see? Visit the ' +\n",
              "          '<a target=\"_blank\" href=https://colab.research.google.com/notebooks/data_table.ipynb>data table notebook</a>'\n",
              "          + ' to learn more about interactive tables.';\n",
              "        element.innerHTML = '';\n",
              "        dataTable['output_type'] = 'display_data';\n",
              "        await google.colab.output.renderOutput(dataTable, element);\n",
              "        const docLink = document.createElement('div');\n",
              "        docLink.innerHTML = docLinkHtml;\n",
              "        element.appendChild(docLink);\n",
              "      }\n",
              "    </script>\n",
              "  </div>\n",
              "\n",
              "\n",
              "<div id=\"df-eb2db6c3-f40e-48bd-b4a1-d2b31fa1df62\">\n",
              "  <button class=\"colab-df-quickchart\" onclick=\"quickchart('df-eb2db6c3-f40e-48bd-b4a1-d2b31fa1df62')\"\n",
              "            title=\"Suggest charts\"\n",
              "            style=\"display:none;\">\n",
              "\n",
              "<svg xmlns=\"http://www.w3.org/2000/svg\" height=\"24px\"viewBox=\"0 0 24 24\"\n",
              "     width=\"24px\">\n",
              "    <g>\n",
              "        <path d=\"M19 3H5c-1.1 0-2 .9-2 2v14c0 1.1.9 2 2 2h14c1.1 0 2-.9 2-2V5c0-1.1-.9-2-2-2zM9 17H7v-7h2v7zm4 0h-2V7h2v10zm4 0h-2v-4h2v4z\"/>\n",
              "    </g>\n",
              "</svg>\n",
              "  </button>\n",
              "\n",
              "<style>\n",
              "  .colab-df-quickchart {\n",
              "      --bg-color: #E8F0FE;\n",
              "      --fill-color: #1967D2;\n",
              "      --hover-bg-color: #E2EBFA;\n",
              "      --hover-fill-color: #174EA6;\n",
              "      --disabled-fill-color: #AAA;\n",
              "      --disabled-bg-color: #DDD;\n",
              "  }\n",
              "\n",
              "  [theme=dark] .colab-df-quickchart {\n",
              "      --bg-color: #3B4455;\n",
              "      --fill-color: #D2E3FC;\n",
              "      --hover-bg-color: #434B5C;\n",
              "      --hover-fill-color: #FFFFFF;\n",
              "      --disabled-bg-color: #3B4455;\n",
              "      --disabled-fill-color: #666;\n",
              "  }\n",
              "\n",
              "  .colab-df-quickchart {\n",
              "    background-color: var(--bg-color);\n",
              "    border: none;\n",
              "    border-radius: 50%;\n",
              "    cursor: pointer;\n",
              "    display: none;\n",
              "    fill: var(--fill-color);\n",
              "    height: 32px;\n",
              "    padding: 0;\n",
              "    width: 32px;\n",
              "  }\n",
              "\n",
              "  .colab-df-quickchart:hover {\n",
              "    background-color: var(--hover-bg-color);\n",
              "    box-shadow: 0 1px 2px rgba(60, 64, 67, 0.3), 0 1px 3px 1px rgba(60, 64, 67, 0.15);\n",
              "    fill: var(--button-hover-fill-color);\n",
              "  }\n",
              "\n",
              "  .colab-df-quickchart-complete:disabled,\n",
              "  .colab-df-quickchart-complete:disabled:hover {\n",
              "    background-color: var(--disabled-bg-color);\n",
              "    fill: var(--disabled-fill-color);\n",
              "    box-shadow: none;\n",
              "  }\n",
              "\n",
              "  .colab-df-spinner {\n",
              "    border: 2px solid var(--fill-color);\n",
              "    border-color: transparent;\n",
              "    border-bottom-color: var(--fill-color);\n",
              "    animation:\n",
              "      spin 1s steps(1) infinite;\n",
              "  }\n",
              "\n",
              "  @keyframes spin {\n",
              "    0% {\n",
              "      border-color: transparent;\n",
              "      border-bottom-color: var(--fill-color);\n",
              "      border-left-color: var(--fill-color);\n",
              "    }\n",
              "    20% {\n",
              "      border-color: transparent;\n",
              "      border-left-color: var(--fill-color);\n",
              "      border-top-color: var(--fill-color);\n",
              "    }\n",
              "    30% {\n",
              "      border-color: transparent;\n",
              "      border-left-color: var(--fill-color);\n",
              "      border-top-color: var(--fill-color);\n",
              "      border-right-color: var(--fill-color);\n",
              "    }\n",
              "    40% {\n",
              "      border-color: transparent;\n",
              "      border-right-color: var(--fill-color);\n",
              "      border-top-color: var(--fill-color);\n",
              "    }\n",
              "    60% {\n",
              "      border-color: transparent;\n",
              "      border-right-color: var(--fill-color);\n",
              "    }\n",
              "    80% {\n",
              "      border-color: transparent;\n",
              "      border-right-color: var(--fill-color);\n",
              "      border-bottom-color: var(--fill-color);\n",
              "    }\n",
              "    90% {\n",
              "      border-color: transparent;\n",
              "      border-bottom-color: var(--fill-color);\n",
              "    }\n",
              "  }\n",
              "</style>\n",
              "\n",
              "  <script>\n",
              "    async function quickchart(key) {\n",
              "      const quickchartButtonEl =\n",
              "        document.querySelector('#' + key + ' button');\n",
              "      quickchartButtonEl.disabled = true;  // To prevent multiple clicks.\n",
              "      quickchartButtonEl.classList.add('colab-df-spinner');\n",
              "      try {\n",
              "        const charts = await google.colab.kernel.invokeFunction(\n",
              "            'suggestCharts', [key], {});\n",
              "      } catch (error) {\n",
              "        console.error('Error during call to suggestCharts:', error);\n",
              "      }\n",
              "      quickchartButtonEl.classList.remove('colab-df-spinner');\n",
              "      quickchartButtonEl.classList.add('colab-df-quickchart-complete');\n",
              "    }\n",
              "    (() => {\n",
              "      let quickchartButtonEl =\n",
              "        document.querySelector('#df-eb2db6c3-f40e-48bd-b4a1-d2b31fa1df62 button');\n",
              "      quickchartButtonEl.style.display =\n",
              "        google.colab.kernel.accessAllowed ? 'block' : 'none';\n",
              "    })();\n",
              "  </script>\n",
              "</div>\n",
              "\n",
              "    </div>\n",
              "  </div>\n"
            ],
            "application/vnd.google.colaboratory.intrinsic+json": {
              "type": "dataframe",
              "summary": "{\n  \"name\": \"df\",\n  \"rows\": 11,\n  \"fields\": [\n    {\n      \"column\": \"count\",\n      \"properties\": {\n        \"dtype\": \"number\",\n        \"std\": 0.0,\n        \"min\": 15039.0,\n        \"max\": 15039.0,\n        \"num_unique_values\": 1,\n        \"samples\": [\n          15039.0\n        ],\n        \"semantic_type\": \"\",\n        \"description\": \"\"\n      }\n    },\n    {\n      \"column\": \"mean\",\n      \"properties\": {\n        \"dtype\": \"number\",\n        \"std\": 414.5458341181793,\n        \"min\": 1.972499132682359,\n        \"max\": 1083.7987698650177,\n        \"num_unique_values\": 11,\n        \"samples\": [\n          1083.7987698650177\n        ],\n        \"semantic_type\": \"\",\n        \"description\": \"\"\n      }\n    },\n    {\n      \"column\": \"std\",\n      \"properties\": {\n        \"dtype\": \"number\",\n        \"std\": 5.694530953901971,\n        \"min\": 0.7601966070003089,\n        \"max\": 16.527805560509144,\n        \"num_unique_values\": 11,\n        \"samples\": [\n          16.527805560509144\n        ],\n        \"semantic_type\": \"\",\n        \"description\": \"\"\n      }\n    },\n    {\n      \"column\": \"min\",\n      \"properties\": {\n        \"dtype\": \"number\",\n        \"std\": 398.93810528878294,\n        \"min\": 0.00038751,\n        \"max\": 1000.8,\n        \"num_unique_values\": 11,\n        \"samples\": [\n          1000.8\n        ],\n        \"semantic_type\": \"\",\n        \"description\": \"\"\n      }\n    },\n    {\n      \"column\": \"25%\",\n      \"properties\": {\n        \"dtype\": \"number\",\n        \"std\": 414.37653668838135,\n        \"min\": 0.858055,\n        \"max\": 1079.6,\n        \"num_unique_values\": 11,\n        \"samples\": [\n          1079.6\n        ],\n        \"semantic_type\": \"\",\n        \"description\": \"\"\n      }\n    },\n    {\n      \"column\": \"50%\",\n      \"properties\": {\n        \"dtype\": \"number\",\n        \"std\": 415.7197449971262,\n        \"min\": 1.3902,\n        \"max\": 1088.7,\n        \"num_unique_values\": 11,\n        \"samples\": [\n          1088.7\n        ],\n        \"semantic_type\": \"\",\n        \"description\": \"\"\n      }\n    },\n    {\n      \"column\": \"75%\",\n      \"properties\": {\n        \"dtype\": \"number\",\n        \"std\": 416.37136308106096,\n        \"min\": 2.1604,\n        \"max\": 1096.0,\n        \"num_unique_values\": 11,\n        \"samples\": [\n          1096.0\n        ],\n        \"semantic_type\": \"\",\n        \"description\": \"\"\n      }\n    },\n    {\n      \"column\": \"max\",\n      \"properties\": {\n        \"dtype\": \"number\",\n        \"std\": 412.5532591983908,\n        \"min\": 7.6106,\n        \"max\": 1100.8,\n        \"num_unique_values\": 11,\n        \"samples\": [\n          1100.8\n        ],\n        \"semantic_type\": \"\",\n        \"description\": \"\"\n      }\n    }\n  ]\n}"
            }
          },
          "metadata": {},
          "execution_count": 12
        }
      ],
      "source": [
        "df.describe().T"
      ]
    },
    {
      "cell_type": "code",
      "execution_count": null,
      "id": "b26fb06d",
      "metadata": {
        "colab": {
          "base_uri": "https://localhost:8080/"
        },
        "id": "b26fb06d",
        "outputId": "d0021b4f-254f-4ede-8f46-870bf2ecd3aa"
      },
      "outputs": [
        {
          "output_type": "execute_result",
          "data": {
            "text/plain": [
              "TEY     1.000000\n",
              "CDP     0.988473\n",
              "GTEP    0.977042\n",
              "TIT     0.891587\n",
              "AFDP    0.717995\n",
              "AP      0.146939\n",
              "NOX    -0.102631\n",
              "AH     -0.110272\n",
              "AT     -0.207495\n",
              "CO     -0.541751\n",
              "TAT    -0.720356\n",
              "Name: TEY, dtype: float64"
            ]
          },
          "metadata": {},
          "execution_count": 13
        }
      ],
      "source": [
        "df.corr()[\"TEY\"].sort_values(ascending=False)"
      ]
    },
    {
      "cell_type": "code",
      "execution_count": null,
      "id": "ed5ebcb8",
      "metadata": {
        "colab": {
          "base_uri": "https://localhost:8080/"
        },
        "id": "ed5ebcb8",
        "outputId": "06799a2a-d13a-4a11-c0d7-18d050b0ba26"
      },
      "outputs": [
        {
          "output_type": "execute_result",
          "data": {
            "text/plain": [
              "Index(['AT', 'AP', 'AH', 'AFDP', 'GTEP', 'TIT', 'TAT', 'TEY', 'CDP', 'CO',\n",
              "       'NOX'],\n",
              "      dtype='object')"
            ]
          },
          "metadata": {},
          "execution_count": 14
        }
      ],
      "source": [
        "numerical_features = df.describe(include=[\"int64\",\"float64\"]).columns\n",
        "numerical_features"
      ]
    },
    {
      "cell_type": "markdown",
      "id": "6fda1210",
      "metadata": {
        "id": "6fda1210"
      },
      "source": [
        "## 4. Data Visualization"
      ]
    },
    {
      "cell_type": "markdown",
      "id": "3ad0ed11",
      "metadata": {
        "id": "3ad0ed11"
      },
      "source": [
        "### 4.1 Univariate plots"
      ]
    },
    {
      "cell_type": "code",
      "execution_count": null,
      "id": "e4dd4a08",
      "metadata": {
        "colab": {
          "base_uri": "https://localhost:8080/",
          "height": 1000
        },
        "id": "e4dd4a08",
        "outputId": "b3fd2731-6b2a-4137-eff8-46ff6c7611e0"
      },
      "outputs": [
        {
          "output_type": "display_data",
          "data": {
            "text/plain": [
              "<Figure size 1400x2000 with 10 Axes>"
            ],
            "image/png": "[encoded data removed]"
          },
          "metadata": {}
        }
      ],
      "source": [
        "fig, ax = plt.subplots(5,2, figsize = (14,20))\n",
        "\n",
        "sns.distplot(df.AT, ax = ax[0,0])\n",
        "sns.distplot(df.AP, ax = ax[0,1])\n",
        "sns.distplot(df.AH, ax = ax[1,0])\n",
        "sns.distplot(df.AFDP, ax = ax[1,1])\n",
        "sns.distplot(df.GTEP, ax = ax[2,0])\n",
        "sns.distplot(df.TIT, ax = ax[2,1])\n",
        "sns.distplot(df.TAT, ax = ax[3,0])\n",
        "sns.distplot(df.CDP, ax = ax[3,1])\n",
        "sns.distplot(df.CO, ax = ax[4,0])\n",
        "sns.distplot(df.NOX, ax = ax[4,1])\n",
        "\n",
        "plt.show()"
      ]
    },
    {
      "cell_type": "markdown",
      "id": "952d0fe8",
      "metadata": {
        "id": "952d0fe8"
      },
      "source": [
        "### 4.2 Outliers Detection"
      ]
    },
    {
      "cell_type": "code",
      "execution_count": null,
      "id": "94559934",
      "metadata": {
        "colab": {
          "base_uri": "https://localhost:8080/"
        },
        "id": "94559934",
        "outputId": "98447f03-bef5-40ba-a642-61b50f725bae"
      },
      "outputs": [
        {
          "output_type": "stream",
          "name": "stdout",
          "text": [
            "The dataset contains 1543 observations with more than 2 outliers\n"
          ]
        }
      ],
      "source": [
        "# Detect observations with more than one outlier\n",
        "\n",
        "def outlier_hunt(df):\n",
        "    \"\"\"\n",
        "    Takes a dataframe df of features and returns a list of the indices\n",
        "    corresponding to the observations containing more than 2 outliers.\n",
        "    \"\"\"\n",
        "    outlier_indices = []\n",
        "\n",
        "    for col in df.columns.tolist():         # iterate over features(columns)\n",
        "        Q1 = np.percentile(df[col],25)      # 1st quartile (25%)\n",
        "        Q3 = np.percentile(df[col],75)      # 3rd quartile (75%)\n",
        "        IQR = Q3 - Q1                       # Interquartile rrange (IQR)\n",
        "\n",
        "        outlier_step = 1.5 * IQR            # outlier step\n",
        "\n",
        "        # Determine a list of indices of outliers for feature col\n",
        "        outlier_list_col = df[(df[col] < Q1 - outlier_step) | (df[col] > Q3 + outlier_step )].index\n",
        "\n",
        "        # Append the found outlier indices for col to the list of outlier indices\n",
        "        outlier_indices.extend(outlier_list_col)\n",
        "\n",
        "    # Select observations containing more than 2 outliers\n",
        "    outlier_indices = Counter(outlier_indices)\n",
        "    multiple_outliers = list( k for k, v in outlier_indices.items() if v > 2 )\n",
        "\n",
        "    return multiple_outliers\n",
        "\n",
        "print('The dataset contains %d observations with more than 2 outliers' %(len(outlier_hunt(df[numerical_features]))))"
      ]
    },
    {
      "cell_type": "code",
      "execution_count": null,
      "id": "6e3fd06c",
      "metadata": {
        "colab": {
          "base_uri": "https://localhost:8080/"
        },
        "id": "6e3fd06c",
        "outputId": "2b1a9132-1b66-480f-b0ac-1c47693911e9"
      },
      "outputs": [
        {
          "output_type": "execute_result",
          "data": {
            "text/plain": [
              "Index(['AT', 'AP', 'AH', 'AFDP', 'GTEP', 'TIT', 'TAT', 'TEY', 'CDP', 'CO',\n",
              "       'NOX'],\n",
              "      dtype='object')"
            ]
          },
          "metadata": {},
          "execution_count": 17
        }
      ],
      "source": [
        "numerical_features"
      ]
    },
    {
      "cell_type": "code",
      "execution_count": null,
      "id": "d191c082",
      "metadata": {
        "colab": {
          "base_uri": "https://localhost:8080/",
          "height": 1000
        },
        "id": "d191c082",
        "outputId": "2189b9d2-d3af-43af-9738-d90cea16da0d"
      },
      "outputs": [
        {
          "output_type": "display_data",
          "data": {
            "text/plain": [
              "<Figure size 1200x1400 with 11 Axes>"
            ],
            "image/png": "[encoded data removed]"
          },
          "metadata": {}
        }
      ],
      "source": [
        "outlier = df.copy()\n",
        "fig, axes=plt.subplots(11,1,figsize=(12,14),sharex=False,sharey=False)\n",
        "sns.boxplot(x='AT',data= outlier,palette='crest',ax=axes[0])\n",
        "sns.boxplot(x='AP',data= outlier,palette='crest',ax=axes[1])\n",
        "sns.boxplot(x='AH',data= outlier,palette='crest',ax=axes[2])\n",
        "sns.boxplot(x='AFDP',data= outlier,palette='crest',ax=axes[3])\n",
        "sns.boxplot(x='GTEP',data= outlier,palette='crest',ax=axes[4])\n",
        "sns.boxplot(x='TIT',data= outlier,palette='crest',ax=axes[5])\n",
        "sns.boxplot(x='TAT',data= outlier,palette='crest',ax=axes[6])\n",
        "sns.boxplot(x='TEY',data= outlier,palette='crest',ax=axes[7])\n",
        "sns.boxplot(x='CDP',data= outlier,palette='crest',ax=axes[8])\n",
        "sns.boxplot(x='CO',data= outlier,palette='crest',ax=axes[9])\n",
        "sns.boxplot(x='NOX',data= outlier,palette='crest',ax=axes[10])\n",
        "plt.tight_layout(pad=2.0)"
      ]
    },
    {
      "cell_type": "code",
      "execution_count": null,
      "id": "b300d0e1",
      "metadata": {
        "colab": {
          "base_uri": "https://localhost:8080/",
          "height": 566
        },
        "id": "b300d0e1",
        "outputId": "413118d6-f271-4f25-cb58-a8419e10e933"
      },
      "outputs": [
        {
          "output_type": "display_data",
          "data": {
            "text/plain": [
              "<Figure size 900x600 with 1 Axes>"
            ],
            "image/png": "[encoded data removed]"
          },
          "metadata": {}
        }
      ],
      "source": [
        "sns.set_style(\"darkgrid\")\n",
        "plt.figure(figsize=(9,6))\n",
        "sns.histplot(data= df, x= \"TEY\", color= \"red\", kde= True)\n",
        "plt.axvline(x=df[\"TEY\"].mean(), ymax= 0.55, color= \"green\", linestyle= '--', label= \"Mean\")\n",
        "plt.axvline(x=df[\"TEY\"].median(), ymax= 0.56, color= \"purple\", linestyle= '--',label= \"Median\")\n",
        "plt.title(\"Histogram of the Target Column\", fontsize=16)\n",
        "plt.legend();"
      ]
    },
    {
      "cell_type": "code",
      "execution_count": null,
      "id": "05307583",
      "metadata": {
        "colab": {
          "base_uri": "https://localhost:8080/",
          "height": 566
        },
        "id": "05307583",
        "outputId": "3b818363-41b0-4e7e-bcee-421d8190dd26"
      },
      "outputs": [
        {
          "output_type": "display_data",
          "data": {
            "text/plain": [
              "<Figure size 900x600 with 1 Axes>"
            ],
            "image/png": "[encoded data removed]"
          },
          "metadata": {}
        }
      ],
      "source": [
        "plt.figure(figsize = (9,6))\n",
        "sns.histplot(df[\"TEY\"], kde= True, bins= 40, color= \"red\", cumulative= True)\n",
        "plt.title(\"Cumulative of the Target Column\", fontsize=16);"
      ]
    },
    {
      "cell_type": "markdown",
      "id": "8c9dcf63",
      "metadata": {
        "id": "8c9dcf63"
      },
      "source": [
        "### Unsurprisingly, Mostly none of the features are on the same scale as we already saw in the previous section."
      ]
    },
    {
      "cell_type": "markdown",
      "id": "487fb9e4",
      "metadata": {
        "id": "487fb9e4"
      },
      "source": [
        "### 4.3 Multivariate Analysis"
      ]
    },
    {
      "cell_type": "code",
      "execution_count": 22,
      "id": "337e85e3",
      "metadata": {
        "scrolled": false,
        "colab": {
          "base_uri": "https://localhost:8080/",
          "height": 1000
        },
        "id": "337e85e3",
        "outputId": "7959b85b-e9d9-4f31-b76f-e8ceec7473a0"
      },
      "outputs": [
        {
          "output_type": "error",
          "ename": "TypeError",
          "evalue": "scatterplot() takes from 0 to 1 positional arguments but 2 positional arguments (and 1 keyword-only argument) were given",
          "traceback": [
            "\u001b[0;31m---------------------------------------------------------------------------\u001b[0m",
            "\u001b[0;31mTypeError\u001b[0m                                 Traceback (most recent call last)",
            "\u001b[0;32m<ipython-input-22-ee373a3f363a>\u001b[0m in \u001b[0;36m<cell line: 3>\u001b[0;34m()\u001b[0m\n\u001b[1;32m      1\u001b[0m \u001b[0mfig\u001b[0m\u001b[0;34m,\u001b[0m \u001b[0max\u001b[0m \u001b[0;34m=\u001b[0m \u001b[0mplt\u001b[0m\u001b[0;34m.\u001b[0m\u001b[0msubplots\u001b[0m\u001b[0;34m(\u001b[0m\u001b[0;36m5\u001b[0m\u001b[0;34m,\u001b[0m\u001b[0;36m2\u001b[0m\u001b[0;34m,\u001b[0m \u001b[0mfigsize\u001b[0m \u001b[0;34m=\u001b[0m \u001b[0;34m(\u001b[0m\u001b[0;36m14\u001b[0m\u001b[0;34m,\u001b[0m\u001b[0;36m20\u001b[0m\u001b[0;34m)\u001b[0m\u001b[0;34m)\u001b[0m\u001b[0;34m\u001b[0m\u001b[0;34m\u001b[0m\u001b[0m\n\u001b[1;32m      2\u001b[0m \u001b[0;34m\u001b[0m\u001b[0m\n\u001b[0;32m----> 3\u001b[0;31m \u001b[0msns\u001b[0m\u001b[0;34m.\u001b[0m\u001b[0mscatterplot\u001b[0m\u001b[0;34m(\u001b[0m\u001b[0mnp\u001b[0m\u001b[0;34m.\u001b[0m\u001b[0mlog\u001b[0m\u001b[0;34m(\u001b[0m\u001b[0mdf\u001b[0m\u001b[0;34m[\u001b[0m\u001b[0;34m'AT'\u001b[0m\u001b[0;34m]\u001b[0m\u001b[0;34m)\u001b[0m\u001b[0;34m,\u001b[0m \u001b[0mnp\u001b[0m\u001b[0;34m.\u001b[0m\u001b[0mlog\u001b[0m\u001b[0;34m(\u001b[0m\u001b[0mdf\u001b[0m\u001b[0;34m[\u001b[0m\u001b[0;34m'TEY'\u001b[0m\u001b[0;34m]\u001b[0m\u001b[0;34m)\u001b[0m\u001b[0;34m,\u001b[0m\u001b[0max\u001b[0m\u001b[0;34m=\u001b[0m \u001b[0max\u001b[0m\u001b[0;34m[\u001b[0m\u001b[0;36m0\u001b[0m\u001b[0;34m,\u001b[0m\u001b[0;36m0\u001b[0m\u001b[0;34m]\u001b[0m\u001b[0;34m)\u001b[0m\u001b[0;34m\u001b[0m\u001b[0;34m\u001b[0m\u001b[0m\n\u001b[0m\u001b[1;32m      4\u001b[0m \u001b[0msns\u001b[0m\u001b[0;34m.\u001b[0m\u001b[0mscatterplot\u001b[0m\u001b[0;34m(\u001b[0m\u001b[0mnp\u001b[0m\u001b[0;34m.\u001b[0m\u001b[0mlog\u001b[0m\u001b[0;34m(\u001b[0m\u001b[0mdf\u001b[0m\u001b[0;34m[\u001b[0m\u001b[0;34m'AP'\u001b[0m\u001b[0;34m]\u001b[0m\u001b[0;34m)\u001b[0m\u001b[0;34m,\u001b[0m \u001b[0mnp\u001b[0m\u001b[0;34m.\u001b[0m\u001b[0mlog\u001b[0m\u001b[0;34m(\u001b[0m\u001b[0mdf\u001b[0m\u001b[0;34m[\u001b[0m\u001b[0;34m'TEY'\u001b[0m\u001b[0;34m]\u001b[0m\u001b[0;34m)\u001b[0m\u001b[0;34m,\u001b[0m \u001b[0max\u001b[0m\u001b[0;34m=\u001b[0m \u001b[0max\u001b[0m\u001b[0;34m[\u001b[0m\u001b[0;36m0\u001b[0m\u001b[0;34m,\u001b[0m\u001b[0;36m1\u001b[0m\u001b[0;34m]\u001b[0m\u001b[0;34m)\u001b[0m\u001b[0;34m\u001b[0m\u001b[0;34m\u001b[0m\u001b[0m\n\u001b[1;32m      5\u001b[0m \u001b[0msns\u001b[0m\u001b[0;34m.\u001b[0m\u001b[0mscatterplot\u001b[0m\u001b[0;34m(\u001b[0m\u001b[0mnp\u001b[0m\u001b[0;34m.\u001b[0m\u001b[0mlog\u001b[0m\u001b[0;34m(\u001b[0m\u001b[0mdf\u001b[0m\u001b[0;34m[\u001b[0m\u001b[0;34m'AH'\u001b[0m\u001b[0;34m]\u001b[0m\u001b[0;34m)\u001b[0m\u001b[0;34m,\u001b[0m \u001b[0mnp\u001b[0m\u001b[0;34m.\u001b[0m\u001b[0mlog\u001b[0m\u001b[0;34m(\u001b[0m\u001b[0mdf\u001b[0m\u001b[0;34m[\u001b[0m\u001b[0;34m'TEY'\u001b[0m\u001b[0;34m]\u001b[0m\u001b[0;34m)\u001b[0m\u001b[0;34m,\u001b[0m \u001b[0max\u001b[0m\u001b[0;34m=\u001b[0m \u001b[0max\u001b[0m\u001b[0;34m[\u001b[0m\u001b[0;36m1\u001b[0m\u001b[0;34m,\u001b[0m\u001b[0;36m0\u001b[0m\u001b[0;34m]\u001b[0m\u001b[0;34m)\u001b[0m\u001b[0;34m\u001b[0m\u001b[0;34m\u001b[0m\u001b[0m\n",
            "\u001b[0;31mTypeError\u001b[0m: scatterplot() takes from 0 to 1 positional arguments but 2 positional arguments (and 1 keyword-only argument) were given"
          ]
        },
        {
          "output_type": "display_data",
          "data": {
            "text/plain": [
              "<Figure size 1400x2000 with 10 Axes>"
            ],
            "image/png": "[encoded data removed]"
          },
          "metadata": {}
        }
      ],
      "source": [
        "fig, ax = plt.subplots(5,2, figsize = (14,20))\n",
        "\n",
        "sns.scatterplot(np.log(df['AT']), np.log(df['TEY']),ax= ax[0,0])\n",
        "sns.scatterplot(np.log(df['AP']), np.log(df['TEY']), ax= ax[0,1])\n",
        "sns.scatterplot(np.log(df['AH']), np.log(df['TEY']), ax= ax[1,0])\n",
        "sns.scatterplot(np.log(df['AFDP']), np.log(df['TEY']),ax= ax[1,1])\n",
        "sns.scatterplot(np.log(df['GTEP']), np.log(df['TEY']), ax= ax[2,0])\n",
        "sns.scatterplot(np.log(df['TIT']), np.log(df['TEY']), ax= ax[2,1])\n",
        "sns.scatterplot(np.log(df['TAT']), np.log(df['TEY']), ax= ax[3,0])\n",
        "sns.scatterplot(np.log(df['CDP']), np.log(df['TEY']), ax= ax[3,1])\n",
        "sns.scatterplot(np.log(df['CO']), np.log(df['TEY']), ax= ax[4,0])\n",
        "sns.scatterplot(np.log(df['NOX']), np.log(df['TEY']), ax= ax[4,1])\n",
        "\n",
        "plt.show()"
      ]
    },
    {
      "cell_type": "markdown",
      "id": "2260c60b",
      "metadata": {
        "id": "2260c60b"
      },
      "source": [
        "### 4.4 Correlation Matrix"
      ]
    },
    {
      "cell_type": "code",
      "execution_count": null,
      "id": "8e315d80",
      "metadata": {
        "id": "8e315d80"
      },
      "outputs": [],
      "source": [
        "plt.figure(figsize=(14,12))\n",
        "mask = np.zeros_like(df.corr(), dtype= np.bool)\n",
        "mask[np.triu_indices_from(mask)] = True\n",
        "sns.heatmap(data= df.corr(), cmap= \"jet\", annot= True, linewidths= 1, linecolor= 'white', mask=mask);"
      ]
    },
    {
      "cell_type": "code",
      "execution_count": 23,
      "id": "6102969f",
      "metadata": {
        "id": "6102969f"
      },
      "outputs": [],
      "source": [
        "x = df.drop('TEY', axis=1)\n",
        "y = df[[\"TEY\"]]"
      ]
    },
    {
      "cell_type": "code",
      "source": [],
      "metadata": {
        "id": "aBRWAckDAWas"
      },
      "id": "aBRWAckDAWas",
      "execution_count": null,
      "outputs": []
    },
    {
      "cell_type": "code",
      "execution_count": 24,
      "id": "06bf75ae",
      "metadata": {
        "colab": {
          "base_uri": "https://localhost:8080/",
          "height": 884
        },
        "id": "06bf75ae",
        "outputId": "21d8fa58-f80f-4244-e762-1a5aa33a23bc"
      },
      "outputs": [
        {
          "output_type": "display_data",
          "data": {
            "text/plain": [
              "<Figure size 1200x1000 with 1 Axes>"
            ],
            "image/png": "[encoded data removed]"
          },
          "metadata": {}
        }
      ],
      "source": [
        "data2 = df.copy()\n",
        "\n",
        "correlations = data2.corrwith(df.TEY)\n",
        "correlations = correlations[correlations!=1]\n",
        "positive_correlations = correlations[correlations>0].sort_values(ascending = False)\n",
        "negative_correlations = correlations[correlations<0].sort_values(ascending = False)\n",
        "\n",
        "correlations.plot.bar(figsize=(12,10), fontsize = 15, color = 'orange', rot = 0, grid = True)\n",
        "plt.title('Correlation with Turbine energy yield \\n', fontsize = \"16\", fontfamily = \"sans-serif\")\n",
        "plt.show()"
      ]
    },
    {
      "cell_type": "markdown",
      "id": "ff8c79e6",
      "metadata": {
        "id": "ff8c79e6"
      },
      "source": [
        "## 5. Data Pre-Processing\n",
        "### 5.1 Feature Selection Technique"
      ]
    },
    {
      "cell_type": "code",
      "execution_count": 25,
      "id": "57e85dde",
      "metadata": {
        "id": "57e85dde"
      },
      "outputs": [],
      "source": [
        "from numpy import set_printoptions\n",
        "from sklearn.feature_selection import mutual_info_regression"
      ]
    },
    {
      "cell_type": "markdown",
      "id": "aa96f16e",
      "metadata": {
        "id": "aa96f16e"
      },
      "source": [
        "### Feature Extraction"
      ]
    },
    {
      "cell_type": "code",
      "execution_count": 26,
      "id": "21add78f",
      "metadata": {
        "id": "21add78f"
      },
      "outputs": [],
      "source": [
        "test = SelectKBest(score_func=mutual_info_regression, k='all')\n",
        "fit = test.fit(x, y)"
      ]
    },
    {
      "cell_type": "markdown",
      "id": "4b983f27",
      "metadata": {
        "id": "4b983f27"
      },
      "source": [
        "### Summarize Scores"
      ]
    },
    {
      "cell_type": "code",
      "execution_count": 27,
      "id": "51eb7e66",
      "metadata": {
        "id": "51eb7e66"
      },
      "outputs": [],
      "source": [
        "scores = fit.scores_\n",
        "features = fit.transform(x)"
      ]
    },
    {
      "cell_type": "code",
      "execution_count": 28,
      "id": "f3fabb79",
      "metadata": {
        "colab": {
          "base_uri": "https://localhost:8080/",
          "height": 363
        },
        "id": "f3fabb79",
        "outputId": "4c66a5ee-3e23-4118-b15a-a28327f9e810"
      },
      "outputs": [
        {
          "output_type": "execute_result",
          "data": {
            "text/plain": [
              "      Score Feature\n",
              "7  1.712822     CDP\n",
              "4  1.600277    GTEP\n",
              "5  1.321477     TIT\n",
              "6  0.893280     TAT\n",
              "3  0.660426    AFDP\n",
              "8  0.512595      CO\n",
              "0  0.412622      AT\n",
              "9  0.300856     NOX\n",
              "1  0.139310      AP\n",
              "2  0.097477      AH"
            ],
            "text/html": [
              "\n",
              "  <div id=\"df-0844fc36-aa5d-44bc-879f-81161e1876cc\" class=\"colab-df-container\">\n",
              "    <div>\n",
              "<style scoped>\n",
              "    .dataframe tbody tr th:only-of-type {\n",
              "        vertical-align: middle;\n",
              "    }\n",
              "\n",
              "    .dataframe tbody tr th {\n",
              "        vertical-align: top;\n",
              "    }\n",
              "\n",
              "    .dataframe thead th {\n",
              "        text-align: right;\n",
              "    }\n",
              "</style>\n",
              "<table border=\"1\" class=\"dataframe\">\n",
              "  <thead>\n",
              "    <tr style=\"text-align: right;\">\n",
              "      <th></th>\n",
              "      <th>Score</th>\n",
              "      <th>Feature</th>\n",
              "    </tr>\n",
              "  </thead>\n",
              "  <tbody>\n",
              "    <tr>\n",
              "      <th>7</th>\n",
              "      <td>1.712822</td>\n",
              "      <td>CDP</td>\n",
              "    </tr>\n",
              "    <tr>\n",
              "      <th>4</th>\n",
              "      <td>1.600277</td>\n",
              "      <td>GTEP</td>\n",
              "    </tr>\n",
              "    <tr>\n",
              "      <th>5</th>\n",
              "      <td>1.321477</td>\n",
              "      <td>TIT</td>\n",
              "    </tr>\n",
              "    <tr>\n",
              "      <th>6</th>\n",
              "      <td>0.893280</td>\n",
              "      <td>TAT</td>\n",
              "    </tr>\n",
              "    <tr>\n",
              "      <th>3</th>\n",
              "      <td>0.660426</td>\n",
              "      <td>AFDP</td>\n",
              "    </tr>\n",
              "    <tr>\n",
              "      <th>8</th>\n",
              "      <td>0.512595</td>\n",
              "      <td>CO</td>\n",
              "    </tr>\n",
              "    <tr>\n",
              "      <th>0</th>\n",
              "      <td>0.412622</td>\n",
              "      <td>AT</td>\n",
              "    </tr>\n",
              "    <tr>\n",
              "      <th>9</th>\n",
              "      <td>0.300856</td>\n",
              "      <td>NOX</td>\n",
              "    </tr>\n",
              "    <tr>\n",
              "      <th>1</th>\n",
              "      <td>0.139310</td>\n",
              "      <td>AP</td>\n",
              "    </tr>\n",
              "    <tr>\n",
              "      <th>2</th>\n",
              "      <td>0.097477</td>\n",
              "      <td>AH</td>\n",
              "    </tr>\n",
              "  </tbody>\n",
              "</table>\n",
              "</div>\n",
              "    <div class=\"colab-df-buttons\">\n",
              "\n",
              "  <div class=\"colab-df-container\">\n",
              "    <button class=\"colab-df-convert\" onclick=\"convertToInteractive('df-0844fc36-aa5d-44bc-879f-81161e1876cc')\"\n",
              "            title=\"Convert this dataframe to an interactive table.\"\n",
              "            style=\"display:none;\">\n",
              "\n",
              "  <svg xmlns=\"http://www.w3.org/2000/svg\" height=\"24px\" viewBox=\"0 -960 960 960\">\n",
              "    <path d=\"M120-120v-720h720v720H120Zm60-500h600v-160H180v160Zm220 220h160v-160H400v160Zm0 220h160v-160H400v160ZM180-400h160v-160H180v160Zm440 0h160v-160H620v160ZM180-180h160v-160H180v160Zm440 0h160v-160H620v160Z\"/>\n",
              "  </svg>\n",
              "    </button>\n",
              "\n",
              "  <style>\n",
              "    .colab-df-container {\n",
              "      display:flex;\n",
              "      gap: 12px;\n",
              "    }\n",
              "\n",
              "    .colab-df-convert {\n",
              "      background-color: #E8F0FE;\n",
              "      border: none;\n",
              "      border-radius: 50%;\n",
              "      cursor: pointer;\n",
              "      display: none;\n",
              "      fill: #1967D2;\n",
              "      height: 32px;\n",
              "      padding: 0 0 0 0;\n",
              "      width: 32px;\n",
              "    }\n",
              "\n",
              "    .colab-df-convert:hover {\n",
              "      background-color: #E2EBFA;\n",
              "      box-shadow: 0px 1px 2px rgba(60, 64, 67, 0.3), 0px 1px 3px 1px rgba(60, 64, 67, 0.15);\n",
              "      fill: #174EA6;\n",
              "    }\n",
              "\n",
              "    .colab-df-buttons div {\n",
              "      margin-bottom: 4px;\n",
              "    }\n",
              "\n",
              "    [theme=dark] .colab-df-convert {\n",
              "      background-color: #3B4455;\n",
              "      fill: #D2E3FC;\n",
              "    }\n",
              "\n",
              "    [theme=dark] .colab-df-convert:hover {\n",
              "      background-color: #434B5C;\n",
              "      box-shadow: 0px 1px 3px 1px rgba(0, 0, 0, 0.15);\n",
              "      filter: drop-shadow(0px 1px 2px rgba(0, 0, 0, 0.3));\n",
              "      fill: #FFFFFF;\n",
              "    }\n",
              "  </style>\n",
              "\n",
              "    <script>\n",
              "      const buttonEl =\n",
              "        document.querySelector('#df-0844fc36-aa5d-44bc-879f-81161e1876cc button.colab-df-convert');\n",
              "      buttonEl.style.display =\n",
              "        google.colab.kernel.accessAllowed ? 'block' : 'none';\n",
              "\n",
              "      async function convertToInteractive(key) {\n",
              "        const element = document.querySelector('#df-0844fc36-aa5d-44bc-879f-81161e1876cc');\n",
              "        const dataTable =\n",
              "          await google.colab.kernel.invokeFunction('convertToInteractive',\n",
              "                                                    [key], {});\n",
              "        if (!dataTable) return;\n",
              "\n",
              "        const docLinkHtml = 'Like what you see? Visit the ' +\n",
              "          '<a target=\"_blank\" href=https://colab.research.google.com/notebooks/data_table.ipynb>data table notebook</a>'\n",
              "          + ' to learn more about interactive tables.';\n",
              "        element.innerHTML = '';\n",
              "        dataTable['output_type'] = 'display_data';\n",
              "        await google.colab.output.renderOutput(dataTable, element);\n",
              "        const docLink = document.createElement('div');\n",
              "        docLink.innerHTML = docLinkHtml;\n",
              "        element.appendChild(docLink);\n",
              "      }\n",
              "    </script>\n",
              "  </div>\n",
              "\n",
              "\n",
              "<div id=\"df-dc6c00ce-4488-4c0c-a934-2645ae7d8ae1\">\n",
              "  <button class=\"colab-df-quickchart\" onclick=\"quickchart('df-dc6c00ce-4488-4c0c-a934-2645ae7d8ae1')\"\n",
              "            title=\"Suggest charts\"\n",
              "            style=\"display:none;\">\n",
              "\n",
              "<svg xmlns=\"http://www.w3.org/2000/svg\" height=\"24px\"viewBox=\"0 0 24 24\"\n",
              "     width=\"24px\">\n",
              "    <g>\n",
              "        <path d=\"M19 3H5c-1.1 0-2 .9-2 2v14c0 1.1.9 2 2 2h14c1.1 0 2-.9 2-2V5c0-1.1-.9-2-2-2zM9 17H7v-7h2v7zm4 0h-2V7h2v10zm4 0h-2v-4h2v4z\"/>\n",
              "    </g>\n",
              "</svg>\n",
              "  </button>\n",
              "\n",
              "<style>\n",
              "  .colab-df-quickchart {\n",
              "      --bg-color: #E8F0FE;\n",
              "      --fill-color: #1967D2;\n",
              "      --hover-bg-color: #E2EBFA;\n",
              "      --hover-fill-color: #174EA6;\n",
              "      --disabled-fill-color: #AAA;\n",
              "      --disabled-bg-color: #DDD;\n",
              "  }\n",
              "\n",
              "  [theme=dark] .colab-df-quickchart {\n",
              "      --bg-color: #3B4455;\n",
              "      --fill-color: #D2E3FC;\n",
              "      --hover-bg-color: #434B5C;\n",
              "      --hover-fill-color: #FFFFFF;\n",
              "      --disabled-bg-color: #3B4455;\n",
              "      --disabled-fill-color: #666;\n",
              "  }\n",
              "\n",
              "  .colab-df-quickchart {\n",
              "    background-color: var(--bg-color);\n",
              "    border: none;\n",
              "    border-radius: 50%;\n",
              "    cursor: pointer;\n",
              "    display: none;\n",
              "    fill: var(--fill-color);\n",
              "    height: 32px;\n",
              "    padding: 0;\n",
              "    width: 32px;\n",
              "  }\n",
              "\n",
              "  .colab-df-quickchart:hover {\n",
              "    background-color: var(--hover-bg-color);\n",
              "    box-shadow: 0 1px 2px rgba(60, 64, 67, 0.3), 0 1px 3px 1px rgba(60, 64, 67, 0.15);\n",
              "    fill: var(--button-hover-fill-color);\n",
              "  }\n",
              "\n",
              "  .colab-df-quickchart-complete:disabled,\n",
              "  .colab-df-quickchart-complete:disabled:hover {\n",
              "    background-color: var(--disabled-bg-color);\n",
              "    fill: var(--disabled-fill-color);\n",
              "    box-shadow: none;\n",
              "  }\n",
              "\n",
              "  .colab-df-spinner {\n",
              "    border: 2px solid var(--fill-color);\n",
              "    border-color: transparent;\n",
              "    border-bottom-color: var(--fill-color);\n",
              "    animation:\n",
              "      spin 1s steps(1) infinite;\n",
              "  }\n",
              "\n",
              "  @keyframes spin {\n",
              "    0% {\n",
              "      border-color: transparent;\n",
              "      border-bottom-color: var(--fill-color);\n",
              "      border-left-color: var(--fill-color);\n",
              "    }\n",
              "    20% {\n",
              "      border-color: transparent;\n",
              "      border-left-color: var(--fill-color);\n",
              "      border-top-color: var(--fill-color);\n",
              "    }\n",
              "    30% {\n",
              "      border-color: transparent;\n",
              "      border-left-color: var(--fill-color);\n",
              "      border-top-color: var(--fill-color);\n",
              "      border-right-color: var(--fill-color);\n",
              "    }\n",
              "    40% {\n",
              "      border-color: transparent;\n",
              "      border-right-color: var(--fill-color);\n",
              "      border-top-color: var(--fill-color);\n",
              "    }\n",
              "    60% {\n",
              "      border-color: transparent;\n",
              "      border-right-color: var(--fill-color);\n",
              "    }\n",
              "    80% {\n",
              "      border-color: transparent;\n",
              "      border-right-color: var(--fill-color);\n",
              "      border-bottom-color: var(--fill-color);\n",
              "    }\n",
              "    90% {\n",
              "      border-color: transparent;\n",
              "      border-bottom-color: var(--fill-color);\n",
              "    }\n",
              "  }\n",
              "</style>\n",
              "\n",
              "  <script>\n",
              "    async function quickchart(key) {\n",
              "      const quickchartButtonEl =\n",
              "        document.querySelector('#' + key + ' button');\n",
              "      quickchartButtonEl.disabled = true;  // To prevent multiple clicks.\n",
              "      quickchartButtonEl.classList.add('colab-df-spinner');\n",
              "      try {\n",
              "        const charts = await google.colab.kernel.invokeFunction(\n",
              "            'suggestCharts', [key], {});\n",
              "      } catch (error) {\n",
              "        console.error('Error during call to suggestCharts:', error);\n",
              "      }\n",
              "      quickchartButtonEl.classList.remove('colab-df-spinner');\n",
              "      quickchartButtonEl.classList.add('colab-df-quickchart-complete');\n",
              "    }\n",
              "    (() => {\n",
              "      let quickchartButtonEl =\n",
              "        document.querySelector('#df-dc6c00ce-4488-4c0c-a934-2645ae7d8ae1 button');\n",
              "      quickchartButtonEl.style.display =\n",
              "        google.colab.kernel.accessAllowed ? 'block' : 'none';\n",
              "    })();\n",
              "  </script>\n",
              "</div>\n",
              "\n",
              "  <div id=\"id_1bf38585-c01b-46cc-820b-02ab6185a3fa\">\n",
              "    <style>\n",
              "      .colab-df-generate {\n",
              "        background-color: #E8F0FE;\n",
              "        border: none;\n",
              "        border-radius: 50%;\n",
              "        cursor: pointer;\n",
              "        display: none;\n",
              "        fill: #1967D2;\n",
              "        height: 32px;\n",
              "        padding: 0 0 0 0;\n",
              "        width: 32px;\n",
              "      }\n",
              "\n",
              "      .colab-df-generate:hover {\n",
              "        background-color: #E2EBFA;\n",
              "        box-shadow: 0px 1px 2px rgba(60, 64, 67, 0.3), 0px 1px 3px 1px rgba(60, 64, 67, 0.15);\n",
              "        fill: #174EA6;\n",
              "      }\n",
              "\n",
              "      [theme=dark] .colab-df-generate {\n",
              "        background-color: #3B4455;\n",
              "        fill: #D2E3FC;\n",
              "      }\n",
              "\n",
              "      [theme=dark] .colab-df-generate:hover {\n",
              "        background-color: #434B5C;\n",
              "        box-shadow: 0px 1px 3px 1px rgba(0, 0, 0, 0.15);\n",
              "        filter: drop-shadow(0px 1px 2px rgba(0, 0, 0, 0.3));\n",
              "        fill: #FFFFFF;\n",
              "      }\n",
              "    </style>\n",
              "    <button class=\"colab-df-generate\" onclick=\"generateWithVariable('score_df')\"\n",
              "            title=\"Generate code using this dataframe.\"\n",
              "            style=\"display:none;\">\n",
              "\n",
              "  <svg xmlns=\"http://www.w3.org/2000/svg\" height=\"24px\"viewBox=\"0 0 24 24\"\n",
              "       width=\"24px\">\n",
              "    <path d=\"M7,19H8.4L18.45,9,17,7.55,7,17.6ZM5,21V16.75L18.45,3.32a2,2,0,0,1,2.83,0l1.4,1.43a1.91,1.91,0,0,1,.58,1.4,1.91,1.91,0,0,1-.58,1.4L9.25,21ZM18.45,9,17,7.55Zm-12,3A5.31,5.31,0,0,0,4.9,8.1,5.31,5.31,0,0,0,1,6.5,5.31,5.31,0,0,0,4.9,4.9,5.31,5.31,0,0,0,6.5,1,5.31,5.31,0,0,0,8.1,4.9,5.31,5.31,0,0,0,12,6.5,5.46,5.46,0,0,0,6.5,12Z\"/>\n",
              "  </svg>\n",
              "    </button>\n",
              "    <script>\n",
              "      (() => {\n",
              "      const buttonEl =\n",
              "        document.querySelector('#id_1bf38585-c01b-46cc-820b-02ab6185a3fa button.colab-df-generate');\n",
              "      buttonEl.style.display =\n",
              "        google.colab.kernel.accessAllowed ? 'block' : 'none';\n",
              "\n",
              "      buttonEl.onclick = () => {\n",
              "        google.colab.notebook.generateWithVariable('score_df');\n",
              "      }\n",
              "      })();\n",
              "    </script>\n",
              "  </div>\n",
              "\n",
              "    </div>\n",
              "  </div>\n"
            ],
            "application/vnd.google.colaboratory.intrinsic+json": {
              "type": "dataframe",
              "variable_name": "score_df",
              "summary": "{\n  \"name\": \"score_df\",\n  \"rows\": 10,\n  \"fields\": [\n    {\n      \"column\": \"Score\",\n      \"properties\": {\n        \"dtype\": \"number\",\n        \"std\": 0.5938102546167472,\n        \"min\": 0.09747665920933901,\n        \"max\": 1.7128218127753163,\n        \"num_unique_values\": 10,\n        \"samples\": [\n          0.13930950630924333,\n          1.600276833689727,\n          0.5125953529823244\n        ],\n        \"semantic_type\": \"\",\n        \"description\": \"\"\n      }\n    },\n    {\n      \"column\": \"Feature\",\n      \"properties\": {\n        \"dtype\": \"string\",\n        \"num_unique_values\": 10,\n        \"samples\": [\n          \"AP\",\n          \"GTEP\",\n          \"CO\"\n        ],\n        \"semantic_type\": \"\",\n        \"description\": \"\"\n      }\n    }\n  ]\n}"
            }
          },
          "metadata": {},
          "execution_count": 28
        }
      ],
      "source": [
        "score_df = pd.DataFrame(list(zip(scores, x.columns)), columns =['Score', 'Feature'])\n",
        "score_df.sort_values(by=\"Score\", ascending=False, inplace=True)\n",
        "score_df"
      ]
    },
    {
      "cell_type": "code",
      "execution_count": 29,
      "id": "878f4825",
      "metadata": {
        "colab": {
          "base_uri": "https://localhost:8080/",
          "height": 563
        },
        "id": "878f4825",
        "outputId": "3fbef14c-d467-4fef-f2ab-213610e58902"
      },
      "outputs": [
        {
          "output_type": "display_data",
          "data": {
            "text/plain": [
              "<Figure size 1200x600 with 1 Axes>"
            ],
            "image/png": "[encoded data removed]"
          },
          "metadata": {}
        }
      ],
      "source": [
        "fig, axes = plt.subplots(figsize=(12,6))\n",
        "plt.bar([i for i in range(len(scores))],scores)\n",
        "axes.set_xticks([0,1,2,3,4,5,6,7,8,9])\n",
        "axes.set_xticklabels(x.columns.values)\n",
        "plt.xticks(rotation = 90, size = 15)\n",
        "plt.show()"
      ]
    },
    {
      "cell_type": "code",
      "execution_count": 30,
      "id": "f747ae75",
      "metadata": {
        "colab": {
          "base_uri": "https://localhost:8080/",
          "height": 620
        },
        "id": "f747ae75",
        "outputId": "364931a6-335c-49b2-9a5e-bf09765f95ce"
      },
      "outputs": [
        {
          "output_type": "display_data",
          "data": {
            "text/plain": [
              "<Figure size 1200x600 with 1 Axes>"
            ],
            "image/png": "[encoded data removed]"
          },
          "metadata": {}
        }
      ],
      "source": [
        "plt.figure(figsize=(12,6))\n",
        "sns.barplot(x='Feature', y=\"Score\", data=score_df, order=score_df.sort_values('Score').Feature)\n",
        "plt.xlabel(\"Features\", size=15)\n",
        "plt.ylabel(\"Scores\", size=15)\n",
        "plt.yticks(rotation = 0, fontsize = 14)\n",
        "plt.xticks(rotation = 90, fontsize = 16)\n",
        "plt.title(\"Feature Score w.r.t the Sales\", size=18)\n",
        "plt.show()"
      ]
    },
    {
      "cell_type": "code",
      "execution_count": 31,
      "id": "a1fd0e25",
      "metadata": {
        "colab": {
          "base_uri": "https://localhost:8080/",
          "height": 363
        },
        "id": "a1fd0e25",
        "outputId": "8308d643-11db-4fc3-be3e-219ef2d6cc6c"
      },
      "outputs": [
        {
          "output_type": "execute_result",
          "data": {
            "text/plain": [
              "      Score Feature\n",
              "7  1.712822     CDP\n",
              "4  1.600277    GTEP\n",
              "5  1.321477     TIT\n",
              "6  0.893280     TAT\n",
              "3  0.660426    AFDP\n",
              "8  0.512595      CO\n",
              "0  0.412622      AT\n",
              "9  0.300856     NOX\n",
              "1  0.139310      AP\n",
              "2  0.097477      AH"
            ],
            "text/html": [
              "\n",
              "  <div id=\"df-cf13332a-e025-4b24-a853-5c3eecab50a9\" class=\"colab-df-container\">\n",
              "    <div>\n",
              "<style scoped>\n",
              "    .dataframe tbody tr th:only-of-type {\n",
              "        vertical-align: middle;\n",
              "    }\n",
              "\n",
              "    .dataframe tbody tr th {\n",
              "        vertical-align: top;\n",
              "    }\n",
              "\n",
              "    .dataframe thead th {\n",
              "        text-align: right;\n",
              "    }\n",
              "</style>\n",
              "<table border=\"1\" class=\"dataframe\">\n",
              "  <thead>\n",
              "    <tr style=\"text-align: right;\">\n",
              "      <th></th>\n",
              "      <th>Score</th>\n",
              "      <th>Feature</th>\n",
              "    </tr>\n",
              "  </thead>\n",
              "  <tbody>\n",
              "    <tr>\n",
              "      <th>7</th>\n",
              "      <td>1.712822</td>\n",
              "      <td>CDP</td>\n",
              "    </tr>\n",
              "    <tr>\n",
              "      <th>4</th>\n",
              "      <td>1.600277</td>\n",
              "      <td>GTEP</td>\n",
              "    </tr>\n",
              "    <tr>\n",
              "      <th>5</th>\n",
              "      <td>1.321477</td>\n",
              "      <td>TIT</td>\n",
              "    </tr>\n",
              "    <tr>\n",
              "      <th>6</th>\n",
              "      <td>0.893280</td>\n",
              "      <td>TAT</td>\n",
              "    </tr>\n",
              "    <tr>\n",
              "      <th>3</th>\n",
              "      <td>0.660426</td>\n",
              "      <td>AFDP</td>\n",
              "    </tr>\n",
              "    <tr>\n",
              "      <th>8</th>\n",
              "      <td>0.512595</td>\n",
              "      <td>CO</td>\n",
              "    </tr>\n",
              "    <tr>\n",
              "      <th>0</th>\n",
              "      <td>0.412622</td>\n",
              "      <td>AT</td>\n",
              "    </tr>\n",
              "    <tr>\n",
              "      <th>9</th>\n",
              "      <td>0.300856</td>\n",
              "      <td>NOX</td>\n",
              "    </tr>\n",
              "    <tr>\n",
              "      <th>1</th>\n",
              "      <td>0.139310</td>\n",
              "      <td>AP</td>\n",
              "    </tr>\n",
              "    <tr>\n",
              "      <th>2</th>\n",
              "      <td>0.097477</td>\n",
              "      <td>AH</td>\n",
              "    </tr>\n",
              "  </tbody>\n",
              "</table>\n",
              "</div>\n",
              "    <div class=\"colab-df-buttons\">\n",
              "\n",
              "  <div class=\"colab-df-container\">\n",
              "    <button class=\"colab-df-convert\" onclick=\"convertToInteractive('df-cf13332a-e025-4b24-a853-5c3eecab50a9')\"\n",
              "            title=\"Convert this dataframe to an interactive table.\"\n",
              "            style=\"display:none;\">\n",
              "\n",
              "  <svg xmlns=\"http://www.w3.org/2000/svg\" height=\"24px\" viewBox=\"0 -960 960 960\">\n",
              "    <path d=\"M120-120v-720h720v720H120Zm60-500h600v-160H180v160Zm220 220h160v-160H400v160Zm0 220h160v-160H400v160ZM180-400h160v-160H180v160Zm440 0h160v-160H620v160ZM180-180h160v-160H180v160Zm440 0h160v-160H620v160Z\"/>\n",
              "  </svg>\n",
              "    </button>\n",
              "\n",
              "  <style>\n",
              "    .colab-df-container {\n",
              "      display:flex;\n",
              "      gap: 12px;\n",
              "    }\n",
              "\n",
              "    .colab-df-convert {\n",
              "      background-color: #E8F0FE;\n",
              "      border: none;\n",
              "      border-radius: 50%;\n",
              "      cursor: pointer;\n",
              "      display: none;\n",
              "      fill: #1967D2;\n",
              "      height: 32px;\n",
              "      padding: 0 0 0 0;\n",
              "      width: 32px;\n",
              "    }\n",
              "\n",
              "    .colab-df-convert:hover {\n",
              "      background-color: #E2EBFA;\n",
              "      box-shadow: 0px 1px 2px rgba(60, 64, 67, 0.3), 0px 1px 3px 1px rgba(60, 64, 67, 0.15);\n",
              "      fill: #174EA6;\n",
              "    }\n",
              "\n",
              "    .colab-df-buttons div {\n",
              "      margin-bottom: 4px;\n",
              "    }\n",
              "\n",
              "    [theme=dark] .colab-df-convert {\n",
              "      background-color: #3B4455;\n",
              "      fill: #D2E3FC;\n",
              "    }\n",
              "\n",
              "    [theme=dark] .colab-df-convert:hover {\n",
              "      background-color: #434B5C;\n",
              "      box-shadow: 0px 1px 3px 1px rgba(0, 0, 0, 0.15);\n",
              "      filter: drop-shadow(0px 1px 2px rgba(0, 0, 0, 0.3));\n",
              "      fill: #FFFFFF;\n",
              "    }\n",
              "  </style>\n",
              "\n",
              "    <script>\n",
              "      const buttonEl =\n",
              "        document.querySelector('#df-cf13332a-e025-4b24-a853-5c3eecab50a9 button.colab-df-convert');\n",
              "      buttonEl.style.display =\n",
              "        google.colab.kernel.accessAllowed ? 'block' : 'none';\n",
              "\n",
              "      async function convertToInteractive(key) {\n",
              "        const element = document.querySelector('#df-cf13332a-e025-4b24-a853-5c3eecab50a9');\n",
              "        const dataTable =\n",
              "          await google.colab.kernel.invokeFunction('convertToInteractive',\n",
              "                                                    [key], {});\n",
              "        if (!dataTable) return;\n",
              "\n",
              "        const docLinkHtml = 'Like what you see? Visit the ' +\n",
              "          '<a target=\"_blank\" href=https://colab.research.google.com/notebooks/data_table.ipynb>data table notebook</a>'\n",
              "          + ' to learn more about interactive tables.';\n",
              "        element.innerHTML = '';\n",
              "        dataTable['output_type'] = 'display_data';\n",
              "        await google.colab.output.renderOutput(dataTable, element);\n",
              "        const docLink = document.createElement('div');\n",
              "        docLink.innerHTML = docLinkHtml;\n",
              "        element.appendChild(docLink);\n",
              "      }\n",
              "    </script>\n",
              "  </div>\n",
              "\n",
              "\n",
              "<div id=\"df-64287350-58cb-46c2-a9e2-568735dc763c\">\n",
              "  <button class=\"colab-df-quickchart\" onclick=\"quickchart('df-64287350-58cb-46c2-a9e2-568735dc763c')\"\n",
              "            title=\"Suggest charts\"\n",
              "            style=\"display:none;\">\n",
              "\n",
              "<svg xmlns=\"http://www.w3.org/2000/svg\" height=\"24px\"viewBox=\"0 0 24 24\"\n",
              "     width=\"24px\">\n",
              "    <g>\n",
              "        <path d=\"M19 3H5c-1.1 0-2 .9-2 2v14c0 1.1.9 2 2 2h14c1.1 0 2-.9 2-2V5c0-1.1-.9-2-2-2zM9 17H7v-7h2v7zm4 0h-2V7h2v10zm4 0h-2v-4h2v4z\"/>\n",
              "    </g>\n",
              "</svg>\n",
              "  </button>\n",
              "\n",
              "<style>\n",
              "  .colab-df-quickchart {\n",
              "      --bg-color: #E8F0FE;\n",
              "      --fill-color: #1967D2;\n",
              "      --hover-bg-color: #E2EBFA;\n",
              "      --hover-fill-color: #174EA6;\n",
              "      --disabled-fill-color: #AAA;\n",
              "      --disabled-bg-color: #DDD;\n",
              "  }\n",
              "\n",
              "  [theme=dark] .colab-df-quickchart {\n",
              "      --bg-color: #3B4455;\n",
              "      --fill-color: #D2E3FC;\n",
              "      --hover-bg-color: #434B5C;\n",
              "      --hover-fill-color: #FFFFFF;\n",
              "      --disabled-bg-color: #3B4455;\n",
              "      --disabled-fill-color: #666;\n",
              "  }\n",
              "\n",
              "  .colab-df-quickchart {\n",
              "    background-color: var(--bg-color);\n",
              "    border: none;\n",
              "    border-radius: 50%;\n",
              "    cursor: pointer;\n",
              "    display: none;\n",
              "    fill: var(--fill-color);\n",
              "    height: 32px;\n",
              "    padding: 0;\n",
              "    width: 32px;\n",
              "  }\n",
              "\n",
              "  .colab-df-quickchart:hover {\n",
              "    background-color: var(--hover-bg-color);\n",
              "    box-shadow: 0 1px 2px rgba(60, 64, 67, 0.3), 0 1px 3px 1px rgba(60, 64, 67, 0.15);\n",
              "    fill: var(--button-hover-fill-color);\n",
              "  }\n",
              "\n",
              "  .colab-df-quickchart-complete:disabled,\n",
              "  .colab-df-quickchart-complete:disabled:hover {\n",
              "    background-color: var(--disabled-bg-color);\n",
              "    fill: var(--disabled-fill-color);\n",
              "    box-shadow: none;\n",
              "  }\n",
              "\n",
              "  .colab-df-spinner {\n",
              "    border: 2px solid var(--fill-color);\n",
              "    border-color: transparent;\n",
              "    border-bottom-color: var(--fill-color);\n",
              "    animation:\n",
              "      spin 1s steps(1) infinite;\n",
              "  }\n",
              "\n",
              "  @keyframes spin {\n",
              "    0% {\n",
              "      border-color: transparent;\n",
              "      border-bottom-color: var(--fill-color);\n",
              "      border-left-color: var(--fill-color);\n",
              "    }\n",
              "    20% {\n",
              "      border-color: transparent;\n",
              "      border-left-color: var(--fill-color);\n",
              "      border-top-color: var(--fill-color);\n",
              "    }\n",
              "    30% {\n",
              "      border-color: transparent;\n",
              "      border-left-color: var(--fill-color);\n",
              "      border-top-color: var(--fill-color);\n",
              "      border-right-color: var(--fill-color);\n",
              "    }\n",
              "    40% {\n",
              "      border-color: transparent;\n",
              "      border-right-color: var(--fill-color);\n",
              "      border-top-color: var(--fill-color);\n",
              "    }\n",
              "    60% {\n",
              "      border-color: transparent;\n",
              "      border-right-color: var(--fill-color);\n",
              "    }\n",
              "    80% {\n",
              "      border-color: transparent;\n",
              "      border-right-color: var(--fill-color);\n",
              "      border-bottom-color: var(--fill-color);\n",
              "    }\n",
              "    90% {\n",
              "      border-color: transparent;\n",
              "      border-bottom-color: var(--fill-color);\n",
              "    }\n",
              "  }\n",
              "</style>\n",
              "\n",
              "  <script>\n",
              "    async function quickchart(key) {\n",
              "      const quickchartButtonEl =\n",
              "        document.querySelector('#' + key + ' button');\n",
              "      quickchartButtonEl.disabled = true;  // To prevent multiple clicks.\n",
              "      quickchartButtonEl.classList.add('colab-df-spinner');\n",
              "      try {\n",
              "        const charts = await google.colab.kernel.invokeFunction(\n",
              "            'suggestCharts', [key], {});\n",
              "      } catch (error) {\n",
              "        console.error('Error during call to suggestCharts:', error);\n",
              "      }\n",
              "      quickchartButtonEl.classList.remove('colab-df-spinner');\n",
              "      quickchartButtonEl.classList.add('colab-df-quickchart-complete');\n",
              "    }\n",
              "    (() => {\n",
              "      let quickchartButtonEl =\n",
              "        document.querySelector('#df-64287350-58cb-46c2-a9e2-568735dc763c button');\n",
              "      quickchartButtonEl.style.display =\n",
              "        google.colab.kernel.accessAllowed ? 'block' : 'none';\n",
              "    })();\n",
              "  </script>\n",
              "</div>\n",
              "\n",
              "    </div>\n",
              "  </div>\n"
            ],
            "application/vnd.google.colaboratory.intrinsic+json": {
              "type": "dataframe",
              "summary": "{\n  \"name\": \"score_df\",\n  \"rows\": 10,\n  \"fields\": [\n    {\n      \"column\": \"Score\",\n      \"properties\": {\n        \"dtype\": \"number\",\n        \"std\": 0.5938102546167472,\n        \"min\": 0.09747665920933901,\n        \"max\": 1.7128218127753163,\n        \"num_unique_values\": 10,\n        \"samples\": [\n          0.13930950630924333,\n          1.600276833689727,\n          0.5125953529823244\n        ],\n        \"semantic_type\": \"\",\n        \"description\": \"\"\n      }\n    },\n    {\n      \"column\": \"Feature\",\n      \"properties\": {\n        \"dtype\": \"string\",\n        \"num_unique_values\": 10,\n        \"samples\": [\n          \"AP\",\n          \"GTEP\",\n          \"CO\"\n        ],\n        \"semantic_type\": \"\",\n        \"description\": \"\"\n      }\n    }\n  ]\n}"
            }
          },
          "metadata": {},
          "execution_count": 31
        }
      ],
      "source": [
        "score_df.sort_values('Score', ascending=False)"
      ]
    },
    {
      "cell_type": "code",
      "execution_count": 32,
      "id": "323165ce",
      "metadata": {
        "colab": {
          "base_uri": "https://localhost:8080/",
          "height": 206
        },
        "id": "323165ce",
        "outputId": "000e860c-99ae-47c1-bd98-cf4d5687318d"
      },
      "outputs": [
        {
          "output_type": "execute_result",
          "data": {
            "text/plain": [
              "      CDP    GTEP     TIT     TAT    AFDP      CO      AT     TEY\n",
              "0  10.605  19.663  1059.2  550.00  3.5000  3.1547  6.8594  114.70\n",
              "1  10.598  19.728  1059.3  550.00  3.4998  3.2363  6.7850  114.72\n",
              "2  10.601  19.779  1059.4  549.87  3.4824  3.2012  6.8977  114.71\n",
              "3  10.606  19.792  1059.6  549.99  3.4805  3.1923  7.0569  114.72\n",
              "4  10.612  19.765  1059.7  549.98  3.4976  3.2484  7.3978  114.72"
            ],
            "text/html": [
              "\n",
              "  <div id=\"df-38597976-0910-45a1-8aa9-b0919cdcd151\" class=\"colab-df-container\">\n",
              "    <div>\n",
              "<style scoped>\n",
              "    .dataframe tbody tr th:only-of-type {\n",
              "        vertical-align: middle;\n",
              "    }\n",
              "\n",
              "    .dataframe tbody tr th {\n",
              "        vertical-align: top;\n",
              "    }\n",
              "\n",
              "    .dataframe thead th {\n",
              "        text-align: right;\n",
              "    }\n",
              "</style>\n",
              "<table border=\"1\" class=\"dataframe\">\n",
              "  <thead>\n",
              "    <tr style=\"text-align: right;\">\n",
              "      <th></th>\n",
              "      <th>CDP</th>\n",
              "      <th>GTEP</th>\n",
              "      <th>TIT</th>\n",
              "      <th>TAT</th>\n",
              "      <th>AFDP</th>\n",
              "      <th>CO</th>\n",
              "      <th>AT</th>\n",
              "      <th>TEY</th>\n",
              "    </tr>\n",
              "  </thead>\n",
              "  <tbody>\n",
              "    <tr>\n",
              "      <th>0</th>\n",
              "      <td>10.605</td>\n",
              "      <td>19.663</td>\n",
              "      <td>1059.2</td>\n",
              "      <td>550.00</td>\n",
              "      <td>3.5000</td>\n",
              "      <td>3.1547</td>\n",
              "      <td>6.8594</td>\n",
              "      <td>114.70</td>\n",
              "    </tr>\n",
              "    <tr>\n",
              "      <th>1</th>\n",
              "      <td>10.598</td>\n",
              "      <td>19.728</td>\n",
              "      <td>1059.3</td>\n",
              "      <td>550.00</td>\n",
              "      <td>3.4998</td>\n",
              "      <td>3.2363</td>\n",
              "      <td>6.7850</td>\n",
              "      <td>114.72</td>\n",
              "    </tr>\n",
              "    <tr>\n",
              "      <th>2</th>\n",
              "      <td>10.601</td>\n",
              "      <td>19.779</td>\n",
              "      <td>1059.4</td>\n",
              "      <td>549.87</td>\n",
              "      <td>3.4824</td>\n",
              "      <td>3.2012</td>\n",
              "      <td>6.8977</td>\n",
              "      <td>114.71</td>\n",
              "    </tr>\n",
              "    <tr>\n",
              "      <th>3</th>\n",
              "      <td>10.606</td>\n",
              "      <td>19.792</td>\n",
              "      <td>1059.6</td>\n",
              "      <td>549.99</td>\n",
              "      <td>3.4805</td>\n",
              "      <td>3.1923</td>\n",
              "      <td>7.0569</td>\n",
              "      <td>114.72</td>\n",
              "    </tr>\n",
              "    <tr>\n",
              "      <th>4</th>\n",
              "      <td>10.612</td>\n",
              "      <td>19.765</td>\n",
              "      <td>1059.7</td>\n",
              "      <td>549.98</td>\n",
              "      <td>3.4976</td>\n",
              "      <td>3.2484</td>\n",
              "      <td>7.3978</td>\n",
              "      <td>114.72</td>\n",
              "    </tr>\n",
              "  </tbody>\n",
              "</table>\n",
              "</div>\n",
              "    <div class=\"colab-df-buttons\">\n",
              "\n",
              "  <div class=\"colab-df-container\">\n",
              "    <button class=\"colab-df-convert\" onclick=\"convertToInteractive('df-38597976-0910-45a1-8aa9-b0919cdcd151')\"\n",
              "            title=\"Convert this dataframe to an interactive table.\"\n",
              "            style=\"display:none;\">\n",
              "\n",
              "  <svg xmlns=\"http://www.w3.org/2000/svg\" height=\"24px\" viewBox=\"0 -960 960 960\">\n",
              "    <path d=\"M120-120v-720h720v720H120Zm60-500h600v-160H180v160Zm220 220h160v-160H400v160Zm0 220h160v-160H400v160ZM180-400h160v-160H180v160Zm440 0h160v-160H620v160ZM180-180h160v-160H180v160Zm440 0h160v-160H620v160Z\"/>\n",
              "  </svg>\n",
              "    </button>\n",
              "\n",
              "  <style>\n",
              "    .colab-df-container {\n",
              "      display:flex;\n",
              "      gap: 12px;\n",
              "    }\n",
              "\n",
              "    .colab-df-convert {\n",
              "      background-color: #E8F0FE;\n",
              "      border: none;\n",
              "      border-radius: 50%;\n",
              "      cursor: pointer;\n",
              "      display: none;\n",
              "      fill: #1967D2;\n",
              "      height: 32px;\n",
              "      padding: 0 0 0 0;\n",
              "      width: 32px;\n",
              "    }\n",
              "\n",
              "    .colab-df-convert:hover {\n",
              "      background-color: #E2EBFA;\n",
              "      box-shadow: 0px 1px 2px rgba(60, 64, 67, 0.3), 0px 1px 3px 1px rgba(60, 64, 67, 0.15);\n",
              "      fill: #174EA6;\n",
              "    }\n",
              "\n",
              "    .colab-df-buttons div {\n",
              "      margin-bottom: 4px;\n",
              "    }\n",
              "\n",
              "    [theme=dark] .colab-df-convert {\n",
              "      background-color: #3B4455;\n",
              "      fill: #D2E3FC;\n",
              "    }\n",
              "\n",
              "    [theme=dark] .colab-df-convert:hover {\n",
              "      background-color: #434B5C;\n",
              "      box-shadow: 0px 1px 3px 1px rgba(0, 0, 0, 0.15);\n",
              "      filter: drop-shadow(0px 1px 2px rgba(0, 0, 0, 0.3));\n",
              "      fill: #FFFFFF;\n",
              "    }\n",
              "  </style>\n",
              "\n",
              "    <script>\n",
              "      const buttonEl =\n",
              "        document.querySelector('#df-38597976-0910-45a1-8aa9-b0919cdcd151 button.colab-df-convert');\n",
              "      buttonEl.style.display =\n",
              "        google.colab.kernel.accessAllowed ? 'block' : 'none';\n",
              "\n",
              "      async function convertToInteractive(key) {\n",
              "        const element = document.querySelector('#df-38597976-0910-45a1-8aa9-b0919cdcd151');\n",
              "        const dataTable =\n",
              "          await google.colab.kernel.invokeFunction('convertToInteractive',\n",
              "                                                    [key], {});\n",
              "        if (!dataTable) return;\n",
              "\n",
              "        const docLinkHtml = 'Like what you see? Visit the ' +\n",
              "          '<a target=\"_blank\" href=https://colab.research.google.com/notebooks/data_table.ipynb>data table notebook</a>'\n",
              "          + ' to learn more about interactive tables.';\n",
              "        element.innerHTML = '';\n",
              "        dataTable['output_type'] = 'display_data';\n",
              "        await google.colab.output.renderOutput(dataTable, element);\n",
              "        const docLink = document.createElement('div');\n",
              "        docLink.innerHTML = docLinkHtml;\n",
              "        element.appendChild(docLink);\n",
              "      }\n",
              "    </script>\n",
              "  </div>\n",
              "\n",
              "\n",
              "<div id=\"df-f2f0b10b-3d6b-4854-94e8-d0f06cc71adf\">\n",
              "  <button class=\"colab-df-quickchart\" onclick=\"quickchart('df-f2f0b10b-3d6b-4854-94e8-d0f06cc71adf')\"\n",
              "            title=\"Suggest charts\"\n",
              "            style=\"display:none;\">\n",
              "\n",
              "<svg xmlns=\"http://www.w3.org/2000/svg\" height=\"24px\"viewBox=\"0 0 24 24\"\n",
              "     width=\"24px\">\n",
              "    <g>\n",
              "        <path d=\"M19 3H5c-1.1 0-2 .9-2 2v14c0 1.1.9 2 2 2h14c1.1 0 2-.9 2-2V5c0-1.1-.9-2-2-2zM9 17H7v-7h2v7zm4 0h-2V7h2v10zm4 0h-2v-4h2v4z\"/>\n",
              "    </g>\n",
              "</svg>\n",
              "  </button>\n",
              "\n",
              "<style>\n",
              "  .colab-df-quickchart {\n",
              "      --bg-color: #E8F0FE;\n",
              "      --fill-color: #1967D2;\n",
              "      --hover-bg-color: #E2EBFA;\n",
              "      --hover-fill-color: #174EA6;\n",
              "      --disabled-fill-color: #AAA;\n",
              "      --disabled-bg-color: #DDD;\n",
              "  }\n",
              "\n",
              "  [theme=dark] .colab-df-quickchart {\n",
              "      --bg-color: #3B4455;\n",
              "      --fill-color: #D2E3FC;\n",
              "      --hover-bg-color: #434B5C;\n",
              "      --hover-fill-color: #FFFFFF;\n",
              "      --disabled-bg-color: #3B4455;\n",
              "      --disabled-fill-color: #666;\n",
              "  }\n",
              "\n",
              "  .colab-df-quickchart {\n",
              "    background-color: var(--bg-color);\n",
              "    border: none;\n",
              "    border-radius: 50%;\n",
              "    cursor: pointer;\n",
              "    display: none;\n",
              "    fill: var(--fill-color);\n",
              "    height: 32px;\n",
              "    padding: 0;\n",
              "    width: 32px;\n",
              "  }\n",
              "\n",
              "  .colab-df-quickchart:hover {\n",
              "    background-color: var(--hover-bg-color);\n",
              "    box-shadow: 0 1px 2px rgba(60, 64, 67, 0.3), 0 1px 3px 1px rgba(60, 64, 67, 0.15);\n",
              "    fill: var(--button-hover-fill-color);\n",
              "  }\n",
              "\n",
              "  .colab-df-quickchart-complete:disabled,\n",
              "  .colab-df-quickchart-complete:disabled:hover {\n",
              "    background-color: var(--disabled-bg-color);\n",
              "    fill: var(--disabled-fill-color);\n",
              "    box-shadow: none;\n",
              "  }\n",
              "\n",
              "  .colab-df-spinner {\n",
              "    border: 2px solid var(--fill-color);\n",
              "    border-color: transparent;\n",
              "    border-bottom-color: var(--fill-color);\n",
              "    animation:\n",
              "      spin 1s steps(1) infinite;\n",
              "  }\n",
              "\n",
              "  @keyframes spin {\n",
              "    0% {\n",
              "      border-color: transparent;\n",
              "      border-bottom-color: var(--fill-color);\n",
              "      border-left-color: var(--fill-color);\n",
              "    }\n",
              "    20% {\n",
              "      border-color: transparent;\n",
              "      border-left-color: var(--fill-color);\n",
              "      border-top-color: var(--fill-color);\n",
              "    }\n",
              "    30% {\n",
              "      border-color: transparent;\n",
              "      border-left-color: var(--fill-color);\n",
              "      border-top-color: var(--fill-color);\n",
              "      border-right-color: var(--fill-color);\n",
              "    }\n",
              "    40% {\n",
              "      border-color: transparent;\n",
              "      border-right-color: var(--fill-color);\n",
              "      border-top-color: var(--fill-color);\n",
              "    }\n",
              "    60% {\n",
              "      border-color: transparent;\n",
              "      border-right-color: var(--fill-color);\n",
              "    }\n",
              "    80% {\n",
              "      border-color: transparent;\n",
              "      border-right-color: var(--fill-color);\n",
              "      border-bottom-color: var(--fill-color);\n",
              "    }\n",
              "    90% {\n",
              "      border-color: transparent;\n",
              "      border-bottom-color: var(--fill-color);\n",
              "    }\n",
              "  }\n",
              "</style>\n",
              "\n",
              "  <script>\n",
              "    async function quickchart(key) {\n",
              "      const quickchartButtonEl =\n",
              "        document.querySelector('#' + key + ' button');\n",
              "      quickchartButtonEl.disabled = true;  // To prevent multiple clicks.\n",
              "      quickchartButtonEl.classList.add('colab-df-spinner');\n",
              "      try {\n",
              "        const charts = await google.colab.kernel.invokeFunction(\n",
              "            'suggestCharts', [key], {});\n",
              "      } catch (error) {\n",
              "        console.error('Error during call to suggestCharts:', error);\n",
              "      }\n",
              "      quickchartButtonEl.classList.remove('colab-df-spinner');\n",
              "      quickchartButtonEl.classList.add('colab-df-quickchart-complete');\n",
              "    }\n",
              "    (() => {\n",
              "      let quickchartButtonEl =\n",
              "        document.querySelector('#df-f2f0b10b-3d6b-4854-94e8-d0f06cc71adf button');\n",
              "      quickchartButtonEl.style.display =\n",
              "        google.colab.kernel.accessAllowed ? 'block' : 'none';\n",
              "    })();\n",
              "  </script>\n",
              "</div>\n",
              "\n",
              "    </div>\n",
              "  </div>\n"
            ],
            "application/vnd.google.colaboratory.intrinsic+json": {
              "type": "dataframe",
              "variable_name": "model_data",
              "summary": "{\n  \"name\": \"model_data\",\n  \"rows\": 15039,\n  \"fields\": [\n    {\n      \"column\": \"CDP\",\n      \"properties\": {\n        \"dtype\": \"number\",\n        \"std\": 1.1031964742249722,\n        \"min\": 9.9044,\n        \"max\": 15.081,\n        \"num_unique_values\": 3611,\n        \"samples\": [\n          10.049,\n          14.014,\n          12.124\n        ],\n        \"semantic_type\": \"\",\n        \"description\": \"\"\n      }\n    },\n    {\n      \"column\": \"GTEP\",\n      \"properties\": {\n        \"dtype\": \"number\",\n        \"std\": 4.1739156411582865,\n        \"min\": 17.878,\n        \"max\": 37.402,\n        \"num_unique_values\": 8234,\n        \"samples\": [\n          19.958,\n          25.172,\n          31.306\n        ],\n        \"semantic_type\": \"\",\n        \"description\": \"\"\n      }\n    },\n    {\n      \"column\": \"TIT\",\n      \"properties\": {\n        \"dtype\": \"number\",\n        \"std\": 16.527805560509144,\n        \"min\": 1000.8,\n        \"max\": 1100.8,\n        \"num_unique_values\": 706,\n        \"samples\": [\n          1058.7,\n          1089.8,\n          1083.2\n        ],\n        \"semantic_type\": \"\",\n        \"description\": \"\"\n      }\n    },\n    {\n      \"column\": \"TAT\",\n      \"properties\": {\n        \"dtype\": \"number\",\n        \"std\": 7.866802764617584,\n        \"min\": 512.45,\n        \"max\": 550.61,\n        \"num_unique_values\": 2340,\n        \"samples\": [\n          523.02,\n          548.04,\n          546.77\n        ],\n        \"semantic_type\": \"\",\n        \"description\": \"\"\n      }\n    },\n    {\n      \"column\": \"AFDP\",\n      \"properties\": {\n        \"dtype\": \"number\",\n        \"std\": 0.7601966070003089,\n        \"min\": 2.0874,\n        \"max\": 7.6106,\n        \"num_unique_values\": 11314,\n        \"samples\": [\n          5.3757,\n          4.2374,\n          2.8385\n        ],\n        \"semantic_type\": \"\",\n        \"description\": \"\"\n      }\n    },\n    {\n      \"column\": \"CO\",\n      \"properties\": {\n        \"dtype\": \"number\",\n        \"std\": 2.2222060306042573,\n        \"min\": 0.00038751,\n        \"max\": 44.103,\n        \"num_unique_values\": 13096,\n        \"samples\": [\n          0.20501,\n          0.40171,\n          0.57927\n        ],\n        \"semantic_type\": \"\",\n        \"description\": \"\"\n      }\n    },\n    {\n      \"column\": \"AT\",\n      \"properties\": {\n        \"dtype\": \"number\",\n        \"std\": 7.574322687875509,\n        \"min\": 0.5223,\n        \"max\": 34.929,\n        \"num_unique_values\": 12086,\n        \"samples\": [\n          8.1642,\n          5.7371,\n          9.1345\n        ],\n        \"semantic_type\": \"\",\n        \"description\": \"\"\n      }\n    },\n    {\n      \"column\": \"TEY\",\n      \"properties\": {\n        \"dtype\": \"number\",\n        \"std\": 15.8297173034807,\n        \"min\": 100.17,\n        \"max\": 174.61,\n        \"num_unique_values\": 4207,\n        \"samples\": [\n          150.27,\n          103.79,\n          162.17\n        ],\n        \"semantic_type\": \"\",\n        \"description\": \"\"\n      }\n    }\n  ]\n}"
            }
          },
          "metadata": {},
          "execution_count": 32
        }
      ],
      "source": [
        "model_data = df[['CDP', 'GTEP','TIT', 'TAT', 'AFDP', 'CO', 'AT',\"TEY\"]]\n",
        "model_data.head()"
      ]
    },
    {
      "cell_type": "markdown",
      "id": "59968adf",
      "metadata": {
        "id": "59968adf"
      },
      "source": [
        "### 5.2 Feature Engineering\n",
        "#### Applying some Data Transformation to increase the linear realtionship and improve our model prediction as well it scores\n",
        "### Applying Standard Scaler"
      ]
    },
    {
      "cell_type": "code",
      "execution_count": 33,
      "id": "17c5a983",
      "metadata": {
        "colab": {
          "base_uri": "https://localhost:8080/"
        },
        "id": "17c5a983",
        "outputId": "8a5a3826-7981-423e-b314-b88a7c69313f"
      },
      "outputs": [
        {
          "output_type": "stream",
          "name": "stdout",
          "text": [
            "Continuous Feature Count 8\n"
          ]
        }
      ],
      "source": [
        "continuous_feature=[feature for feature in model_data.columns if model_data[feature].dtype!='O']\n",
        "print('Continuous Feature Count {}'.format(len(continuous_feature)))"
      ]
    },
    {
      "cell_type": "code",
      "execution_count": 34,
      "id": "56ce2b60",
      "metadata": {
        "id": "56ce2b60"
      },
      "outputs": [],
      "source": [
        "df_standard_scaled = model_data.copy()\n",
        "features = df_standard_scaled[continuous_feature]"
      ]
    },
    {
      "cell_type": "code",
      "execution_count": 35,
      "id": "9997a6c3",
      "metadata": {
        "colab": {
          "base_uri": "https://localhost:8080/",
          "height": 206
        },
        "id": "9997a6c3",
        "outputId": "978fa875-45e7-4c82-af13-9c63c39471a5"
      },
      "outputs": [
        {
          "output_type": "execute_result",
          "data": {
            "text/plain": [
              "        CDP      GTEP       TIT       TAT      AFDP        CO        AT  \\\n",
              "0 -1.357331 -1.379101 -1.488376  0.585240 -0.921232  0.532012 -1.439778   \n",
              "1 -1.363676 -1.363528 -1.482325  0.585240 -0.921495  0.568733 -1.449601   \n",
              "2 -1.360957 -1.351309 -1.476275  0.568715 -0.944385  0.552938 -1.434721   \n",
              "3 -1.356424 -1.348194 -1.464173  0.583969 -0.946884  0.548933 -1.413702   \n",
              "4 -1.350985 -1.354663 -1.458123  0.582698 -0.924389  0.574179 -1.368693   \n",
              "\n",
              "        TEY  \n",
              "0 -1.231172  \n",
              "1 -1.229909  \n",
              "2 -1.230541  \n",
              "3 -1.229909  \n",
              "4 -1.229909  "
            ],
            "text/html": [
              "\n",
              "  <div id=\"df-24a54ccd-5da1-486f-a0f9-77d52353cbfe\" class=\"colab-df-container\">\n",
              "    <div>\n",
              "<style scoped>\n",
              "    .dataframe tbody tr th:only-of-type {\n",
              "        vertical-align: middle;\n",
              "    }\n",
              "\n",
              "    .dataframe tbody tr th {\n",
              "        vertical-align: top;\n",
              "    }\n",
              "\n",
              "    .dataframe thead th {\n",
              "        text-align: right;\n",
              "    }\n",
              "</style>\n",
              "<table border=\"1\" class=\"dataframe\">\n",
              "  <thead>\n",
              "    <tr style=\"text-align: right;\">\n",
              "      <th></th>\n",
              "      <th>CDP</th>\n",
              "      <th>GTEP</th>\n",
              "      <th>TIT</th>\n",
              "      <th>TAT</th>\n",
              "      <th>AFDP</th>\n",
              "      <th>CO</th>\n",
              "      <th>AT</th>\n",
              "      <th>TEY</th>\n",
              "    </tr>\n",
              "  </thead>\n",
              "  <tbody>\n",
              "    <tr>\n",
              "      <th>0</th>\n",
              "      <td>-1.357331</td>\n",
              "      <td>-1.379101</td>\n",
              "      <td>-1.488376</td>\n",
              "      <td>0.585240</td>\n",
              "      <td>-0.921232</td>\n",
              "      <td>0.532012</td>\n",
              "      <td>-1.439778</td>\n",
              "      <td>-1.231172</td>\n",
              "    </tr>\n",
              "    <tr>\n",
              "      <th>1</th>\n",
              "      <td>-1.363676</td>\n",
              "      <td>-1.363528</td>\n",
              "      <td>-1.482325</td>\n",
              "      <td>0.585240</td>\n",
              "      <td>-0.921495</td>\n",
              "      <td>0.568733</td>\n",
              "      <td>-1.449601</td>\n",
              "      <td>-1.229909</td>\n",
              "    </tr>\n",
              "    <tr>\n",
              "      <th>2</th>\n",
              "      <td>-1.360957</td>\n",
              "      <td>-1.351309</td>\n",
              "      <td>-1.476275</td>\n",
              "      <td>0.568715</td>\n",
              "      <td>-0.944385</td>\n",
              "      <td>0.552938</td>\n",
              "      <td>-1.434721</td>\n",
              "      <td>-1.230541</td>\n",
              "    </tr>\n",
              "    <tr>\n",
              "      <th>3</th>\n",
              "      <td>-1.356424</td>\n",
              "      <td>-1.348194</td>\n",
              "      <td>-1.464173</td>\n",
              "      <td>0.583969</td>\n",
              "      <td>-0.946884</td>\n",
              "      <td>0.548933</td>\n",
              "      <td>-1.413702</td>\n",
              "      <td>-1.229909</td>\n",
              "    </tr>\n",
              "    <tr>\n",
              "      <th>4</th>\n",
              "      <td>-1.350985</td>\n",
              "      <td>-1.354663</td>\n",
              "      <td>-1.458123</td>\n",
              "      <td>0.582698</td>\n",
              "      <td>-0.924389</td>\n",
              "      <td>0.574179</td>\n",
              "      <td>-1.368693</td>\n",
              "      <td>-1.229909</td>\n",
              "    </tr>\n",
              "  </tbody>\n",
              "</table>\n",
              "</div>\n",
              "    <div class=\"colab-df-buttons\">\n",
              "\n",
              "  <div class=\"colab-df-container\">\n",
              "    <button class=\"colab-df-convert\" onclick=\"convertToInteractive('df-24a54ccd-5da1-486f-a0f9-77d52353cbfe')\"\n",
              "            title=\"Convert this dataframe to an interactive table.\"\n",
              "            style=\"display:none;\">\n",
              "\n",
              "  <svg xmlns=\"http://www.w3.org/2000/svg\" height=\"24px\" viewBox=\"0 -960 960 960\">\n",
              "    <path d=\"M120-120v-720h720v720H120Zm60-500h600v-160H180v160Zm220 220h160v-160H400v160Zm0 220h160v-160H400v160ZM180-400h160v-160H180v160Zm440 0h160v-160H620v160ZM180-180h160v-160H180v160Zm440 0h160v-160H620v160Z\"/>\n",
              "  </svg>\n",
              "    </button>\n",
              "\n",
              "  <style>\n",
              "    .colab-df-container {\n",
              "      display:flex;\n",
              "      gap: 12px;\n",
              "    }\n",
              "\n",
              "    .colab-df-convert {\n",
              "      background-color: #E8F0FE;\n",
              "      border: none;\n",
              "      border-radius: 50%;\n",
              "      cursor: pointer;\n",
              "      display: none;\n",
              "      fill: #1967D2;\n",
              "      height: 32px;\n",
              "      padding: 0 0 0 0;\n",
              "      width: 32px;\n",
              "    }\n",
              "\n",
              "    .colab-df-convert:hover {\n",
              "      background-color: #E2EBFA;\n",
              "      box-shadow: 0px 1px 2px rgba(60, 64, 67, 0.3), 0px 1px 3px 1px rgba(60, 64, 67, 0.15);\n",
              "      fill: #174EA6;\n",
              "    }\n",
              "\n",
              "    .colab-df-buttons div {\n",
              "      margin-bottom: 4px;\n",
              "    }\n",
              "\n",
              "    [theme=dark] .colab-df-convert {\n",
              "      background-color: #3B4455;\n",
              "      fill: #D2E3FC;\n",
              "    }\n",
              "\n",
              "    [theme=dark] .colab-df-convert:hover {\n",
              "      background-color: #434B5C;\n",
              "      box-shadow: 0px 1px 3px 1px rgba(0, 0, 0, 0.15);\n",
              "      filter: drop-shadow(0px 1px 2px rgba(0, 0, 0, 0.3));\n",
              "      fill: #FFFFFF;\n",
              "    }\n",
              "  </style>\n",
              "\n",
              "    <script>\n",
              "      const buttonEl =\n",
              "        document.querySelector('#df-24a54ccd-5da1-486f-a0f9-77d52353cbfe button.colab-df-convert');\n",
              "      buttonEl.style.display =\n",
              "        google.colab.kernel.accessAllowed ? 'block' : 'none';\n",
              "\n",
              "      async function convertToInteractive(key) {\n",
              "        const element = document.querySelector('#df-24a54ccd-5da1-486f-a0f9-77d52353cbfe');\n",
              "        const dataTable =\n",
              "          await google.colab.kernel.invokeFunction('convertToInteractive',\n",
              "                                                    [key], {});\n",
              "        if (!dataTable) return;\n",
              "\n",
              "        const docLinkHtml = 'Like what you see? Visit the ' +\n",
              "          '<a target=\"_blank\" href=https://colab.research.google.com/notebooks/data_table.ipynb>data table notebook</a>'\n",
              "          + ' to learn more about interactive tables.';\n",
              "        element.innerHTML = '';\n",
              "        dataTable['output_type'] = 'display_data';\n",
              "        await google.colab.output.renderOutput(dataTable, element);\n",
              "        const docLink = document.createElement('div');\n",
              "        docLink.innerHTML = docLinkHtml;\n",
              "        element.appendChild(docLink);\n",
              "      }\n",
              "    </script>\n",
              "  </div>\n",
              "\n",
              "\n",
              "<div id=\"df-55716383-d551-4dcd-b235-cdd18fcbeec4\">\n",
              "  <button class=\"colab-df-quickchart\" onclick=\"quickchart('df-55716383-d551-4dcd-b235-cdd18fcbeec4')\"\n",
              "            title=\"Suggest charts\"\n",
              "            style=\"display:none;\">\n",
              "\n",
              "<svg xmlns=\"http://www.w3.org/2000/svg\" height=\"24px\"viewBox=\"0 0 24 24\"\n",
              "     width=\"24px\">\n",
              "    <g>\n",
              "        <path d=\"M19 3H5c-1.1 0-2 .9-2 2v14c0 1.1.9 2 2 2h14c1.1 0 2-.9 2-2V5c0-1.1-.9-2-2-2zM9 17H7v-7h2v7zm4 0h-2V7h2v10zm4 0h-2v-4h2v4z\"/>\n",
              "    </g>\n",
              "</svg>\n",
              "  </button>\n",
              "\n",
              "<style>\n",
              "  .colab-df-quickchart {\n",
              "      --bg-color: #E8F0FE;\n",
              "      --fill-color: #1967D2;\n",
              "      --hover-bg-color: #E2EBFA;\n",
              "      --hover-fill-color: #174EA6;\n",
              "      --disabled-fill-color: #AAA;\n",
              "      --disabled-bg-color: #DDD;\n",
              "  }\n",
              "\n",
              "  [theme=dark] .colab-df-quickchart {\n",
              "      --bg-color: #3B4455;\n",
              "      --fill-color: #D2E3FC;\n",
              "      --hover-bg-color: #434B5C;\n",
              "      --hover-fill-color: #FFFFFF;\n",
              "      --disabled-bg-color: #3B4455;\n",
              "      --disabled-fill-color: #666;\n",
              "  }\n",
              "\n",
              "  .colab-df-quickchart {\n",
              "    background-color: var(--bg-color);\n",
              "    border: none;\n",
              "    border-radius: 50%;\n",
              "    cursor: pointer;\n",
              "    display: none;\n",
              "    fill: var(--fill-color);\n",
              "    height: 32px;\n",
              "    padding: 0;\n",
              "    width: 32px;\n",
              "  }\n",
              "\n",
              "  .colab-df-quickchart:hover {\n",
              "    background-color: var(--hover-bg-color);\n",
              "    box-shadow: 0 1px 2px rgba(60, 64, 67, 0.3), 0 1px 3px 1px rgba(60, 64, 67, 0.15);\n",
              "    fill: var(--button-hover-fill-color);\n",
              "  }\n",
              "\n",
              "  .colab-df-quickchart-complete:disabled,\n",
              "  .colab-df-quickchart-complete:disabled:hover {\n",
              "    background-color: var(--disabled-bg-color);\n",
              "    fill: var(--disabled-fill-color);\n",
              "    box-shadow: none;\n",
              "  }\n",
              "\n",
              "  .colab-df-spinner {\n",
              "    border: 2px solid var(--fill-color);\n",
              "    border-color: transparent;\n",
              "    border-bottom-color: var(--fill-color);\n",
              "    animation:\n",
              "      spin 1s steps(1) infinite;\n",
              "  }\n",
              "\n",
              "  @keyframes spin {\n",
              "    0% {\n",
              "      border-color: transparent;\n",
              "      border-bottom-color: var(--fill-color);\n",
              "      border-left-color: var(--fill-color);\n",
              "    }\n",
              "    20% {\n",
              "      border-color: transparent;\n",
              "      border-left-color: var(--fill-color);\n",
              "      border-top-color: var(--fill-color);\n",
              "    }\n",
              "    30% {\n",
              "      border-color: transparent;\n",
              "      border-left-color: var(--fill-color);\n",
              "      border-top-color: var(--fill-color);\n",
              "      border-right-color: var(--fill-color);\n",
              "    }\n",
              "    40% {\n",
              "      border-color: transparent;\n",
              "      border-right-color: var(--fill-color);\n",
              "      border-top-color: var(--fill-color);\n",
              "    }\n",
              "    60% {\n",
              "      border-color: transparent;\n",
              "      border-right-color: var(--fill-color);\n",
              "    }\n",
              "    80% {\n",
              "      border-color: transparent;\n",
              "      border-right-color: var(--fill-color);\n",
              "      border-bottom-color: var(--fill-color);\n",
              "    }\n",
              "    90% {\n",
              "      border-color: transparent;\n",
              "      border-bottom-color: var(--fill-color);\n",
              "    }\n",
              "  }\n",
              "</style>\n",
              "\n",
              "  <script>\n",
              "    async function quickchart(key) {\n",
              "      const quickchartButtonEl =\n",
              "        document.querySelector('#' + key + ' button');\n",
              "      quickchartButtonEl.disabled = true;  // To prevent multiple clicks.\n",
              "      quickchartButtonEl.classList.add('colab-df-spinner');\n",
              "      try {\n",
              "        const charts = await google.colab.kernel.invokeFunction(\n",
              "            'suggestCharts', [key], {});\n",
              "      } catch (error) {\n",
              "        console.error('Error during call to suggestCharts:', error);\n",
              "      }\n",
              "      quickchartButtonEl.classList.remove('colab-df-spinner');\n",
              "      quickchartButtonEl.classList.add('colab-df-quickchart-complete');\n",
              "    }\n",
              "    (() => {\n",
              "      let quickchartButtonEl =\n",
              "        document.querySelector('#df-55716383-d551-4dcd-b235-cdd18fcbeec4 button');\n",
              "      quickchartButtonEl.style.display =\n",
              "        google.colab.kernel.accessAllowed ? 'block' : 'none';\n",
              "    })();\n",
              "  </script>\n",
              "</div>\n",
              "\n",
              "    </div>\n",
              "  </div>\n"
            ],
            "application/vnd.google.colaboratory.intrinsic+json": {
              "type": "dataframe",
              "variable_name": "df_standard_scaled",
              "summary": "{\n  \"name\": \"df_standard_scaled\",\n  \"rows\": 15039,\n  \"fields\": [\n    {\n      \"column\": \"CDP\",\n      \"properties\": {\n        \"dtype\": \"number\",\n        \"std\": 1.0000332485495411,\n        \"min\": -1.9924155605676481,\n        \"max\": 2.70010497896579,\n        \"num_unique_values\": 3611,\n        \"samples\": [\n          -1.8613375421740057,\n          1.7328833632948513,\n          0.019622956904905346\n        ],\n        \"semantic_type\": \"\",\n        \"description\": \"\"\n      }\n    },\n    {\n      \"column\": \"GTEP\",\n      \"properties\": {\n        \"dtype\": \"number\",\n        \"std\": 1.0000332485495413,\n        \"min\": -1.806771455387996,\n        \"max\": 2.8710061575929506,\n        \"num_unique_values\": 8234,\n        \"samples\": [\n          -1.3084218633474123,\n          -0.059193607145677625,\n          1.4104585070740074\n        ],\n        \"semantic_type\": \"\",\n        \"description\": \"\"\n      }\n    },\n    {\n      \"column\": \"TIT\",\n      \"properties\": {\n        \"dtype\": \"number\",\n        \"std\": 1.0000332485495411,\n        \"min\": -5.021932836144313,\n        \"max\": 1.0286783287097758,\n        \"num_unique_values\": 706,\n        \"samples\": [\n          -1.5186289716937904,\n          0.3631111005758259,\n          -0.03622923630453847\n        ],\n        \"semantic_type\": \"\",\n        \"description\": \"\"\n      }\n    },\n    {\n      \"column\": \"TAT\",\n      \"properties\": {\n        \"dtype\": \"number\",\n        \"std\": 1.0000332485495413,\n        \"min\": -4.1881409329159975,\n        \"max\": 0.662783884506387,\n        \"num_unique_values\": 2340,\n        \"samples\": [\n          -2.844475437104825,\n          0.3360837592240028,\n          0.1746405066525577\n        ],\n        \"semantic_type\": \"\",\n        \"description\": \"\"\n      }\n    },\n    {\n      \"column\": \"AFDP\",\n      \"properties\": {\n        \"dtype\": \"number\",\n        \"std\": 1.0000332485495411,\n        \"min\": -2.779497172126727,\n        \"max\": 4.486233281714382,\n        \"num_unique_values\": 11314,\n        \"samples\": [\n          1.54623817176191,\n          0.048812589561856495,\n          -1.7914304456131018\n        ],\n        \"semantic_type\": \"\",\n        \"description\": \"\"\n      }\n    },\n    {\n      \"column\": \"CO\",\n      \"properties\": {\n        \"dtype\": \"number\",\n        \"std\": 1.0000332485495411,\n        \"min\": -0.8874862030669033,\n        \"max\": 18.95949388361012,\n        \"num_unique_values\": 13096,\n        \"samples\": [\n          -0.7954023500924995,\n          -0.7068837621305152,\n          -0.6269785232971145\n        ],\n        \"semantic_type\": \"\",\n        \"description\": \"\"\n      }\n    },\n    {\n      \"column\": \"AT\",\n      \"properties\": {\n        \"dtype\": \"number\",\n        \"std\": 1.0000332485495413,\n        \"min\": -2.276461585876825,\n        \"max\": 2.2662342287532242,\n        \"num_unique_values\": 12086,\n        \"samples\": [\n          -1.2675061456334609,\n          -1.5879546923318826,\n          -1.139398022827858\n        ],\n        \"semantic_type\": \"\",\n        \"description\": \"\"\n      }\n    },\n    {\n      \"column\": \"TEY\",\n      \"properties\": {\n        \"dtype\": \"number\",\n        \"std\": 1.0000332485495411,\n        \"min\": -2.149096816196561,\n        \"max\": 2.553607192652615,\n        \"num_unique_values\": 4207,\n        \"samples\": [\n          1.0159417496731826,\n          -1.9204054068462921,\n          1.7677173770953358\n        ],\n        \"semantic_type\": \"\",\n        \"description\": \"\"\n      }\n    }\n  ]\n}"
            }
          },
          "metadata": {},
          "execution_count": 35
        }
      ],
      "source": [
        "from sklearn.preprocessing import StandardScaler\n",
        "scaler = StandardScaler()\n",
        "\n",
        "df_standard_scaled[continuous_feature] = scaler.fit_transform(features.values)\n",
        "df_standard_scaled.head()"
      ]
    },
    {
      "cell_type": "code",
      "execution_count": 36,
      "id": "94a0d950",
      "metadata": {
        "colab": {
          "base_uri": "https://localhost:8080/"
        },
        "id": "94a0d950",
        "outputId": "0dc8b02a-ccf8-424a-97a5-9e0b3f3801be"
      },
      "outputs": [
        {
          "output_type": "stream",
          "name": "stdout",
          "text": [
            "Mean\n",
            " CDP     0.0\n",
            "GTEP   -0.0\n",
            "TIT    -0.0\n",
            "TAT     0.0\n",
            "AFDP    0.0\n",
            "CO      0.0\n",
            "AT      0.0\n",
            "TEY     0.0\n",
            "dtype: float64\n"
          ]
        }
      ],
      "source": [
        "print('Mean' '\\n',np.round(df_standard_scaled.mean(),1))"
      ]
    },
    {
      "cell_type": "code",
      "execution_count": 37,
      "id": "3e80abb7",
      "metadata": {
        "colab": {
          "base_uri": "https://localhost:8080/"
        },
        "id": "3e80abb7",
        "outputId": "1e3cf92a-c714-4cb0-bf36-0ab30e1a92b2"
      },
      "outputs": [
        {
          "output_type": "stream",
          "name": "stdout",
          "text": [
            "Standard Devaition \n",
            " CDP     1.0\n",
            "GTEP    1.0\n",
            "TIT     1.0\n",
            "TAT     1.0\n",
            "AFDP    1.0\n",
            "CO      1.0\n",
            "AT      1.0\n",
            "TEY     1.0\n",
            "dtype: float64\n"
          ]
        }
      ],
      "source": [
        "print('Standard Devaition','\\n',np.round(df_standard_scaled.std(),1))"
      ]
    },
    {
      "cell_type": "markdown",
      "id": "2842c4a9",
      "metadata": {
        "id": "2842c4a9"
      },
      "source": [
        "### 5.3 Test Train Split With Imbalanced Dataset"
      ]
    },
    {
      "cell_type": "code",
      "execution_count": 38,
      "id": "6777d02f",
      "metadata": {
        "id": "6777d02f"
      },
      "outputs": [],
      "source": [
        "x = df_standard_scaled.drop('TEY',axis=1)\n",
        "y = df_standard_scaled[['TEY']]"
      ]
    },
    {
      "cell_type": "code",
      "execution_count": 39,
      "id": "f68cabb7",
      "metadata": {
        "id": "f68cabb7"
      },
      "outputs": [],
      "source": [
        "x_train, x_test, y_train, y_test = train_test_split(x, y, test_size=0.3, random_state=3)"
      ]
    },
    {
      "cell_type": "markdown",
      "id": "ade64308",
      "metadata": {
        "id": "ade64308"
      },
      "source": [
        "## 6. Hyperparameter Tuning"
      ]
    },
    {
      "cell_type": "markdown",
      "id": "1d1b76ea",
      "metadata": {
        "id": "1d1b76ea"
      },
      "source": [
        "### 6.1 Hyperparameter Tuning: Optimal Learning rate ,Number of Layers and Neurons"
      ]
    },
    {
      "cell_type": "code",
      "execution_count": 40,
      "id": "775f29cf",
      "metadata": {
        "id": "775f29cf"
      },
      "outputs": [],
      "source": [
        "def build_model(hp):\n",
        "    model =Sequential()\n",
        "    for i in range(hp.Int('num_layers', 2, 20)):\n",
        "        model.add(layers.Dense(units = hp.Int('units_' + str(i), min_value=32, max_value=100, step=32), activation='relu'))\n",
        "\n",
        "    model.add(layers.Dense(1, activation='linear'))\n",
        "\n",
        "    model.compile(optimizer=keras.optimizers.Adam(hp.Choice('learning_rate', [1e-2, 1e-3, 1e-4])),\n",
        "        loss='mean_absolute_error', metrics=['mean_absolute_error'])\n",
        "    return model"
      ]
    },
    {
      "cell_type": "code",
      "execution_count": 41,
      "id": "6525a923",
      "metadata": {
        "id": "6525a923"
      },
      "outputs": [],
      "source": [
        "from keras_tuner.tuners import RandomSearch"
      ]
    },
    {
      "cell_type": "code",
      "execution_count": 44,
      "id": "040d633b",
      "metadata": {
        "colab": {
          "base_uri": "https://localhost:8080/"
        },
        "id": "040d633b",
        "outputId": "fddc571c-8769-412b-92d2-8e3329e6a83b"
      },
      "outputs": [
        {
          "output_type": "stream",
          "name": "stdout",
          "text": [
            "Reloading Tuner from project/Gas Turbine/tuner0.json\n",
            "Search space summary\n",
            "Default search space size: 22\n",
            "num_layers (Int)\n",
            "{'default': None, 'conditions': [], 'min_value': 2, 'max_value': 20, 'step': 1, 'sampling': 'linear'}\n",
            "units_0 (Int)\n",
            "{'default': None, 'conditions': [], 'min_value': 32, 'max_value': 100, 'step': 32, 'sampling': 'linear'}\n",
            "units_1 (Int)\n",
            "{'default': None, 'conditions': [], 'min_value': 32, 'max_value': 100, 'step': 32, 'sampling': 'linear'}\n",
            "learning_rate (Choice)\n",
            "{'default': 0.01, 'conditions': [], 'values': [0.01, 0.001, 0.0001], 'ordered': True}\n",
            "units_2 (Int)\n",
            "{'default': None, 'conditions': [], 'min_value': 32, 'max_value': 100, 'step': 32, 'sampling': 'linear'}\n",
            "units_3 (Int)\n",
            "{'default': None, 'conditions': [], 'min_value': 32, 'max_value': 100, 'step': 32, 'sampling': 'linear'}\n",
            "units_4 (Int)\n",
            "{'default': None, 'conditions': [], 'min_value': 32, 'max_value': 100, 'step': 32, 'sampling': 'linear'}\n",
            "units_5 (Int)\n",
            "{'default': None, 'conditions': [], 'min_value': 32, 'max_value': 100, 'step': 32, 'sampling': 'linear'}\n",
            "units_6 (Int)\n",
            "{'default': None, 'conditions': [], 'min_value': 32, 'max_value': 100, 'step': 32, 'sampling': 'linear'}\n",
            "units_7 (Int)\n",
            "{'default': None, 'conditions': [], 'min_value': 32, 'max_value': 100, 'step': 32, 'sampling': 'linear'}\n",
            "units_8 (Int)\n",
            "{'default': None, 'conditions': [], 'min_value': 32, 'max_value': 100, 'step': 32, 'sampling': 'linear'}\n",
            "units_9 (Int)\n",
            "{'default': None, 'conditions': [], 'min_value': 32, 'max_value': 100, 'step': 32, 'sampling': 'linear'}\n",
            "units_10 (Int)\n",
            "{'default': None, 'conditions': [], 'min_value': 32, 'max_value': 100, 'step': 32, 'sampling': 'linear'}\n",
            "units_11 (Int)\n",
            "{'default': None, 'conditions': [], 'min_value': 32, 'max_value': 100, 'step': 32, 'sampling': 'linear'}\n",
            "units_12 (Int)\n",
            "{'default': None, 'conditions': [], 'min_value': 32, 'max_value': 100, 'step': 32, 'sampling': 'linear'}\n",
            "units_13 (Int)\n",
            "{'default': None, 'conditions': [], 'min_value': 32, 'max_value': 100, 'step': 32, 'sampling': 'linear'}\n",
            "units_14 (Int)\n",
            "{'default': None, 'conditions': [], 'min_value': 32, 'max_value': 100, 'step': 32, 'sampling': 'linear'}\n",
            "units_15 (Int)\n",
            "{'default': None, 'conditions': [], 'min_value': 32, 'max_value': 100, 'step': 32, 'sampling': 'linear'}\n",
            "units_16 (Int)\n",
            "{'default': None, 'conditions': [], 'min_value': 32, 'max_value': 100, 'step': 32, 'sampling': 'linear'}\n",
            "units_17 (Int)\n",
            "{'default': None, 'conditions': [], 'min_value': 32, 'max_value': 100, 'step': 32, 'sampling': 'linear'}\n",
            "units_18 (Int)\n",
            "{'default': None, 'conditions': [], 'min_value': 32, 'max_value': 100, 'step': 32, 'sampling': 'linear'}\n",
            "units_19 (Int)\n",
            "{'default': None, 'conditions': [], 'min_value': 32, 'max_value': 100, 'step': 32, 'sampling': 'linear'}\n"
          ]
        }
      ],
      "source": [
        "tuner = RandomSearch(build_model, objective= 'val_mean_absolute_error', max_trials= 1,\n",
        "                     executions_per_trial= 2, directory= 'project', project_name= 'Gas Turbine')\n",
        "tuner.search_space_summary()"
      ]
    },
    {
      "cell_type": "code",
      "execution_count": 46,
      "id": "01efd1a7",
      "metadata": {
        "scrolled": true,
        "colab": {
          "base_uri": "https://localhost:8080/"
        },
        "id": "01efd1a7",
        "outputId": "a04827a5-90c9-418f-e30f-ca4bc5a52230"
      },
      "outputs": [
        {
          "output_type": "stream",
          "name": "stdout",
          "text": [
            "Trial 3 Complete [00h 05m 32s]\n",
            "val_mean_absolute_error: 0.023771533742547035\n",
            "\n",
            "Best val_mean_absolute_error So Far: 0.023771533742547035\n",
            "Total elapsed time: 00h 25m 01s\n"
          ]
        }
      ],
      "source": [
        "tuner.search(x_train, y_train,epochs=100,validation_data=(x_test, y_test))"
      ]
    },
    {
      "cell_type": "code",
      "execution_count": 47,
      "id": "3e8da699",
      "metadata": {
        "colab": {
          "base_uri": "https://localhost:8080/"
        },
        "id": "3e8da699",
        "outputId": "ec874aed-684c-43a4-92e5-ec4850b8c3a6"
      },
      "outputs": [
        {
          "output_type": "stream",
          "name": "stdout",
          "text": [
            "Results summary\n",
            "Results in project/Gas Turbine\n",
            "Showing 10 best trials\n",
            "Objective(name=\"val_mean_absolute_error\", direction=\"min\")\n",
            "\n",
            "Trial 2 summary\n",
            "Hyperparameters:\n",
            "num_layers: 3\n",
            "units_0: 64\n",
            "units_1: 64\n",
            "learning_rate: 0.001\n",
            "units_2: 32\n",
            "units_3: 96\n",
            "units_4: 32\n",
            "units_5: 32\n",
            "units_6: 32\n",
            "units_7: 32\n",
            "units_8: 64\n",
            "units_9: 96\n",
            "units_10: 32\n",
            "units_11: 64\n",
            "units_12: 64\n",
            "units_13: 64\n",
            "units_14: 32\n",
            "units_15: 96\n",
            "units_16: 32\n",
            "units_17: 96\n",
            "units_18: 32\n",
            "units_19: 64\n",
            "Score: 0.023771533742547035\n",
            "\n",
            "Trial 1 summary\n",
            "Hyperparameters:\n",
            "num_layers: 16\n",
            "units_0: 32\n",
            "units_1: 32\n",
            "learning_rate: 0.001\n",
            "units_2: 96\n",
            "units_3: 96\n",
            "units_4: 32\n",
            "units_5: 64\n",
            "units_6: 96\n",
            "units_7: 64\n",
            "units_8: 96\n",
            "units_9: 96\n",
            "units_10: 32\n",
            "units_11: 96\n",
            "units_12: 96\n",
            "units_13: 96\n",
            "units_14: 64\n",
            "units_15: 64\n",
            "units_16: 96\n",
            "units_17: 32\n",
            "units_18: 32\n",
            "units_19: 96\n",
            "Score: 0.025017722820242245\n",
            "\n",
            "Trial 0 summary\n",
            "Hyperparameters:\n",
            "num_layers: 20\n",
            "units_0: 32\n",
            "units_1: 32\n",
            "learning_rate: 0.01\n",
            "units_2: 32\n",
            "units_3: 32\n",
            "units_4: 32\n",
            "units_5: 32\n",
            "units_6: 32\n",
            "units_7: 32\n",
            "units_8: 32\n",
            "units_9: 32\n",
            "units_10: 32\n",
            "units_11: 32\n",
            "units_12: 32\n",
            "units_13: 32\n",
            "units_14: 32\n",
            "units_15: 32\n",
            "units_16: 32\n",
            "units_17: 32\n",
            "units_18: 32\n",
            "units_19: 32\n",
            "Score: 0.02900673138598601\n"
          ]
        }
      ],
      "source": [
        "tuner.results_summary()"
      ]
    },
    {
      "cell_type": "markdown",
      "id": "abfc2a88",
      "metadata": {
        "id": "abfc2a88"
      },
      "source": [
        "### 6.2 Hyperparameter Tuning: Optimal Batch_size, Number of Epochs"
      ]
    },
    {
      "cell_type": "code",
      "execution_count": 48,
      "id": "f95fa090",
      "metadata": {
        "id": "f95fa090"
      },
      "outputs": [],
      "source": [
        "def create_model():\n",
        "    model1 = Sequential()\n",
        "    model1.add(Dense(32,input_dim=7,activation='relu'))\n",
        "    model1.add(Dense(64,activation='relu'))\n",
        "    model1.add(Dense(32,activation=\"relu\"))\n",
        "    model1.add(Dense(64,activation=\"relu\"))\n",
        "    model1.add(Dense(32,activation=\"relu\"))\n",
        "    model1.add(Dense(32,activation=\"relu\"))\n",
        "    model1.add(Dense(64,activation=\"relu\"))\n",
        "    model1.add(Dense(64,activation=\"relu\"))\n",
        "    model1.add(Dense(units=1,activation=\"linear\"))\n",
        "\n",
        "    adam=Adam(learning_rate=0.001)\n",
        "    model1.compile(loss= 'mean_absolute_error', optimizer= adam, metrics= [\"mean_absolute_error\"])\n",
        "    return model1"
      ]
    },
    {
      "cell_type": "code",
      "execution_count": 49,
      "id": "8c440f48",
      "metadata": {
        "id": "8c440f48"
      },
      "outputs": [],
      "source": [
        "model1     = KerasRegressor(build_fn=create_model,verbose=0)\n",
        "batch_size = [20,40,50]\n",
        "epochs     = [50,100,200]\n",
        "param_grid = dict(batch_size= batch_size, epochs= epochs)\n",
        "grid = GridSearchCV(estimator= model1, param_grid= param_grid, cv= KFold(), verbose= 10)"
      ]
    },
    {
      "cell_type": "code",
      "execution_count": 50,
      "id": "837efaa5",
      "metadata": {
        "scrolled": false,
        "colab": {
          "base_uri": "https://localhost:8080/"
        },
        "id": "837efaa5",
        "outputId": "9a121f26-3a7a-4ab3-fcde-bff3022b30aa"
      },
      "outputs": [
        {
          "metadata": {
            "tags": null
          },
          "name": "stdout",
          "output_type": "stream",
          "text": [
            "Fitting 5 folds for each of 9 candidates, totalling 45 fits\n",
            "[CV 1/5; 1/9] START batch_size=20, epochs=50....................................\n",
            "[CV 1/5; 1/9] END ....batch_size=20, epochs=50;, score=-0.049 total time=  19.0s\n",
            "[CV 2/5; 1/9] START batch_size=20, epochs=50....................................\n",
            "[CV 2/5; 1/9] END ....batch_size=20, epochs=50;, score=-0.040 total time=  17.9s\n",
            "[CV 3/5; 1/9] START batch_size=20, epochs=50....................................\n",
            "[CV 3/5; 1/9] END ....batch_size=20, epochs=50;, score=-0.030 total time=  18.9s\n",
            "[CV 4/5; 1/9] START batch_size=20, epochs=50....................................\n",
            "[CV 4/5; 1/9] END ....batch_size=20, epochs=50;, score=-0.036 total time=  21.6s\n",
            "[CV 5/5; 1/9] START batch_size=20, epochs=50....................................\n",
            "[CV 5/5; 1/9] END ....batch_size=20, epochs=50;, score=-0.035 total time=  18.1s\n",
            "[CV 1/5; 2/9] START batch_size=20, epochs=100...................................\n",
            "[CV 1/5; 2/9] END ...batch_size=20, epochs=100;, score=-0.038 total time=  35.3s\n",
            "[CV 2/5; 2/9] START batch_size=20, epochs=100...................................\n",
            "[CV 2/5; 2/9] END ...batch_size=20, epochs=100;, score=-0.036 total time=  35.8s\n",
            "[CV 3/5; 2/9] START batch_size=20, epochs=100...................................\n",
            "[CV 3/5; 2/9] END ...batch_size=20, epochs=100;, score=-0.030 total time=  42.0s\n",
            "[CV 4/5; 2/9] START batch_size=20, epochs=100...................................\n",
            "[CV 4/5; 2/9] END ...batch_size=20, epochs=100;, score=-0.027 total time=  42.0s\n",
            "[CV 5/5; 2/9] START batch_size=20, epochs=100...................................\n",
            "[CV 5/5; 2/9] END ...batch_size=20, epochs=100;, score=-0.031 total time=  34.6s\n",
            "[CV 1/5; 3/9] START batch_size=20, epochs=200...................................\n",
            "[CV 1/5; 3/9] END ...batch_size=20, epochs=200;, score=-0.027 total time= 1.1min\n",
            "[CV 2/5; 3/9] START batch_size=20, epochs=200...................................\n",
            "[CV 2/5; 3/9] END ...batch_size=20, epochs=200;, score=-0.029 total time= 1.2min\n",
            "[CV 3/5; 3/9] START batch_size=20, epochs=200...................................\n",
            "[CV 3/5; 3/9] END ...batch_size=20, epochs=200;, score=-0.031 total time= 1.1min\n",
            "[CV 4/5; 3/9] START batch_size=20, epochs=200...................................\n",
            "[CV 4/5; 3/9] END ...batch_size=20, epochs=200;, score=-0.026 total time= 1.4min\n",
            "[CV 5/5; 3/9] START batch_size=20, epochs=200...................................\n",
            "[CV 5/5; 3/9] END ...batch_size=20, epochs=200;, score=-0.026 total time= 1.1min\n",
            "[CV 1/5; 4/9] START batch_size=40, epochs=50....................................\n",
            "[CV 1/5; 4/9] END ....batch_size=40, epochs=50;, score=-0.035 total time=  11.3s\n",
            "[CV 2/5; 4/9] START batch_size=40, epochs=50....................................\n",
            "[CV 2/5; 4/9] END ....batch_size=40, epochs=50;, score=-0.033 total time=   9.0s\n",
            "[CV 3/5; 4/9] START batch_size=40, epochs=50....................................\n",
            "[CV 3/5; 4/9] END ....batch_size=40, epochs=50;, score=-0.029 total time=  11.0s\n",
            "[CV 4/5; 4/9] START batch_size=40, epochs=50....................................\n",
            "[CV 4/5; 4/9] END ....batch_size=40, epochs=50;, score=-0.028 total time=  10.7s\n",
            "[CV 5/5; 4/9] START batch_size=40, epochs=50....................................\n",
            "[CV 5/5; 4/9] END ....batch_size=40, epochs=50;, score=-0.030 total time=  10.8s\n",
            "[CV 1/5; 5/9] START batch_size=40, epochs=100...................................\n",
            "[CV 1/5; 5/9] END ...batch_size=40, epochs=100;, score=-0.028 total time=  21.5s\n",
            "[CV 2/5; 5/9] START batch_size=40, epochs=100...................................\n",
            "[CV 2/5; 5/9] END ...batch_size=40, epochs=100;, score=-0.027 total time=  21.5s\n",
            "[CV 3/5; 5/9] START batch_size=40, epochs=100...................................\n",
            "[CV 3/5; 5/9] END ...batch_size=40, epochs=100;, score=-0.032 total time=  18.1s\n",
            "[CV 4/5; 5/9] START batch_size=40, epochs=100...................................\n",
            "[CV 4/5; 5/9] END ...batch_size=40, epochs=100;, score=-0.028 total time=  21.5s\n",
            "[CV 5/5; 5/9] START batch_size=40, epochs=100...................................\n",
            "[CV 5/5; 5/9] END ...batch_size=40, epochs=100;, score=-0.032 total time=  21.5s\n",
            "[CV 1/5; 6/9] START batch_size=40, epochs=200...................................\n",
            "[CV 1/5; 6/9] END ...batch_size=40, epochs=200;, score=-0.027 total time=  42.0s\n",
            "[CV 2/5; 6/9] START batch_size=40, epochs=200...................................\n",
            "[CV 2/5; 6/9] END ...batch_size=40, epochs=200;, score=-0.028 total time=  42.1s\n",
            "[CV 3/5; 6/9] START batch_size=40, epochs=200...................................\n",
            "[CV 3/5; 6/9] END ...batch_size=40, epochs=200;, score=-0.030 total time=  35.5s\n",
            "[CV 4/5; 6/9] START batch_size=40, epochs=200...................................\n",
            "[CV 4/5; 6/9] END ...batch_size=40, epochs=200;, score=-0.029 total time=  42.3s\n",
            "[CV 5/5; 6/9] START batch_size=40, epochs=200...................................\n",
            "[CV 5/5; 6/9] END ...batch_size=40, epochs=200;, score=-0.025 total time=  36.3s\n",
            "[CV 1/5; 7/9] START batch_size=50, epochs=50....................................\n",
            "[CV 1/5; 7/9] END ....batch_size=50, epochs=50;, score=-0.038 total time=   8.6s\n",
            "[CV 2/5; 7/9] START batch_size=50, epochs=50....................................\n",
            "[CV 2/5; 7/9] END ....batch_size=50, epochs=50;, score=-0.033 total time=   7.6s\n",
            "[CV 3/5; 7/9] START batch_size=50, epochs=50....................................\n",
            "[CV 3/5; 7/9] END ....batch_size=50, epochs=50;, score=-0.028 total time=  11.3s\n",
            "[CV 4/5; 7/9] START batch_size=50, epochs=50....................................\n",
            "[CV 4/5; 7/9] END ....batch_size=50, epochs=50;, score=-0.028 total time=   8.7s\n",
            "[CV 5/5; 7/9] START batch_size=50, epochs=50....................................\n",
            "[CV 5/5; 7/9] END ....batch_size=50, epochs=50;, score=-0.028 total time=  11.3s\n",
            "[CV 1/5; 8/9] START batch_size=50, epochs=100...................................\n",
            "[CV 1/5; 8/9] END ...batch_size=50, epochs=100;, score=-0.040 total time=  21.5s\n",
            "[CV 2/5; 8/9] START batch_size=50, epochs=100...................................\n",
            "[CV 2/5; 8/9] END ...batch_size=50, epochs=100;, score=-0.027 total time=  15.2s\n",
            "[CV 3/5; 8/9] START batch_size=50, epochs=100...................................\n",
            "[CV 3/5; 8/9] END ...batch_size=50, epochs=100;, score=-0.032 total time=  17.4s\n",
            "[CV 4/5; 8/9] START batch_size=50, epochs=100...................................\n",
            "[CV 4/5; 8/9] END ...batch_size=50, epochs=100;, score=-0.027 total time=  21.6s\n",
            "[CV 5/5; 8/9] START batch_size=50, epochs=100...................................\n",
            "[CV 5/5; 8/9] END ...batch_size=50, epochs=100;, score=-0.026 total time=  16.5s\n",
            "[CV 1/5; 9/9] START batch_size=50, epochs=200...................................\n",
            "[CV 1/5; 9/9] END ...batch_size=50, epochs=200;, score=-0.031 total time=  32.8s\n",
            "[CV 2/5; 9/9] START batch_size=50, epochs=200...................................\n",
            "[CV 2/5; 9/9] END ...batch_size=50, epochs=200;, score=-0.026 total time=  42.1s\n",
            "[CV 3/5; 9/9] START batch_size=50, epochs=200...................................\n",
            "[CV 3/5; 9/9] END ...batch_size=50, epochs=200;, score=-0.027 total time=  42.3s\n",
            "[CV 4/5; 9/9] START batch_size=50, epochs=200...................................\n",
            "[CV 4/5; 9/9] END ...batch_size=50, epochs=200;, score=-0.028 total time=  30.0s\n",
            "[CV 5/5; 9/9] START batch_size=50, epochs=200...................................\n",
            "[CV 5/5; 9/9] END ...batch_size=50, epochs=200;, score=-0.031 total time=  42.3s\n"
          ]
        }
      ],
      "source": [
        "grid_result1 = grid.fit(x_test,y_test)"
      ]
    },
    {
      "cell_type": "code",
      "execution_count": null,
      "id": "9caed34a",
      "metadata": {
        "id": "9caed34a",
        "outputId": "c3986f6f-714c-4417-814a-ee3c0d51c6ac"
      },
      "outputs": [
        {
          "name": "stdout",
          "output_type": "stream",
          "text": [
            "Best -0.03027709200978279, using {'batch_size': 20, 'epochs': 200}\n",
            "-0.030734992027282713, 0.002895132475360619 with {'batch_size': 20, 'epochs': 50}\n",
            "-0.03446810804307461, 0.003905296561900722 with {'batch_size': 20, 'epochs': 100}\n",
            "-0.03027709200978279, 0.0033131778067302937 with {'batch_size': 20, 'epochs': 200}\n",
            "-0.03595847338438034, 0.006123133465002752 with {'batch_size': 40, 'epochs': 50}\n",
            "-0.03482639789581299, 0.009091783872418786 with {'batch_size': 40, 'epochs': 100}\n",
            "-0.03077765554189682, 0.0025660830824178558 with {'batch_size': 40, 'epochs': 200}\n",
            "-0.030458468571305276, 0.0018779660893355034 with {'batch_size': 50, 'epochs': 50}\n",
            "-0.031251626834273336, 0.0017004669195560959 with {'batch_size': 50, 'epochs': 100}\n",
            "-0.03103431724011898, 0.002830403889367885 with {'batch_size': 50, 'epochs': 200}\n"
          ]
        }
      ],
      "source": [
        "print('Best {}, using {}'.format(grid_result1.best_score_, grid_result1.best_params_))\n",
        "means  = grid_result1.cv_results_[\"mean_test_score\"]\n",
        "stds   = grid_result1.cv_results_[\"std_test_score\"]\n",
        "params = grid_result1.cv_results_[\"params\"]\n",
        "for mean,stdev,param in zip(means, stds,params):\n",
        "    print(\"{}, {} with {}\".format(mean, stdev, param))"
      ]
    },
    {
      "cell_type": "markdown",
      "id": "e57843e6",
      "metadata": {
        "id": "e57843e6"
      },
      "source": [
        "### 6.3 Hyperparameter Tuning: Optimal Droupout rate"
      ]
    },
    {
      "cell_type": "code",
      "execution_count": null,
      "id": "dc31b901",
      "metadata": {
        "id": "dc31b901"
      },
      "outputs": [],
      "source": [
        "def create_model(dropout_rate):\n",
        "    model2 = Sequential()\n",
        "    model2.add(Dense(32,input_dim=7,activation='relu'))\n",
        "    model2.add(Dense(64,activation='relu'))\n",
        "    model2.add(Dense(32,activation=\"relu\"))\n",
        "    model2.add(Dense(64,activation=\"relu\"))\n",
        "    model2.add(Dense(32,activation=\"relu\"))\n",
        "    model2.add(Dense(32,activation=\"relu\"))\n",
        "    model2.add(Dense(64,activation=\"relu\"))\n",
        "    model2.add(Dense(64,activation=\"relu\"))\n",
        "    model2.add(Dense(units=1,activation=\"linear\"))\n",
        "\n",
        "    adam = Adam(lr=0.001)\n",
        "    model2.compile(loss= 'mean_absolute_error', optimizer= adam, metrics= [\"mean_absolute_error\"])\n",
        "    return model2"
      ]
    },
    {
      "cell_type": "code",
      "execution_count": null,
      "id": "e5982ae2",
      "metadata": {
        "id": "e5982ae2"
      },
      "outputs": [],
      "source": [
        "model2       = KerasRegressor(build_fn= create_model, batch_size= 40, epochs= 200, verbose= 0)\n",
        "dropout_rate = [0.0,0.1,0.2,0.3,0.4,0.5]\n",
        "param_grid   = dict(dropout_rate= dropout_rate)\n",
        "grid2        = GridSearchCV(estimator= model2, param_grid= param_grid, cv= KFold(), verbose= 10)"
      ]
    },
    {
      "cell_type": "code",
      "execution_count": null,
      "id": "f483fa11",
      "metadata": {
        "scrolled": false,
        "id": "f483fa11",
        "outputId": "d3863219-db65-442e-8dfc-2753667ee789"
      },
      "outputs": [
        {
          "name": "stdout",
          "output_type": "stream",
          "text": [
            "Fitting 5 folds for each of 6 candidates, totalling 30 fits\n",
            "[CV 1/5; 1/6] START dropout_rate=0.0............................................\n",
            "[CV 1/5; 1/6] END ............dropout_rate=0.0;, score=-0.030 total time=  32.8s\n",
            "[CV 2/5; 1/6] START dropout_rate=0.0............................................\n",
            "[CV 2/5; 1/6] END ............dropout_rate=0.0;, score=-0.027 total time=  32.3s\n",
            "[CV 3/5; 1/6] START dropout_rate=0.0............................................\n",
            "[CV 3/5; 1/6] END ............dropout_rate=0.0;, score=-0.030 total time=  32.4s\n",
            "[CV 4/5; 1/6] START dropout_rate=0.0............................................\n",
            "[CV 4/5; 1/6] END ............dropout_rate=0.0;, score=-0.028 total time=  31.6s\n",
            "[CV 5/5; 1/6] START dropout_rate=0.0............................................\n",
            "[CV 5/5; 1/6] END ............dropout_rate=0.0;, score=-0.027 total time=  32.5s\n",
            "[CV 1/5; 2/6] START dropout_rate=0.1............................................\n",
            "[CV 1/5; 2/6] END ............dropout_rate=0.1;, score=-0.027 total time=  31.9s\n",
            "[CV 2/5; 2/6] START dropout_rate=0.1............................................\n",
            "[CV 2/5; 2/6] END ............dropout_rate=0.1;, score=-0.030 total time=  31.8s\n",
            "[CV 3/5; 2/6] START dropout_rate=0.1............................................\n",
            "[CV 3/5; 2/6] END ............dropout_rate=0.1;, score=-0.028 total time=  30.9s\n",
            "[CV 4/5; 2/6] START dropout_rate=0.1............................................\n",
            "[CV 4/5; 2/6] END ............dropout_rate=0.1;, score=-0.027 total time=  32.8s\n",
            "[CV 5/5; 2/6] START dropout_rate=0.1............................................\n",
            "[CV 5/5; 2/6] END ............dropout_rate=0.1;, score=-0.030 total time=  29.9s\n",
            "[CV 1/5; 3/6] START dropout_rate=0.2............................................\n",
            "[CV 1/5; 3/6] END ............dropout_rate=0.2;, score=-0.033 total time=  31.7s\n",
            "[CV 2/5; 3/6] START dropout_rate=0.2............................................\n",
            "[CV 2/5; 3/6] END ............dropout_rate=0.2;, score=-0.026 total time=  30.7s\n",
            "[CV 3/5; 3/6] START dropout_rate=0.2............................................\n",
            "[CV 3/5; 3/6] END ............dropout_rate=0.2;, score=-0.031 total time=  31.2s\n",
            "[CV 4/5; 3/6] START dropout_rate=0.2............................................\n",
            "[CV 4/5; 3/6] END ............dropout_rate=0.2;, score=-0.040 total time=  31.2s\n",
            "[CV 5/5; 3/6] START dropout_rate=0.2............................................\n",
            "[CV 5/5; 3/6] END ............dropout_rate=0.2;, score=-0.030 total time=  31.1s\n",
            "[CV 1/5; 4/6] START dropout_rate=0.3............................................\n",
            "[CV 1/5; 4/6] END ............dropout_rate=0.3;, score=-0.026 total time=  32.3s\n",
            "[CV 2/5; 4/6] START dropout_rate=0.3............................................\n",
            "[CV 2/5; 4/6] END ............dropout_rate=0.3;, score=-0.026 total time=  30.3s\n",
            "[CV 3/5; 4/6] START dropout_rate=0.3............................................\n",
            "[CV 3/5; 4/6] END ............dropout_rate=0.3;, score=-0.030 total time=  30.1s\n",
            "[CV 4/5; 4/6] START dropout_rate=0.3............................................\n",
            "[CV 4/5; 4/6] END ............dropout_rate=0.3;, score=-0.031 total time=  30.6s\n",
            "[CV 5/5; 4/6] START dropout_rate=0.3............................................\n",
            "[CV 5/5; 4/6] END ............dropout_rate=0.3;, score=-0.028 total time=  30.3s\n",
            "[CV 1/5; 5/6] START dropout_rate=0.4............................................\n",
            "[CV 1/5; 5/6] END ............dropout_rate=0.4;, score=-0.030 total time=  31.1s\n",
            "[CV 2/5; 5/6] START dropout_rate=0.4............................................\n",
            "[CV 2/5; 5/6] END ............dropout_rate=0.4;, score=-0.032 total time=  31.3s\n",
            "[CV 3/5; 5/6] START dropout_rate=0.4............................................\n",
            "[CV 3/5; 5/6] END ............dropout_rate=0.4;, score=-0.031 total time=  32.4s\n",
            "[CV 4/5; 5/6] START dropout_rate=0.4............................................\n",
            "[CV 4/5; 5/6] END ............dropout_rate=0.4;, score=-0.029 total time=  30.1s\n",
            "[CV 5/5; 5/6] START dropout_rate=0.4............................................\n",
            "[CV 5/5; 5/6] END ............dropout_rate=0.4;, score=-0.030 total time=  29.5s\n",
            "[CV 1/5; 6/6] START dropout_rate=0.5............................................\n",
            "[CV 1/5; 6/6] END ............dropout_rate=0.5;, score=-0.028 total time=  29.9s\n",
            "[CV 2/5; 6/6] START dropout_rate=0.5............................................\n",
            "[CV 2/5; 6/6] END ............dropout_rate=0.5;, score=-0.032 total time=  29.3s\n",
            "[CV 3/5; 6/6] START dropout_rate=0.5............................................\n",
            "[CV 3/5; 6/6] END ............dropout_rate=0.5;, score=-0.031 total time=  29.1s\n",
            "[CV 4/5; 6/6] START dropout_rate=0.5............................................\n",
            "[CV 4/5; 6/6] END ............dropout_rate=0.5;, score=-0.027 total time=  29.4s\n",
            "[CV 5/5; 6/6] START dropout_rate=0.5............................................\n",
            "[CV 5/5; 6/6] END ............dropout_rate=0.5;, score=-0.026 total time=  29.4s\n"
          ]
        }
      ],
      "source": [
        "grid_result2 = grid2.fit(x_test, y_test)"
      ]
    },
    {
      "cell_type": "code",
      "execution_count": null,
      "id": "396ec1db",
      "metadata": {
        "id": "396ec1db",
        "outputId": "a5d193fa-a626-4e2c-9834-c51c1110f12d"
      },
      "outputs": [
        {
          "name": "stdout",
          "output_type": "stream",
          "text": [
            "Best -0.028211467340588568, using {'dropout_rate': 0.1}\n",
            "-0.028476428985595704, 0.0014726809789482505 with {'dropout_rate': 0.0}\n",
            "-0.028211467340588568, 0.0014392998134132708 with {'dropout_rate': 0.1}\n",
            "-0.032276010140776634, 0.004666742854542044 with {'dropout_rate': 0.2}\n",
            "-0.028246262297034263, 0.0016944785803764328 with {'dropout_rate': 0.3}\n",
            "-0.030110554397106172, 0.0008938286283570325 with {'dropout_rate': 0.4}\n",
            "-0.028971196338534354, 0.002344768442439602 with {'dropout_rate': 0.5}\n"
          ]
        }
      ],
      "source": [
        "print('Best {}, using {}'.format(grid_result2.best_score_, grid_result2.best_params_))\n",
        "means = grid_result2.cv_results_[\"mean_test_score\"]\n",
        "stds  = grid_result2.cv_results_[\"std_test_score\"]\n",
        "params = grid_result2.cv_results_[\"params\"]\n",
        "for mean,stdev,param in zip(means, stds, params):\n",
        "    print(\"{}, {} with {}\".format(mean, stdev, param))"
      ]
    },
    {
      "cell_type": "markdown",
      "id": "44eac258",
      "metadata": {
        "id": "44eac258"
      },
      "source": [
        "### 6.4 Hyperparameter Tuning: Optimal Activation Function and Kernel Initializer"
      ]
    },
    {
      "cell_type": "code",
      "execution_count": null,
      "id": "4109fc25",
      "metadata": {
        "id": "4109fc25"
      },
      "outputs": [],
      "source": [
        "def create_model(activation_function,init):\n",
        "    model3 = Sequential()\n",
        "    model3.add(Dense(32,input_dim=7,activation='relu'))\n",
        "    model3.add(Dropout(0.3))\n",
        "    model3.add(Dense(64,activation='relu'))\n",
        "    model3.add(Dropout(0.3))\n",
        "    model3.add(Dense(32,activation=\"relu\"))\n",
        "    model3.add(Dropout(0.3))\n",
        "    model3.add(Dense(64,activation=\"relu\"))\n",
        "    model3.add(Dropout(0.3))\n",
        "    model3.add(Dense(32,activation=\"relu\"))\n",
        "    model3.add(Dropout(0.3))\n",
        "    model3.add(Dense(32,activation=\"relu\"))\n",
        "    model3.add(Dropout(0.3))\n",
        "    model3.add(Dense(64,activation=\"relu\"))\n",
        "    model3.add(Dropout(0.3))\n",
        "    model3.add(Dense(64,activation=\"relu\"))\n",
        "    model3.add(Dropout(0.3))\n",
        "    model3.add(Dense(units=1,activation=\"linear\"))\n",
        "\n",
        "    adam = Adam(lr=0.001)\n",
        "    model3.compile(loss= 'mean_absolute_error', optimizer= adam, metrics= [\"mean_absolute_error\"])\n",
        "    return model3"
      ]
    },
    {
      "cell_type": "code",
      "execution_count": null,
      "id": "d4f81db5",
      "metadata": {
        "id": "d4f81db5"
      },
      "outputs": [],
      "source": [
        "model3 = KerasRegressor(build_fn=create_model, batch_size=40,epochs=200,verbose=0)\n",
        "activation_function = ['softmax','tanh','relu']\n",
        "init = ['normal','uniform','zero']\n",
        "param_grid = dict(activation_function= activation_function, init= init)\n",
        "grid3 = GridSearchCV(estimator= model3, param_grid= param_grid, cv= KFold(), verbose=10)"
      ]
    },
    {
      "cell_type": "code",
      "execution_count": null,
      "id": "6d3e9d89",
      "metadata": {
        "scrolled": false,
        "id": "6d3e9d89",
        "outputId": "0db3fdb6-b5a3-44f9-e6cb-cfa94662f57c"
      },
      "outputs": [
        {
          "name": "stdout",
          "output_type": "stream",
          "text": [
            "Fitting 5 folds for each of 9 candidates, totalling 45 fits\n",
            "[CV 1/5; 1/9] START activation_function=softmax, init=normal....................\n",
            "[CV 1/5; 1/9] END activation_function=softmax, init=normal;, score=-0.346 total time=  45.8s\n",
            "[CV 2/5; 1/9] START activation_function=softmax, init=normal....................\n",
            "[CV 2/5; 1/9] END activation_function=softmax, init=normal;, score=-0.274 total time=  47.5s\n",
            "[CV 3/5; 1/9] START activation_function=softmax, init=normal....................\n",
            "[CV 3/5; 1/9] END activation_function=softmax, init=normal;, score=-0.345 total time=  47.5s\n",
            "[CV 4/5; 1/9] START activation_function=softmax, init=normal....................\n",
            "[CV 4/5; 1/9] END activation_function=softmax, init=normal;, score=-0.270 total time=  46.0s\n",
            "[CV 5/5; 1/9] START activation_function=softmax, init=normal....................\n",
            "[CV 5/5; 1/9] END activation_function=softmax, init=normal;, score=-0.166 total time=  44.5s\n",
            "[CV 1/5; 2/9] START activation_function=softmax, init=uniform...................\n",
            "[CV 1/5; 2/9] END activation_function=softmax, init=uniform;, score=-0.409 total time=  43.5s\n",
            "[CV 2/5; 2/9] START activation_function=softmax, init=uniform...................\n",
            "[CV 2/5; 2/9] END activation_function=softmax, init=uniform;, score=-0.655 total time=  43.6s\n",
            "[CV 3/5; 2/9] START activation_function=softmax, init=uniform...................\n",
            "[CV 3/5; 2/9] END activation_function=softmax, init=uniform;, score=-0.503 total time=  45.0s\n",
            "[CV 4/5; 2/9] START activation_function=softmax, init=uniform...................\n",
            "[CV 4/5; 2/9] END activation_function=softmax, init=uniform;, score=-0.700 total time=  43.6s\n",
            "[CV 5/5; 2/9] START activation_function=softmax, init=uniform...................\n",
            "[CV 5/5; 2/9] END activation_function=softmax, init=uniform;, score=-0.219 total time=  45.5s\n",
            "[CV 1/5; 3/9] START activation_function=softmax, init=zero......................\n",
            "[CV 1/5; 3/9] END activation_function=softmax, init=zero;, score=-0.205 total time=  45.1s\n",
            "[CV 2/5; 3/9] START activation_function=softmax, init=zero......................\n",
            "[CV 2/5; 3/9] END activation_function=softmax, init=zero;, score=-0.155 total time=  48.0s\n",
            "[CV 3/5; 3/9] START activation_function=softmax, init=zero......................\n",
            "[CV 3/5; 3/9] END activation_function=softmax, init=zero;, score=-0.230 total time=  45.6s\n",
            "[CV 4/5; 3/9] START activation_function=softmax, init=zero......................\n",
            "[CV 4/5; 3/9] END activation_function=softmax, init=zero;, score=-0.617 total time=  49.0s\n",
            "[CV 5/5; 3/9] START activation_function=softmax, init=zero......................\n",
            "[CV 5/5; 3/9] END activation_function=softmax, init=zero;, score=-0.286 total time=  47.3s\n",
            "[CV 1/5; 4/9] START activation_function=tanh, init=normal.......................\n",
            "[CV 1/5; 4/9] END activation_function=tanh, init=normal;, score=-0.600 total time=  44.9s\n",
            "[CV 2/5; 4/9] START activation_function=tanh, init=normal.......................\n",
            "[CV 2/5; 4/9] END activation_function=tanh, init=normal;, score=-0.184 total time=  45.2s\n",
            "[CV 3/5; 4/9] START activation_function=tanh, init=normal.......................\n",
            "[CV 3/5; 4/9] END activation_function=tanh, init=normal;, score=-0.664 total time=  45.5s\n",
            "[CV 4/5; 4/9] START activation_function=tanh, init=normal.......................\n",
            "[CV 4/5; 4/9] END activation_function=tanh, init=normal;, score=-0.309 total time=  44.9s\n",
            "[CV 5/5; 4/9] START activation_function=tanh, init=normal.......................\n",
            "[CV 5/5; 4/9] END activation_function=tanh, init=normal;, score=-0.220 total time=  46.2s\n",
            "[CV 1/5; 5/9] START activation_function=tanh, init=uniform......................\n",
            "[CV 1/5; 5/9] END activation_function=tanh, init=uniform;, score=-0.626 total time=  45.7s\n",
            "[CV 2/5; 5/9] START activation_function=tanh, init=uniform......................\n",
            "[CV 2/5; 5/9] END activation_function=tanh, init=uniform;, score=-0.384 total time=  46.8s\n",
            "[CV 3/5; 5/9] START activation_function=tanh, init=uniform......................\n",
            "[CV 3/5; 5/9] END activation_function=tanh, init=uniform;, score=-0.382 total time=  46.2s\n",
            "[CV 4/5; 5/9] START activation_function=tanh, init=uniform......................\n",
            "[CV 4/5; 5/9] END activation_function=tanh, init=uniform;, score=-0.395 total time=  46.4s\n",
            "[CV 5/5; 5/9] START activation_function=tanh, init=uniform......................\n",
            "[CV 5/5; 5/9] END activation_function=tanh, init=uniform;, score=-0.143 total time=  47.2s\n",
            "[CV 1/5; 6/9] START activation_function=tanh, init=zero.........................\n",
            "[CV 1/5; 6/9] END activation_function=tanh, init=zero;, score=-0.187 total time=  46.5s\n",
            "[CV 2/5; 6/9] START activation_function=tanh, init=zero.........................\n",
            "[CV 2/5; 6/9] END activation_function=tanh, init=zero;, score=-0.699 total time=  45.0s\n",
            "[CV 3/5; 6/9] START activation_function=tanh, init=zero.........................\n",
            "[CV 3/5; 6/9] END activation_function=tanh, init=zero;, score=-0.172 total time=  45.5s\n",
            "[CV 4/5; 6/9] START activation_function=tanh, init=zero.........................\n",
            "[CV 4/5; 6/9] END activation_function=tanh, init=zero;, score=-0.267 total time=  45.4s\n",
            "[CV 5/5; 6/9] START activation_function=tanh, init=zero.........................\n",
            "[CV 5/5; 6/9] END activation_function=tanh, init=zero;, score=-0.575 total time=  55.5s\n",
            "[CV 1/5; 7/9] START activation_function=relu, init=normal.......................\n",
            "[CV 1/5; 7/9] END activation_function=relu, init=normal;, score=-0.393 total time=  47.0s\n",
            "[CV 2/5; 7/9] START activation_function=relu, init=normal.......................\n",
            "[CV 2/5; 7/9] END activation_function=relu, init=normal;, score=-0.246 total time=  47.8s\n",
            "[CV 3/5; 7/9] START activation_function=relu, init=normal.......................\n",
            "[CV 3/5; 7/9] END activation_function=relu, init=normal;, score=-0.639 total time=  47.6s\n",
            "[CV 4/5; 7/9] START activation_function=relu, init=normal.......................\n",
            "[CV 4/5; 7/9] END activation_function=relu, init=normal;, score=-0.601 total time=  48.0s\n",
            "[CV 5/5; 7/9] START activation_function=relu, init=normal.......................\n",
            "[CV 5/5; 7/9] END activation_function=relu, init=normal;, score=-0.619 total time=  45.6s\n",
            "[CV 1/5; 8/9] START activation_function=relu, init=uniform......................\n",
            "[CV 1/5; 8/9] END activation_function=relu, init=uniform;, score=-0.314 total time=  44.2s\n",
            "[CV 2/5; 8/9] START activation_function=relu, init=uniform......................\n",
            "[CV 2/5; 8/9] END activation_function=relu, init=uniform;, score=-0.525 total time=  46.9s\n",
            "[CV 3/5; 8/9] START activation_function=relu, init=uniform......................\n",
            "[CV 3/5; 8/9] END activation_function=relu, init=uniform;, score=-0.482 total time=  45.4s\n",
            "[CV 4/5; 8/9] START activation_function=relu, init=uniform......................\n",
            "[CV 4/5; 8/9] END activation_function=relu, init=uniform;, score=-0.636 total time=  45.6s\n",
            "[CV 5/5; 8/9] START activation_function=relu, init=uniform......................\n",
            "[CV 5/5; 8/9] END activation_function=relu, init=uniform;, score=-0.182 total time=  44.1s\n",
            "[CV 1/5; 9/9] START activation_function=relu, init=zero.........................\n",
            "[CV 1/5; 9/9] END activation_function=relu, init=zero;, score=-0.370 total time=  47.6s\n",
            "[CV 2/5; 9/9] START activation_function=relu, init=zero.........................\n",
            "[CV 2/5; 9/9] END activation_function=relu, init=zero;, score=-0.218 total time=  45.1s\n",
            "[CV 3/5; 9/9] START activation_function=relu, init=zero.........................\n",
            "[CV 3/5; 9/9] END activation_function=relu, init=zero;, score=-0.641 total time=  45.7s\n",
            "[CV 4/5; 9/9] START activation_function=relu, init=zero.........................\n",
            "[CV 4/5; 9/9] END activation_function=relu, init=zero;, score=-0.583 total time=  46.5s\n",
            "[CV 5/5; 9/9] START activation_function=relu, init=zero.........................\n",
            "[CV 5/5; 9/9] END activation_function=relu, init=zero;, score=-0.707 total time=  45.1s\n"
          ]
        }
      ],
      "source": [
        "grid_result3 = grid3.fit(x_test,y_test)"
      ]
    },
    {
      "cell_type": "code",
      "execution_count": null,
      "id": "f50e394b",
      "metadata": {
        "id": "f50e394b",
        "outputId": "dd90f1b7-9f9d-4147-b393-9f1189d6b631"
      },
      "outputs": [
        {
          "name": "stdout",
          "output_type": "stream",
          "text": [
            "Best -0.2802665799856186, using {'activation_function': 'softmax', 'init': 'normal'}\n",
            "-0.2802665799856186, 0.06580833619342262 with {'activation_function': 'softmax', 'init': 'normal'}\n",
            "-0.49724122881889343, 0.17389347764597962 with {'activation_function': 'softmax', 'init': 'uniform'}\n",
            "-0.29850937724113463, 0.16472785173086738 with {'activation_function': 'softmax', 'init': 'zero'}\n",
            "-0.39554663598537443, 0.19863472849956373 with {'activation_function': 'tanh', 'init': 'normal'}\n",
            "-0.38592996299266813, 0.15272835307641616 with {'activation_function': 'tanh', 'init': 'uniform'}\n",
            "-0.37997765839099884, 0.2157815496798199 with {'activation_function': 'tanh', 'init': 'zero'}\n",
            "-0.4997226059436798, 0.15487464321666514 with {'activation_function': 'relu', 'init': 'normal'}\n",
            "-0.42783196866512296, 0.16040658888950332 with {'activation_function': 'relu', 'init': 'uniform'}\n",
            "-0.5039232254028321, 0.1823276032155937 with {'activation_function': 'relu', 'init': 'zero'}\n"
          ]
        }
      ],
      "source": [
        "print('Best {}, using {}'.format(grid_result3.best_score_, grid_result3.best_params_))\n",
        "means = grid_result3.cv_results_[\"mean_test_score\"]\n",
        "stds  = grid_result3.cv_results_[\"std_test_score\"]\n",
        "params = grid_result3.cv_results_[\"params\"]\n",
        "for mean,stdev,param in zip(means, stds, params):\n",
        "    print(\"{}, {} with {}\".format(mean, stdev, param))"
      ]
    },
    {
      "cell_type": "markdown",
      "id": "dc99efab",
      "metadata": {
        "id": "dc99efab"
      },
      "source": [
        "## 7. Model Building Neural Networks\n",
        "### Standardizing only predictor variable - after train test split"
      ]
    },
    {
      "cell_type": "code",
      "execution_count": null,
      "id": "ec022ad5",
      "metadata": {
        "id": "ec022ad5",
        "outputId": "7f0080e4-a5d2-45a8-e27a-2640552b380d"
      },
      "outputs": [
        {
          "data": {
            "text/html": [
              "<div>\n",
              "<style scoped>\n",
              "    .dataframe tbody tr th:only-of-type {\n",
              "        vertical-align: middle;\n",
              "    }\n",
              "\n",
              "    .dataframe tbody tr th {\n",
              "        vertical-align: top;\n",
              "    }\n",
              "\n",
              "    .dataframe thead th {\n",
              "        text-align: right;\n",
              "    }\n",
              "</style>\n",
              "<table border=\"1\" class=\"dataframe\">\n",
              "  <thead>\n",
              "    <tr style=\"text-align: right;\">\n",
              "      <th></th>\n",
              "      <th>CDP</th>\n",
              "      <th>GTEP</th>\n",
              "      <th>TIT</th>\n",
              "      <th>TAT</th>\n",
              "      <th>AFDP</th>\n",
              "      <th>CO</th>\n",
              "      <th>AT</th>\n",
              "      <th>TEY</th>\n",
              "    </tr>\n",
              "  </thead>\n",
              "  <tbody>\n",
              "    <tr>\n",
              "      <th>0</th>\n",
              "      <td>10.605</td>\n",
              "      <td>19.663</td>\n",
              "      <td>1059.2</td>\n",
              "      <td>550.00</td>\n",
              "      <td>3.5000</td>\n",
              "      <td>3.1547</td>\n",
              "      <td>6.8594</td>\n",
              "      <td>114.70</td>\n",
              "    </tr>\n",
              "    <tr>\n",
              "      <th>1</th>\n",
              "      <td>10.598</td>\n",
              "      <td>19.728</td>\n",
              "      <td>1059.3</td>\n",
              "      <td>550.00</td>\n",
              "      <td>3.4998</td>\n",
              "      <td>3.2363</td>\n",
              "      <td>6.7850</td>\n",
              "      <td>114.72</td>\n",
              "    </tr>\n",
              "    <tr>\n",
              "      <th>2</th>\n",
              "      <td>10.601</td>\n",
              "      <td>19.779</td>\n",
              "      <td>1059.4</td>\n",
              "      <td>549.87</td>\n",
              "      <td>3.4824</td>\n",
              "      <td>3.2012</td>\n",
              "      <td>6.8977</td>\n",
              "      <td>114.71</td>\n",
              "    </tr>\n",
              "    <tr>\n",
              "      <th>3</th>\n",
              "      <td>10.606</td>\n",
              "      <td>19.792</td>\n",
              "      <td>1059.6</td>\n",
              "      <td>549.99</td>\n",
              "      <td>3.4805</td>\n",
              "      <td>3.1923</td>\n",
              "      <td>7.0569</td>\n",
              "      <td>114.72</td>\n",
              "    </tr>\n",
              "    <tr>\n",
              "      <th>4</th>\n",
              "      <td>10.612</td>\n",
              "      <td>19.765</td>\n",
              "      <td>1059.7</td>\n",
              "      <td>549.98</td>\n",
              "      <td>3.4976</td>\n",
              "      <td>3.2484</td>\n",
              "      <td>7.3978</td>\n",
              "      <td>114.72</td>\n",
              "    </tr>\n",
              "    <tr>\n",
              "      <th>...</th>\n",
              "      <td>...</td>\n",
              "      <td>...</td>\n",
              "      <td>...</td>\n",
              "      <td>...</td>\n",
              "      <td>...</td>\n",
              "      <td>...</td>\n",
              "      <td>...</td>\n",
              "      <td>...</td>\n",
              "    </tr>\n",
              "    <tr>\n",
              "      <th>15034</th>\n",
              "      <td>10.400</td>\n",
              "      <td>19.164</td>\n",
              "      <td>1049.7</td>\n",
              "      <td>546.21</td>\n",
              "      <td>3.5421</td>\n",
              "      <td>4.5186</td>\n",
              "      <td>9.0301</td>\n",
              "      <td>111.61</td>\n",
              "    </tr>\n",
              "    <tr>\n",
              "      <th>15035</th>\n",
              "      <td>10.433</td>\n",
              "      <td>19.414</td>\n",
              "      <td>1046.3</td>\n",
              "      <td>543.22</td>\n",
              "      <td>3.5059</td>\n",
              "      <td>4.8470</td>\n",
              "      <td>7.8879</td>\n",
              "      <td>111.78</td>\n",
              "    </tr>\n",
              "    <tr>\n",
              "      <th>15036</th>\n",
              "      <td>10.483</td>\n",
              "      <td>19.530</td>\n",
              "      <td>1037.7</td>\n",
              "      <td>537.32</td>\n",
              "      <td>3.4770</td>\n",
              "      <td>7.9632</td>\n",
              "      <td>7.2647</td>\n",
              "      <td>110.19</td>\n",
              "    </tr>\n",
              "    <tr>\n",
              "      <th>15037</th>\n",
              "      <td>10.533</td>\n",
              "      <td>19.377</td>\n",
              "      <td>1043.2</td>\n",
              "      <td>541.24</td>\n",
              "      <td>3.4486</td>\n",
              "      <td>6.2494</td>\n",
              "      <td>7.0060</td>\n",
              "      <td>110.74</td>\n",
              "    </tr>\n",
              "    <tr>\n",
              "      <th>15038</th>\n",
              "      <td>10.583</td>\n",
              "      <td>19.306</td>\n",
              "      <td>1049.9</td>\n",
              "      <td>545.85</td>\n",
              "      <td>3.4275</td>\n",
              "      <td>4.9816</td>\n",
              "      <td>6.9279</td>\n",
              "      <td>111.58</td>\n",
              "    </tr>\n",
              "  </tbody>\n",
              "</table>\n",
              "<p>15039 rows × 8 columns</p>\n",
              "</div>"
            ],
            "text/plain": [
              "          CDP    GTEP     TIT     TAT    AFDP      CO      AT     TEY\n",
              "0      10.605  19.663  1059.2  550.00  3.5000  3.1547  6.8594  114.70\n",
              "1      10.598  19.728  1059.3  550.00  3.4998  3.2363  6.7850  114.72\n",
              "2      10.601  19.779  1059.4  549.87  3.4824  3.2012  6.8977  114.71\n",
              "3      10.606  19.792  1059.6  549.99  3.4805  3.1923  7.0569  114.72\n",
              "4      10.612  19.765  1059.7  549.98  3.4976  3.2484  7.3978  114.72\n",
              "...       ...     ...     ...     ...     ...     ...     ...     ...\n",
              "15034  10.400  19.164  1049.7  546.21  3.5421  4.5186  9.0301  111.61\n",
              "15035  10.433  19.414  1046.3  543.22  3.5059  4.8470  7.8879  111.78\n",
              "15036  10.483  19.530  1037.7  537.32  3.4770  7.9632  7.2647  110.19\n",
              "15037  10.533  19.377  1043.2  541.24  3.4486  6.2494  7.0060  110.74\n",
              "15038  10.583  19.306  1049.9  545.85  3.4275  4.9816  6.9279  111.58\n",
              "\n",
              "[15039 rows x 8 columns]"
            ]
          },
          "execution_count": 56,
          "metadata": {},
          "output_type": "execute_result"
        }
      ],
      "source": [
        "model_data"
      ]
    },
    {
      "cell_type": "markdown",
      "id": "54e57b85",
      "metadata": {
        "id": "54e57b85"
      },
      "source": [
        "### Assigning predictor variables to x and response variable to y"
      ]
    },
    {
      "cell_type": "code",
      "execution_count": null,
      "id": "48a077bb",
      "metadata": {
        "id": "48a077bb",
        "outputId": "aa70b5eb-a3a6-465c-bdd2-59f5da78bef2"
      },
      "outputs": [
        {
          "name": "stdout",
          "output_type": "stream",
          "text": [
            "x_train_scaled : (12031, 7)\n",
            "x_test_scaled  : (3008, 7)\n",
            "y_train        : (12031, 1)\n",
            "y_test         : (3008, 1)\n"
          ]
        }
      ],
      "source": [
        "x = model_data.drop('TEY', axis=1)\n",
        "y = model_data[[\"TEY\"]]\n",
        "\n",
        "x_train, x_test, y_train, y_test = train_test_split(x,y, test_size = 0.20, random_state=42)\n",
        "\n",
        "scaler_train = StandardScaler()\n",
        "scaler_test = StandardScaler()\n",
        "\n",
        "x_train_scaled = scaler_train.fit_transform(x_train) # scaling train data -- predictor\n",
        "x_test_scaled  = scaler_test.fit_transform(x_test)   # scaling test data -- predictor\n",
        "\n",
        "print(\"x_train_scaled :\", x_train_scaled.shape)\n",
        "print(\"x_test_scaled  :\",x_test_scaled.shape)\n",
        "print(\"y_train        :\",y_train.shape)\n",
        "print(\"y_test         :\",y_test.shape)"
      ]
    },
    {
      "cell_type": "markdown",
      "id": "6cb681c9",
      "metadata": {
        "id": "6cb681c9"
      },
      "source": [
        "### Since we have continuous ouput, AF is not required in the o/p layer"
      ]
    },
    {
      "cell_type": "code",
      "execution_count": null,
      "id": "13060f26",
      "metadata": {
        "id": "13060f26",
        "outputId": "44e444bd-23db-4f97-f9d4-6e41eeb1ac3f"
      },
      "outputs": [
        {
          "name": "stdout",
          "output_type": "stream",
          "text": [
            "Epoch 1/10\n",
            "169/169 [==============================] - 1s 4ms/step - loss: 17688.3418 - mae: 132.0341 - mse: 17688.3418 - val_loss: 16879.5449 - val_mae: 128.9627 - val_mse: 16879.5449\n",
            "Epoch 2/10\n",
            "169/169 [==============================] - 0s 2ms/step - loss: 16385.4395 - mae: 127.0144 - mse: 16385.4395 - val_loss: 15829.6943 - val_mae: 124.8265 - val_mse: 15829.6943\n",
            "Epoch 3/10\n",
            "169/169 [==============================] - 0s 2ms/step - loss: 15411.0166 - mae: 123.1172 - mse: 15411.0166 - val_loss: 14910.9062 - val_mae: 121.0904 - val_mse: 14910.9062\n",
            "Epoch 4/10\n",
            "169/169 [==============================] - 0s 2ms/step - loss: 14525.4355 - mae: 119.4684 - mse: 14525.4355 - val_loss: 14056.6094 - val_mae: 117.5101 - val_mse: 14056.6094\n",
            "Epoch 5/10\n",
            "169/169 [==============================] - 0s 2ms/step - loss: 13694.9297 - mae: 115.9402 - mse: 13694.9297 - val_loss: 13250.7637 - val_mae: 114.0297 - val_mse: 13250.7637\n",
            "Epoch 6/10\n",
            "169/169 [==============================] - 0s 2ms/step - loss: 12908.1670 - mae: 112.4988 - mse: 12908.1670 - val_loss: 12485.2324 - val_mae: 110.6221 - val_mse: 12485.2324\n",
            "Epoch 7/10\n",
            "169/169 [==============================] - 0s 2ms/step - loss: 12159.4961 - mae: 109.1183 - mse: 12159.4961 - val_loss: 11755.2969 - val_mae: 107.2722 - val_mse: 11755.2969\n",
            "Epoch 8/10\n",
            "169/169 [==============================] - 0s 2ms/step - loss: 11445.4199 - mae: 105.7949 - mse: 11445.4199 - val_loss: 11058.7539 - val_mae: 103.9749 - val_mse: 11058.7539\n",
            "Epoch 9/10\n",
            "169/169 [==============================] - 0s 2ms/step - loss: 10763.3613 - mae: 102.5230 - mse: 10763.3613 - val_loss: 10393.3857 - val_mae: 100.7245 - val_mse: 10393.3857\n",
            "Epoch 10/10\n",
            "169/169 [==============================] - 0s 2ms/step - loss: 10111.5098 - mae: 99.2946 - mse: 10111.5088 - val_loss: 9757.4180 - val_mae: 97.5164 - val_mse: 9757.4180\n"
          ]
        }
      ],
      "source": [
        "model = Sequential()\n",
        "model.add( Dense(units= 50, activation= 'relu', kernel_initializer= 'normal', input_dim= 7)) # input layer\n",
        "model.add( Dense(units= 20, activation= 'tanh', kernel_initializer= 'normal')) # hidden layer\n",
        "model.add( Dense(units= 1, kernel_initializer= 'normal' )) # o/p layer\n",
        "\n",
        "model.compile(optimizer= \"adam\", loss= \"mse\", metrics= [\"mae\", \"mse\"])\n",
        "history = model.fit(x_train_scaled, y_train, batch_size= 50, validation_split= 0.3, epochs=10,  verbose=1)"
      ]
    },
    {
      "cell_type": "code",
      "execution_count": null,
      "id": "afd01e2f",
      "metadata": {
        "id": "afd01e2f",
        "outputId": "5f21c919-7b37-459a-d7cd-ffe5aa70d899"
      },
      "outputs": [
        {
          "name": "stdout",
          "output_type": "stream",
          "text": [
            "94/94 [==============================] - 0s 1ms/step\n",
            "batch_size: 10 - epochs: 10 Accuracy: TEY    97.875512\n",
            "dtype: float64\n",
            "94/94 [==============================] - 0s 1ms/step\n",
            "batch_size: 10 - epochs: 50 Accuracy: TEY    99.668044\n",
            "dtype: float64\n",
            "94/94 [==============================] - 0s 1ms/step\n",
            "batch_size: 10 - epochs: 100 Accuracy: TEY    99.636997\n",
            "dtype: float64\n",
            "94/94 [==============================] - 0s 1ms/step\n",
            "batch_size: 15 - epochs: 10 Accuracy: TEY    89.825985\n",
            "dtype: float64\n",
            "94/94 [==============================] - 0s 1ms/step\n",
            "batch_size: 15 - epochs: 50 Accuracy: TEY    99.574739\n",
            "dtype: float64\n",
            "94/94 [==============================] - 0s 1ms/step\n",
            "batch_size: 15 - epochs: 100 Accuracy: TEY    99.543527\n",
            "dtype: float64\n",
            "94/94 [==============================] - 0s 1ms/step\n",
            "batch_size: 20 - epochs: 10 Accuracy: TEY    80.959087\n",
            "dtype: float64\n",
            "94/94 [==============================] - 0s 1ms/step\n",
            "batch_size: 20 - epochs: 50 Accuracy: TEY    99.647456\n",
            "dtype: float64\n",
            "94/94 [==============================] - 0s 1ms/step\n",
            "batch_size: 20 - epochs: 100 Accuracy: TEY    99.646864\n",
            "dtype: float64\n"
          ]
        }
      ],
      "source": [
        "def toFindBestParams(x_train_scaled, y_train, x_test_scaled, y_test):\n",
        "\n",
        "    # Defining list of hyperparameters\n",
        "    batch_size_list = [10 , 15 , 20 ]\n",
        "    epoch_list      = [10 , 50 , 100]\n",
        "\n",
        "    bestParamTable = pd.DataFrame()\n",
        "\n",
        "    for batch_trial in batch_size_list:\n",
        "        for epochs_trial in epoch_list:\n",
        "\n",
        "            # Create ANN model\n",
        "            model = Sequential()\n",
        "\n",
        "            # Defining the first layer of the model\n",
        "            model.add(Dense(units=50, input_dim=x_train_scaled.shape[1], kernel_initializer='normal', activation='relu'))\n",
        "\n",
        "            # Defining the Second layer of the model\n",
        "            model.add(Dense(units=20, kernel_initializer='normal', activation='tanh'))\n",
        "\n",
        "            # The output neuron is a single fully connected node Since we will be predicting a single number\n",
        "            model.add(Dense(1, kernel_initializer='normal'))\n",
        "\n",
        "            # Compiling the model\n",
        "            model.compile(optimizer ='adam', loss = 'mean_squared_error')\n",
        "\n",
        "            # Fitting the ANN to the Training set\n",
        "            model.fit(x_train_scaled, y_train , batch_size=batch_trial, epochs=epochs_trial,  verbose=0)\n",
        "\n",
        "            MAPE = np.mean(100 * (np.abs(y_test-model.predict(x_test_scaled))/y_test))\n",
        "\n",
        "            bestParamTable=bestParamTable.append(pd.DataFrame(data=[[batch_trial, epochs_trial, 100-MAPE]], columns=['batchsize','epochs','Accuracy'] ))\n",
        "\n",
        "            # Printing the results of the current iteration\n",
        "            print('batch_size:', batch_trial,'-', 'epochs:', epochs_trial, 'Accuracy:', 100-MAPE)\n",
        "\n",
        "    return bestParamTable\n",
        "\n",
        "# Calling the function\n",
        "finalParamTable = toFindBestParams(x_train_scaled, y_train, x_test_scaled, y_test)"
      ]
    },
    {
      "cell_type": "markdown",
      "id": "62f12d0b",
      "metadata": {
        "id": "62f12d0b"
      },
      "source": [
        "### Training Model - using best params"
      ]
    },
    {
      "cell_type": "code",
      "execution_count": null,
      "id": "497f260c",
      "metadata": {
        "id": "497f260c",
        "outputId": "7d5d8227-a1c5-4486-9d34-d7a79740aada"
      },
      "outputs": [
        {
          "data": {
            "text/plain": [
              "<keras.callbacks.History at 0x2604daf8070>"
            ]
          },
          "execution_count": 66,
          "metadata": {},
          "output_type": "execute_result"
        }
      ],
      "source": [
        "model.compile(optimizer ='adam', loss = 'mean_squared_error')\n",
        "model.fit(x_train_scaled,y_train, batch_size= 20, epochs= 10, verbose= 0)"
      ]
    },
    {
      "cell_type": "markdown",
      "id": "cb5c580d",
      "metadata": {
        "id": "cb5c580d"
      },
      "source": [
        "### 7.1 Model Evaluation Train and Test Error"
      ]
    },
    {
      "cell_type": "raw",
      "id": "3d2e77da",
      "metadata": {
        "id": "3d2e77da"
      },
      "source": [
        "plt.figure(figsize=(16,9))\n",
        "plt.plot(model.history.history['mae'])\n",
        "plt.plot(model.history.history['mse'])\n",
        "plt.title(\"Model's Mean Absolute and Squared Errors\")\n",
        "plt.xlabel('Epoch')\n",
        "plt.ylabel('Error')\n",
        "plt.legend(['Mean Absulote Erroe', 'Mean Squared Error'],loc = 'upper left')\n",
        "plt.show()\n",
        "#summarize history for loss\n",
        "plt.figure(figsize=(16,9))\n",
        "plt.plot(model.history.history['loss'])\n",
        "plt.plot(model.history.history['val_loss'])\n",
        "plt.title('Model-loss')\n",
        "plt.xlabel('Epoch')\n",
        "plt.ylabel('Mean-Absolute-Error')\n",
        "plt.legend(['Training Error', 'Testing Error'],loc='upper left')\n",
        "plt.show()"
      ]
    },
    {
      "cell_type": "markdown",
      "id": "7eb8d5d3",
      "metadata": {
        "id": "7eb8d5d3"
      },
      "source": [
        "### 7.2 Predicting values from Model using same dataset"
      ]
    },
    {
      "cell_type": "code",
      "execution_count": null,
      "id": "91beaf12",
      "metadata": {
        "id": "91beaf12",
        "outputId": "3b5427a4-9d43-41f0-939f-5d61b7ff95ac"
      },
      "outputs": [
        {
          "name": "stdout",
          "output_type": "stream",
          "text": [
            "94/94 [==============================] - 0s 1ms/step\n",
            "(3008, 9)\n"
          ]
        },
        {
          "data": {
            "text/html": [
              "<div>\n",
              "<style scoped>\n",
              "    .dataframe tbody tr th:only-of-type {\n",
              "        vertical-align: middle;\n",
              "    }\n",
              "\n",
              "    .dataframe tbody tr th {\n",
              "        vertical-align: top;\n",
              "    }\n",
              "\n",
              "    .dataframe thead th {\n",
              "        text-align: right;\n",
              "    }\n",
              "</style>\n",
              "<table border=\"1\" class=\"dataframe\">\n",
              "  <thead>\n",
              "    <tr style=\"text-align: right;\">\n",
              "      <th></th>\n",
              "      <th>CDP</th>\n",
              "      <th>GTEP</th>\n",
              "      <th>TIT</th>\n",
              "      <th>TAT</th>\n",
              "      <th>AFDP</th>\n",
              "      <th>CO</th>\n",
              "      <th>AT</th>\n",
              "      <th>Actual</th>\n",
              "      <th>Predicted</th>\n",
              "    </tr>\n",
              "  </thead>\n",
              "  <tbody>\n",
              "    <tr>\n",
              "      <th>13312</th>\n",
              "      <td>12.219</td>\n",
              "      <td>25.762</td>\n",
              "      <td>1092.5</td>\n",
              "      <td>550.25</td>\n",
              "      <td>4.0023</td>\n",
              "      <td>1.26430</td>\n",
              "      <td>24.0930</td>\n",
              "      <td>134.46</td>\n",
              "      <td>134.534424</td>\n",
              "    </tr>\n",
              "    <tr>\n",
              "      <th>12627</th>\n",
              "      <td>10.791</td>\n",
              "      <td>20.085</td>\n",
              "      <td>1059.6</td>\n",
              "      <td>549.94</td>\n",
              "      <td>3.2106</td>\n",
              "      <td>2.69370</td>\n",
              "      <td>20.4500</td>\n",
              "      <td>111.88</td>\n",
              "      <td>112.070541</td>\n",
              "    </tr>\n",
              "    <tr>\n",
              "      <th>6393</th>\n",
              "      <td>12.126</td>\n",
              "      <td>25.221</td>\n",
              "      <td>1089.9</td>\n",
              "      <td>549.62</td>\n",
              "      <td>4.5325</td>\n",
              "      <td>1.96250</td>\n",
              "      <td>20.2620</td>\n",
              "      <td>133.72</td>\n",
              "      <td>134.040131</td>\n",
              "    </tr>\n",
              "    <tr>\n",
              "      <th>4990</th>\n",
              "      <td>12.218</td>\n",
              "      <td>25.965</td>\n",
              "      <td>1092.9</td>\n",
              "      <td>549.96</td>\n",
              "      <td>4.4266</td>\n",
              "      <td>1.57120</td>\n",
              "      <td>26.8620</td>\n",
              "      <td>133.79</td>\n",
              "      <td>133.832001</td>\n",
              "    </tr>\n",
              "    <tr>\n",
              "      <th>12462</th>\n",
              "      <td>10.466</td>\n",
              "      <td>19.688</td>\n",
              "      <td>1056.9</td>\n",
              "      <td>550.01</td>\n",
              "      <td>3.1241</td>\n",
              "      <td>2.29960</td>\n",
              "      <td>19.4090</td>\n",
              "      <td>110.77</td>\n",
              "      <td>110.862091</td>\n",
              "    </tr>\n",
              "    <tr>\n",
              "      <th>7405</th>\n",
              "      <td>10.624</td>\n",
              "      <td>19.387</td>\n",
              "      <td>1058.9</td>\n",
              "      <td>550.17</td>\n",
              "      <td>3.3709</td>\n",
              "      <td>4.27640</td>\n",
              "      <td>2.2158</td>\n",
              "      <td>113.32</td>\n",
              "      <td>115.102577</td>\n",
              "    </tr>\n",
              "    <tr>\n",
              "      <th>10993</th>\n",
              "      <td>12.088</td>\n",
              "      <td>25.392</td>\n",
              "      <td>1089.7</td>\n",
              "      <td>550.11</td>\n",
              "      <td>3.7871</td>\n",
              "      <td>0.83578</td>\n",
              "      <td>23.8520</td>\n",
              "      <td>133.77</td>\n",
              "      <td>133.458771</td>\n",
              "    </tr>\n",
              "    <tr>\n",
              "      <th>9488</th>\n",
              "      <td>11.498</td>\n",
              "      <td>23.225</td>\n",
              "      <td>1079.4</td>\n",
              "      <td>549.60</td>\n",
              "      <td>4.2837</td>\n",
              "      <td>2.01980</td>\n",
              "      <td>12.3950</td>\n",
              "      <td>128.98</td>\n",
              "      <td>129.453156</td>\n",
              "    </tr>\n",
              "    <tr>\n",
              "      <th>14201</th>\n",
              "      <td>13.971</td>\n",
              "      <td>32.518</td>\n",
              "      <td>1100.1</td>\n",
              "      <td>528.98</td>\n",
              "      <td>5.1559</td>\n",
              "      <td>0.87760</td>\n",
              "      <td>12.3590</td>\n",
              "      <td>159.42</td>\n",
              "      <td>159.942627</td>\n",
              "    </tr>\n",
              "    <tr>\n",
              "      <th>9757</th>\n",
              "      <td>13.862</td>\n",
              "      <td>32.105</td>\n",
              "      <td>1100.0</td>\n",
              "      <td>530.69</td>\n",
              "      <td>5.9309</td>\n",
              "      <td>10.75000</td>\n",
              "      <td>8.6376</td>\n",
              "      <td>161.86</td>\n",
              "      <td>158.854538</td>\n",
              "    </tr>\n",
              "  </tbody>\n",
              "</table>\n",
              "</div>"
            ],
            "text/plain": [
              "          CDP    GTEP     TIT     TAT    AFDP        CO       AT  Actual  \\\n",
              "13312  12.219  25.762  1092.5  550.25  4.0023   1.26430  24.0930  134.46   \n",
              "12627  10.791  20.085  1059.6  549.94  3.2106   2.69370  20.4500  111.88   \n",
              "6393   12.126  25.221  1089.9  549.62  4.5325   1.96250  20.2620  133.72   \n",
              "4990   12.218  25.965  1092.9  549.96  4.4266   1.57120  26.8620  133.79   \n",
              "12462  10.466  19.688  1056.9  550.01  3.1241   2.29960  19.4090  110.77   \n",
              "7405   10.624  19.387  1058.9  550.17  3.3709   4.27640   2.2158  113.32   \n",
              "10993  12.088  25.392  1089.7  550.11  3.7871   0.83578  23.8520  133.77   \n",
              "9488   11.498  23.225  1079.4  549.60  4.2837   2.01980  12.3950  128.98   \n",
              "14201  13.971  32.518  1100.1  528.98  5.1559   0.87760  12.3590  159.42   \n",
              "9757   13.862  32.105  1100.0  530.69  5.9309  10.75000   8.6376  161.86   \n",
              "\n",
              "        Predicted  \n",
              "13312  134.534424  \n",
              "12627  112.070541  \n",
              "6393   134.040131  \n",
              "4990   133.832001  \n",
              "12462  110.862091  \n",
              "7405   115.102577  \n",
              "10993  133.458771  \n",
              "9488   129.453156  \n",
              "14201  159.942627  \n",
              "9757   158.854538  "
            ]
          },
          "execution_count": 67,
          "metadata": {},
          "output_type": "execute_result"
        }
      ],
      "source": [
        "# generating predictions for test data\n",
        "y_predict_test = model.predict(x_test_scaled)\n",
        "\n",
        "# creating table with test price & predicted price for test\n",
        "predictions_df = pd.DataFrame(x_test)\n",
        "predictions_df['Actual'] = y_test\n",
        "predictions_df['Predicted'] = y_predict_test\n",
        "print(predictions_df.shape)\n",
        "predictions_df.head(10)"
      ]
    },
    {
      "cell_type": "code",
      "execution_count": null,
      "id": "ec875c46",
      "metadata": {
        "id": "ec875c46"
      },
      "outputs": [],
      "source": [
        "predictions_df.drop(['CDP','GTEP','TIT','TAT','AFDP','CO','AT'], axis= 1 , inplace= True)"
      ]
    },
    {
      "cell_type": "markdown",
      "id": "2ae3ed9e",
      "metadata": {
        "id": "2ae3ed9e"
      },
      "source": [
        "### 7.3 Calculating Absolute Percent Error and Error"
      ]
    },
    {
      "cell_type": "code",
      "execution_count": null,
      "id": "efd0f0e1",
      "metadata": {
        "id": "efd0f0e1",
        "outputId": "2f08355e-4e3f-45c6-a286-ddcb849b0a36"
      },
      "outputs": [
        {
          "name": "stdout",
          "output_type": "stream",
          "text": [
            "The Accuracy for Test Data -- ANN model =  99.6070861578817\n"
          ]
        },
        {
          "data": {
            "text/html": [
              "<div>\n",
              "<style scoped>\n",
              "    .dataframe tbody tr th:only-of-type {\n",
              "        vertical-align: middle;\n",
              "    }\n",
              "\n",
              "    .dataframe tbody tr th {\n",
              "        vertical-align: top;\n",
              "    }\n",
              "\n",
              "    .dataframe thead th {\n",
              "        text-align: right;\n",
              "    }\n",
              "</style>\n",
              "<table border=\"1\" class=\"dataframe\">\n",
              "  <thead>\n",
              "    <tr style=\"text-align: right;\">\n",
              "      <th></th>\n",
              "      <th>Actual</th>\n",
              "      <th>Predicted</th>\n",
              "      <th>APE %</th>\n",
              "    </tr>\n",
              "  </thead>\n",
              "  <tbody>\n",
              "    <tr>\n",
              "      <th>13312</th>\n",
              "      <td>134.46</td>\n",
              "      <td>134.534424</td>\n",
              "      <td>0.055350</td>\n",
              "    </tr>\n",
              "    <tr>\n",
              "      <th>12627</th>\n",
              "      <td>111.88</td>\n",
              "      <td>112.070541</td>\n",
              "      <td>0.170309</td>\n",
              "    </tr>\n",
              "    <tr>\n",
              "      <th>6393</th>\n",
              "      <td>133.72</td>\n",
              "      <td>134.040131</td>\n",
              "      <td>0.239404</td>\n",
              "    </tr>\n",
              "    <tr>\n",
              "      <th>4990</th>\n",
              "      <td>133.79</td>\n",
              "      <td>133.832001</td>\n",
              "      <td>0.031393</td>\n",
              "    </tr>\n",
              "    <tr>\n",
              "      <th>12462</th>\n",
              "      <td>110.77</td>\n",
              "      <td>110.862091</td>\n",
              "      <td>0.083137</td>\n",
              "    </tr>\n",
              "  </tbody>\n",
              "</table>\n",
              "</div>"
            ],
            "text/plain": [
              "       Actual   Predicted     APE %\n",
              "13312  134.46  134.534424  0.055350\n",
              "12627  111.88  112.070541  0.170309\n",
              "6393   133.72  134.040131  0.239404\n",
              "4990   133.79  133.832001  0.031393\n",
              "12462  110.77  110.862091  0.083137"
            ]
          },
          "execution_count": 69,
          "metadata": {},
          "output_type": "execute_result"
        }
      ],
      "source": [
        "# Computing the absolute percent error\n",
        "APE = 100*(abs(predictions_df['Actual']-predictions_df['Predicted'])/predictions_df['Actual'])\n",
        "print('The Accuracy for Test Data -- ANN model = ', 100-np.mean(APE))\n",
        "\n",
        "# adding absolute percent error to table\n",
        "predictions_df['APE %'] = APE\n",
        "predictions_df.head()"
      ]
    },
    {
      "cell_type": "code",
      "execution_count": null,
      "id": "0e613d7c",
      "metadata": {
        "id": "0e613d7c",
        "outputId": "63011dc2-76e9-49f2-b122-a29f6b1c6064"
      },
      "outputs": [
        {
          "data": {
            "text/html": [
              "<div>\n",
              "<style scoped>\n",
              "    .dataframe tbody tr th:only-of-type {\n",
              "        vertical-align: middle;\n",
              "    }\n",
              "\n",
              "    .dataframe tbody tr th {\n",
              "        vertical-align: top;\n",
              "    }\n",
              "\n",
              "    .dataframe thead th {\n",
              "        text-align: right;\n",
              "    }\n",
              "</style>\n",
              "<table border=\"1\" class=\"dataframe\">\n",
              "  <thead>\n",
              "    <tr style=\"text-align: right;\">\n",
              "      <th></th>\n",
              "      <th>Actual</th>\n",
              "      <th>Predicted</th>\n",
              "      <th>APE %</th>\n",
              "      <th>Error</th>\n",
              "    </tr>\n",
              "  </thead>\n",
              "  <tbody>\n",
              "    <tr>\n",
              "      <th>0</th>\n",
              "      <td>134.46</td>\n",
              "      <td>134.534424</td>\n",
              "      <td>0.055350</td>\n",
              "      <td>-0.000554</td>\n",
              "    </tr>\n",
              "    <tr>\n",
              "      <th>1</th>\n",
              "      <td>111.88</td>\n",
              "      <td>112.070541</td>\n",
              "      <td>0.170309</td>\n",
              "      <td>-0.001703</td>\n",
              "    </tr>\n",
              "    <tr>\n",
              "      <th>2</th>\n",
              "      <td>133.72</td>\n",
              "      <td>134.040131</td>\n",
              "      <td>0.239404</td>\n",
              "      <td>-0.002394</td>\n",
              "    </tr>\n",
              "    <tr>\n",
              "      <th>3</th>\n",
              "      <td>133.79</td>\n",
              "      <td>133.832001</td>\n",
              "      <td>0.031393</td>\n",
              "      <td>-0.000314</td>\n",
              "    </tr>\n",
              "    <tr>\n",
              "      <th>4</th>\n",
              "      <td>110.77</td>\n",
              "      <td>110.862091</td>\n",
              "      <td>0.083137</td>\n",
              "      <td>-0.000831</td>\n",
              "    </tr>\n",
              "    <tr>\n",
              "      <th>...</th>\n",
              "      <td>...</td>\n",
              "      <td>...</td>\n",
              "      <td>...</td>\n",
              "      <td>...</td>\n",
              "    </tr>\n",
              "    <tr>\n",
              "      <th>3003</th>\n",
              "      <td>119.25</td>\n",
              "      <td>119.384911</td>\n",
              "      <td>0.113133</td>\n",
              "      <td>-0.001131</td>\n",
              "    </tr>\n",
              "    <tr>\n",
              "      <th>3004</th>\n",
              "      <td>133.74</td>\n",
              "      <td>134.031830</td>\n",
              "      <td>0.218207</td>\n",
              "      <td>-0.002182</td>\n",
              "    </tr>\n",
              "    <tr>\n",
              "      <th>3005</th>\n",
              "      <td>146.31</td>\n",
              "      <td>146.708359</td>\n",
              "      <td>0.272270</td>\n",
              "      <td>-0.002723</td>\n",
              "    </tr>\n",
              "    <tr>\n",
              "      <th>3006</th>\n",
              "      <td>150.07</td>\n",
              "      <td>149.802231</td>\n",
              "      <td>0.178430</td>\n",
              "      <td>0.001784</td>\n",
              "    </tr>\n",
              "    <tr>\n",
              "      <th>3007</th>\n",
              "      <td>111.77</td>\n",
              "      <td>111.550140</td>\n",
              "      <td>0.196707</td>\n",
              "      <td>0.001967</td>\n",
              "    </tr>\n",
              "  </tbody>\n",
              "</table>\n",
              "<p>3008 rows × 4 columns</p>\n",
              "</div>"
            ],
            "text/plain": [
              "      Actual   Predicted     APE %     Error\n",
              "0     134.46  134.534424  0.055350 -0.000554\n",
              "1     111.88  112.070541  0.170309 -0.001703\n",
              "2     133.72  134.040131  0.239404 -0.002394\n",
              "3     133.79  133.832001  0.031393 -0.000314\n",
              "4     110.77  110.862091  0.083137 -0.000831\n",
              "...      ...         ...       ...       ...\n",
              "3003  119.25  119.384911  0.113133 -0.001131\n",
              "3004  133.74  134.031830  0.218207 -0.002182\n",
              "3005  146.31  146.708359  0.272270 -0.002723\n",
              "3006  150.07  149.802231  0.178430  0.001784\n",
              "3007  111.77  111.550140  0.196707  0.001967\n",
              "\n",
              "[3008 rows x 4 columns]"
            ]
          },
          "execution_count": 70,
          "metadata": {},
          "output_type": "execute_result"
        }
      ],
      "source": [
        "predictions_df['Error'] = (predictions_df['Actual'] - predictions_df['Predicted'])/(predictions_df['Actual'])\n",
        "predictions_df.reset_index(drop = True)"
      ]
    },
    {
      "cell_type": "markdown",
      "id": "df0896d8",
      "metadata": {
        "id": "df0896d8"
      },
      "source": [
        "### 7.4 Visualizing the Relationship between the Actual and Predicted ValuesModel Validation"
      ]
    },
    {
      "cell_type": "code",
      "execution_count": null,
      "id": "25430267",
      "metadata": {
        "id": "25430267",
        "outputId": "2dff3a84-8d0f-4b7d-ccd0-4b6ea7820be3"
      },
      "outputs": [
        {
          "data": {
            "text/plain": [
              "<matplotlib.collections.PathCollection at 0x2604b912fa0>"
            ]
          },
          "execution_count": 71,
          "metadata": {},
          "output_type": "execute_result"
        },
        {
          "data": {
            "image/png": "[encoded data removed]",
            "text/plain": [
              "<Figure size 648x432 with 1 Axes>"
            ]
          },
          "metadata": {},
          "output_type": "display_data"
        }
      ],
      "source": [
        "plt.figure(figsize=(9,6))\n",
        "plt.xlabel(\"Actual Values\")\n",
        "plt.ylabel(\"Predicted values\")\n",
        "plt.title(\"The Scatterplot of Relationship between Actual Values and Predictions\")\n",
        "plt.scatter(predictions_df['Actual'], predictions_df['Predicted'])"
      ]
    },
    {
      "cell_type": "markdown",
      "id": "3f0a7402",
      "metadata": {
        "id": "3f0a7402"
      },
      "source": [
        "#### We will evaluate our model performance by calculating the residual sum of squares and the explained variance score"
      ]
    },
    {
      "cell_type": "code",
      "execution_count": null,
      "id": "5adb0b65",
      "metadata": {
        "id": "5adb0b65",
        "outputId": "735f767d-77ad-40b7-887f-ba1ac30eaee4"
      },
      "outputs": [
        {
          "name": "stdout",
          "output_type": "stream",
          "text": [
            "MAE  : 0.5341054840290803\n",
            "MSE  : 0.6361698833098869\n",
            "RMSE : 0.7976025848189604\n"
          ]
        }
      ],
      "source": [
        "from sklearn import metrics\n",
        "print(\"MAE  :\",metrics.mean_absolute_error(y_test,y_predict_test))\n",
        "print(\"MSE  :\",metrics.mean_squared_error(y_test,y_predict_test))\n",
        "print(\"RMSE :\",np.sqrt(metrics.mean_squared_error(y_test,y_predict_test)))"
      ]
    },
    {
      "cell_type": "code",
      "execution_count": null,
      "id": "e7acd9cc",
      "metadata": {
        "id": "e7acd9cc",
        "outputId": "ad9e4ee1-a49c-4274-fd89-e188205c1d2a"
      },
      "outputs": [
        {
          "name": "stdout",
          "output_type": "stream",
          "text": [
            "94/94 [==============================] - 0s 920us/step\n",
            "376/376 [==============================] - 0s 1000us/step\n",
            "R2_score (train) :  0.9973420722587665\n",
            "R2_score (test)  :  0.9974592801047505\n"
          ]
        }
      ],
      "source": [
        "from sklearn.metrics import mean_squared_error, mean_absolute_error, r2_score\n",
        "y_predict_test = model.predict(x_test_scaled)\n",
        "y_predict_train = model.predict(x_train_scaled)\n",
        "print('R2_score (train) : ',r2_score(y_train, y_predict_train))\n",
        "print('R2_score (test)  : ',r2_score(y_test, y_predict_test))"
      ]
    },
    {
      "cell_type": "markdown",
      "id": "cafcd20d",
      "metadata": {
        "id": "cafcd20d"
      },
      "source": [
        "### Evaluation of  the explained variance score (R^2)"
      ]
    },
    {
      "cell_type": "code",
      "execution_count": null,
      "id": "eab6646b",
      "metadata": {
        "id": "eab6646b",
        "outputId": "2d97bfe3-4792-41e3-9051-f4e26b4be70c"
      },
      "outputs": [
        {
          "name": "stdout",
          "output_type": "stream",
          "text": [
            "This shows our model predict % 99.75 of the target correctly\n"
          ]
        }
      ],
      "source": [
        "print('This shows our model predict % {} of the target correctly'.format(np.round(metrics.explained_variance_score(y_test,y_predict_test)*100,2)))"
      ]
    },
    {
      "cell_type": "markdown",
      "id": "e57c87bf",
      "metadata": {
        "id": "e57c87bf"
      },
      "source": [
        "### 7.5 Residual Analysis"
      ]
    },
    {
      "cell_type": "markdown",
      "id": "692d5b8c",
      "metadata": {
        "id": "692d5b8c"
      },
      "source": [
        "### Test for Normality of Residuals (Q-Q Plot)"
      ]
    },
    {
      "cell_type": "code",
      "execution_count": null,
      "id": "e887fc7e",
      "metadata": {
        "id": "e887fc7e",
        "outputId": "4b39620b-b3d2-48ee-f9b2-7f532fb81228"
      },
      "outputs": [
        {
          "data": {
            "text/plain": [
              "<AxesSubplot:ylabel='Density'>"
            ]
          },
          "execution_count": 75,
          "metadata": {},
          "output_type": "execute_result"
        },
        {
          "data": {
            "image/png": "[encoded data removed]",
            "text/plain": [
              "<Figure size 648x432 with 1 Axes>"
            ]
          },
          "metadata": {},
          "output_type": "display_data"
        }
      ],
      "source": [
        "# Now we will visualize the differences between our predictions and actual y test data\n",
        "plt.figure(figsize=(9,6))\n",
        "sns.distplot(y_test-y_predict_test,bins=50) # this figure also proves that our model fits very good"
      ]
    },
    {
      "cell_type": "markdown",
      "id": "b6e83d91",
      "metadata": {
        "id": "b6e83d91"
      },
      "source": [
        "#### There is no huge differences between our predictions and actual y data"
      ]
    },
    {
      "cell_type": "code",
      "execution_count": null,
      "id": "5c9ae618",
      "metadata": {
        "id": "5c9ae618",
        "outputId": "48d66295-4024-4e41-955e-dbc92df7635c"
      },
      "outputs": [
        {
          "data": {
            "image/png": "[encoded data removed]",
            "text/plain": [
              "<Figure size 648x432 with 1 Axes>"
            ]
          },
          "metadata": {},
          "output_type": "display_data"
        }
      ],
      "source": [
        "import statsmodels.api as smf\n",
        "plt.rcParams[\"figure.figsize\"] = (9,6)\n",
        "smf.qqplot(predictions_df['Error'], line= 'q')\n",
        "plt.title('Normal Q-Q plot of residuals')\n",
        "plt.show()"
      ]
    },
    {
      "cell_type": "markdown",
      "id": "290994b1",
      "metadata": {
        "id": "290994b1"
      },
      "source": [
        "### Observation: Error should have Normal / Gaussian distribution~N(0,1) and independently and identically distributed."
      ]
    },
    {
      "cell_type": "markdown",
      "id": "af896e0c",
      "metadata": {
        "id": "af896e0c"
      },
      "source": [
        "# The End !!"
      ]
    }
  ],
  "metadata": {
    "kernelspec": {
      "display_name": "Python 3 (ipykernel)",
      "language": "python",
      "name": "python3"
    },
    "language_info": {
      "codemirror_mode": {
        "name": "ipython",
        "version": 3
      },
      "file_extension": ".py",
      "mimetype": "text/x-python",
      "name": "python",
      "nbconvert_exporter": "python",
      "pygments_lexer": "ipython3",
      "version": "3.9.12"
    },
    "colab": {
      "provenance": [],
      "include_colab_link": true
    }
  },
  "nbformat": 4,
  "nbformat_minor": 5
}